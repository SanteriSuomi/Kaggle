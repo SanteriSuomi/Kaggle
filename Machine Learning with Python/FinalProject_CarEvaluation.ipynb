{
 "cells": [
  {
   "cell_type": "code",
   "execution_count": 291,
   "metadata": {},
   "outputs": [],
   "source": [
    "import pandas as pd\r\n",
    "import numpy as np\r\n",
    "import matplotlib.pyplot as plt\r\n",
    "from sklearn.preprocessing import OrdinalEncoder\r\n",
    "from sklearn.impute import KNNImputer\r\n",
    "from sklearn.model_selection import train_test_split\r\n",
    "from sklearn.svm import SVC\r\n",
    "from sklearn.neighbors import KNeighborsClassifier\r\n",
    "from sklearn.linear_model import LogisticRegression\r\n",
    "from sklearn.tree import DecisionTreeClassifier\r\n",
    "from sklearn.metrics import precision_recall_fscore_support\r\n",
    "from sklearn.metrics import plot_confusion_matrix"
   ]
  },
  {
   "cell_type": "code",
   "execution_count": 292,
   "metadata": {},
   "outputs": [
    {
     "data": {
      "text/html": [
       "<div>\n",
       "<style scoped>\n",
       "    .dataframe tbody tr th:only-of-type {\n",
       "        vertical-align: middle;\n",
       "    }\n",
       "\n",
       "    .dataframe tbody tr th {\n",
       "        vertical-align: top;\n",
       "    }\n",
       "\n",
       "    .dataframe thead th {\n",
       "        text-align: right;\n",
       "    }\n",
       "</style>\n",
       "<table border=\"1\" class=\"dataframe\">\n",
       "  <thead>\n",
       "    <tr style=\"text-align: right;\">\n",
       "      <th></th>\n",
       "      <th>buying</th>\n",
       "      <th>maint</th>\n",
       "      <th>doors</th>\n",
       "      <th>persons</th>\n",
       "      <th>lug_boot</th>\n",
       "      <th>safety</th>\n",
       "      <th>class</th>\n",
       "    </tr>\n",
       "  </thead>\n",
       "  <tbody>\n",
       "    <tr>\n",
       "      <th>0</th>\n",
       "      <td>vhigh</td>\n",
       "      <td>vhigh</td>\n",
       "      <td>2</td>\n",
       "      <td>2</td>\n",
       "      <td>small</td>\n",
       "      <td>low</td>\n",
       "      <td>unacc</td>\n",
       "    </tr>\n",
       "    <tr>\n",
       "      <th>1</th>\n",
       "      <td>vhigh</td>\n",
       "      <td>vhigh</td>\n",
       "      <td>2</td>\n",
       "      <td>2</td>\n",
       "      <td>small</td>\n",
       "      <td>med</td>\n",
       "      <td>unacc</td>\n",
       "    </tr>\n",
       "    <tr>\n",
       "      <th>2</th>\n",
       "      <td>vhigh</td>\n",
       "      <td>vhigh</td>\n",
       "      <td>2</td>\n",
       "      <td>2</td>\n",
       "      <td>small</td>\n",
       "      <td>high</td>\n",
       "      <td>unacc</td>\n",
       "    </tr>\n",
       "    <tr>\n",
       "      <th>3</th>\n",
       "      <td>vhigh</td>\n",
       "      <td>vhigh</td>\n",
       "      <td>2</td>\n",
       "      <td>2</td>\n",
       "      <td>med</td>\n",
       "      <td>low</td>\n",
       "      <td>unacc</td>\n",
       "    </tr>\n",
       "    <tr>\n",
       "      <th>4</th>\n",
       "      <td>vhigh</td>\n",
       "      <td>vhigh</td>\n",
       "      <td>2</td>\n",
       "      <td>2</td>\n",
       "      <td>med</td>\n",
       "      <td>med</td>\n",
       "      <td>unacc</td>\n",
       "    </tr>\n",
       "  </tbody>\n",
       "</table>\n",
       "</div>"
      ],
      "text/plain": [
       "  buying  maint doors persons lug_boot safety  class\n",
       "0  vhigh  vhigh     2       2    small    low  unacc\n",
       "1  vhigh  vhigh     2       2    small    med  unacc\n",
       "2  vhigh  vhigh     2       2    small   high  unacc\n",
       "3  vhigh  vhigh     2       2      med    low  unacc\n",
       "4  vhigh  vhigh     2       2      med    med  unacc"
      ]
     },
     "execution_count": 292,
     "metadata": {},
     "output_type": "execute_result"
    }
   ],
   "source": [
    "data = pd.read_csv(\"car_evaluation.csv\")\r\n",
    "data.head()"
   ]
  },
  {
   "cell_type": "code",
   "execution_count": 293,
   "metadata": {},
   "outputs": [
    {
     "name": "stdout",
     "output_type": "stream",
     "text": [
      "Samples: 1728\n",
      "Features: 7\n",
      "\n",
      "Samples per class: \n",
      "       buying  maint  doors  persons  lug_boot  safety\n",
      "class                                                 \n",
      "acc       384    384    384      384       384     384\n",
      "good       69     69     69       69        69      69\n",
      "unacc    1210   1210   1210     1210      1210    1210\n",
      "vgood      65     65     65       65        65      65\n",
      "\n",
      "Different number of doors:\n",
      "       buying  maint  persons  lug_boot  safety  class\n",
      "doors                                                 \n",
      "2         432    432      432       432     432    432\n",
      "3         432    432      432       432     432    432\n",
      "4         432    432      432       432     432    432\n",
      "5more     432    432      432       432     432    432\n",
      "\n",
      "Diffrent luggage sizes: \n",
      "          buying  maint  doors  persons  safety  class\n",
      "lug_boot                                              \n",
      "big          576    576    576      576     576    576\n",
      "med          576    576    576      576     576    576\n",
      "small        576    576    576      576     576    576\n"
     ]
    }
   ],
   "source": [
    "samples, features = data.shape\r\n",
    "samples_per_class = data.groupby(\"class\").count()\r\n",
    "diff_number_of_doors = data.groupby(\"doors\").count()\r\n",
    "diff_luggage_size = data.groupby(\"lug_boot\").count()\r\n",
    "print(f\"\"\"Samples: {samples}\r\n",
    "Features: {features}\r\n",
    "\r\n",
    "Samples per class: \r\n",
    "{samples_per_class}\r\n",
    "\r\n",
    "Different number of doors:\r\n",
    "{diff_number_of_doors}\r\n",
    "\r\n",
    "Diffrent luggage sizes: \r\n",
    "{diff_luggage_size}\"\"\")"
   ]
  },
  {
   "cell_type": "code",
   "execution_count": 294,
   "metadata": {},
   "outputs": [
    {
     "name": "stdout",
     "output_type": "stream",
     "text": [
      "[[3. 3. 0. 0. 2. 1. 2.]\n",
      " [3. 3. 0. 0. 2. 2. 2.]\n",
      " [3. 3. 0. 0. 2. 0. 2.]\n",
      " [3. 3. 0. 0. 1. 1. 2.]\n",
      " [3. 3. 0. 0. 1. 2. 2.]]\n"
     ]
    }
   ],
   "source": [
    "# Transform categorical variables into numerical values\r\n",
    "enc = OrdinalEncoder()\r\n",
    "data_encoded = enc.fit_transform(data)\r\n",
    "print(data_encoded[:5,:])"
   ]
  },
  {
   "cell_type": "code",
   "execution_count": 295,
   "metadata": {},
   "outputs": [
    {
     "name": "stdout",
     "output_type": "stream",
     "text": [
      "buying      0\n",
      "maint       0\n",
      "doors       0\n",
      "persons     0\n",
      "lug_boot    0\n",
      "safety      0\n",
      "class       0\n",
      "dtype: int64\n"
     ]
    }
   ],
   "source": [
    "print(data.isna().sum())\r\n",
    "# There is no empty values in the dataset, but impute anyway?\r\n",
    "\r\n",
    "knn_imp = KNNImputer(n_neighbors=1)\r\n",
    "X = knn_imp.fit_transform(data_encoded)"
   ]
  },
  {
   "cell_type": "code",
   "execution_count": 296,
   "metadata": {},
   "outputs": [],
   "source": [
    "y = data.pop(\"class\")"
   ]
  },
  {
   "cell_type": "code",
   "execution_count": 297,
   "metadata": {},
   "outputs": [],
   "source": [
    "X_train, X_test, y_train, y_test = train_test_split(X, y, stratify=y)"
   ]
  },
  {
   "cell_type": "code",
   "execution_count": 298,
   "metadata": {},
   "outputs": [
    {
     "data": {
      "text/plain": [
       "SVC()"
      ]
     },
     "execution_count": 298,
     "metadata": {},
     "output_type": "execute_result"
    }
   ],
   "source": [
    "svc = SVC(kernel=\"rbf\")\r\n",
    "svc.fit(X_train, y_train)"
   ]
  },
  {
   "cell_type": "code",
   "execution_count": 299,
   "metadata": {},
   "outputs": [
    {
     "data": {
      "text/plain": [
       "KNeighborsClassifier(metric='manhattan', n_neighbors=3)"
      ]
     },
     "execution_count": 299,
     "metadata": {},
     "output_type": "execute_result"
    }
   ],
   "source": [
    "knc = KNeighborsClassifier(n_neighbors=3, metric=\"manhattan\")\r\n",
    "knc.fit(X_train, y_train)"
   ]
  },
  {
   "cell_type": "code",
   "execution_count": 300,
   "metadata": {},
   "outputs": [
    {
     "data": {
      "text/plain": [
       "LogisticRegression(solver='liblinear')"
      ]
     },
     "execution_count": 300,
     "metadata": {},
     "output_type": "execute_result"
    }
   ],
   "source": [
    "lg = LogisticRegression(solver=\"liblinear\")\r\n",
    "lg.fit(X_train, y_train)"
   ]
  },
  {
   "cell_type": "code",
   "execution_count": 301,
   "metadata": {},
   "outputs": [
    {
     "name": "stdout",
     "output_type": "stream",
     "text": [
      "DTree depth: 2\n"
     ]
    }
   ],
   "source": [
    "dtree = DecisionTreeClassifier()\r\n",
    "dtree.fit(X_train, y_train)\r\n",
    "print(f\"DTree depth: {dtree.get_depth()}\")"
   ]
  },
  {
   "cell_type": "code",
   "execution_count": 302,
   "metadata": {},
   "outputs": [
    {
     "data": {
      "image/png": "[encoded data removed]",
      "text/plain": [
       "<Figure size 432x288 with 1 Axes>"
      ]
     },
     "metadata": {
      "needs_background": "light"
     },
     "output_type": "display_data"
    }
   ],
   "source": [
    "plt.figure()\r\n",
    "plt.xlabel(\"Model Score\")\r\n",
    "plt.ylabel(\"Value of K\")\r\n",
    "plt.yticks(range(1, 11))\r\n",
    "for i in range(1, 11):\r\n",
    "    knc.n_neighbors = i\r\n",
    "    knc.fit(X_train, y_train)\r\n",
    "    score = knc.score(X_test, y_test)\r\n",
    "    plt.scatter(score, i)\r\n",
    "plt.show()"
   ]
  },
  {
   "cell_type": "markdown",
   "metadata": {},
   "source": [
    "## All values of K perform great, but it seems that K value of 1 performs the best most consistently."
   ]
  },
  {
   "cell_type": "code",
   "execution_count": 303,
   "metadata": {},
   "outputs": [
    {
     "name": "stdout",
     "output_type": "stream",
     "text": [
      "SVC\n",
      "Training set score: 1.0\n",
      "Testing set score: 1.0\n",
      "Precision, recall, F1 (for each class, in order): 1.0, 1.0, 1.0\n",
      "\n",
      "KNN\n",
      "Training set score: 1.0\n",
      "Testing set score: 1.0\n",
      "Precision, recall, F1 (for each class, in order): 1.0, 1.0, 1.0\n",
      "\n",
      "Logistic Regression\n",
      "Training set score: 0.9259259259259259\n",
      "Testing set score: 0.9236111111111112\n",
      "Precision, recall, F1 (for each class, in order): 0.5961476466795615, 0.5295998349834984, 0.5342867575462512\n",
      "\n",
      "Decision Tree\n",
      "Training set score: 1.0\n",
      "Testing set score: 1.0\n",
      "Precision, recall, F1 (for each class, in order): 1.0, 1.0, 1.0\n",
      "\n"
     ]
    },
    {
     "name": "stderr",
     "output_type": "stream",
     "text": [
      "C:\\Users\\razor\\AppData\\Local\\Programs\\Python\\Python39\\lib\\site-packages\\sklearn\\metrics\\_classification.py:1248: UndefinedMetricWarning: Precision and F-score are ill-defined and being set to 0.0 in labels with no predicted samples. Use `zero_division` parameter to control this behavior.\n",
      "  _warn_prf(average, modifier, msg_start, len(result))\n"
     ]
    }
   ],
   "source": [
    "# Calculate the average precision, recall and fscore of whole model\r\n",
    "prf = precision_recall_fscore_support(y_test, svc.predict(X_test), average=\"macro\")\r\n",
    "print(f\"\"\"SVC\r\n",
    "Training set score: {svc.score(X_train, y_train)}\r\n",
    "Testing set score: {svc.score(X_test, y_test)}\r\n",
    "Precision, recall, F1 (for each class, in order): {prf[0]}, {prf[1]}, {prf[2]}\r\n",
    "\"\"\")\r\n",
    "\r\n",
    "prf = precision_recall_fscore_support(y_test, knc.predict(X_test), average=\"macro\")\r\n",
    "print(f\"\"\"KNN\r\n",
    "Training set score: {knc.score(X_train, y_train)}\r\n",
    "Testing set score: {knc.score(X_test, y_test)}\r\n",
    "Precision, recall, F1 (for each class, in order): {prf[0]}, {prf[1]}, {prf[2]}\r\n",
    "\"\"\")\r\n",
    "\r\n",
    "prf = precision_recall_fscore_support(y_test, lg.predict(X_test), average=\"macro\")\r\n",
    "print(f\"\"\"Logistic Regression\r\n",
    "Training set score: {lg.score(X_train, y_train)}\r\n",
    "Testing set score: {lg.score(X_test, y_test)}\r\n",
    "Precision, recall, F1 (for each class, in order): {prf[0]}, {prf[1]}, {prf[2]}\r\n",
    "\"\"\")\r\n",
    "\r\n",
    "prf = precision_recall_fscore_support(y_test, dtree.predict(X_test), average=\"macro\")\r\n",
    "print(f\"\"\"Decision Tree\r\n",
    "Training set score: {dtree.score(X_train, y_train)}\r\n",
    "Testing set score: {dtree.score(X_test, y_test)}\r\n",
    "Precision, recall, F1 (for each class, in order): {prf[0]}, {prf[1]}, {prf[2]}\r\n",
    "\"\"\")"
   ]
  },
  {
   "cell_type": "code",
   "execution_count": 304,
   "metadata": {},
   "outputs": [
    {
     "data": {
      "image/png": "[encoded data removed]",
      "text/plain": [
       "<Figure size 432x288 with 2 Axes>"
      ]
     },
     "metadata": {
      "needs_background": "light"
     },
     "output_type": "display_data"
    },
    {
     "data": {
      "image/png": "[encoded data removed]",
      "text/plain": [
       "<Figure size 432x288 with 2 Axes>"
      ]
     },
     "metadata": {
      "needs_background": "light"
     },
     "output_type": "display_data"
    },
    {
     "data": {
      "image/png": "[encoded data removed]",
      "text/plain": [
       "<Figure size 432x288 with 2 Axes>"
      ]
     },
     "metadata": {
      "needs_background": "light"
     },
     "output_type": "display_data"
    },
    {
     "data": {
      "image/png": "[encoded data removed]",
      "text/plain": [
       "<Figure size 432x288 with 2 Axes>"
      ]
     },
     "metadata": {
      "needs_background": "light"
     },
     "output_type": "display_data"
    }
   ],
   "source": [
    "plot_confusion_matrix(svc, X_test, y_test)\r\n",
    "plt.title(\"SVC\")\r\n",
    "plt.show()\r\n",
    "\r\n",
    "plot_confusion_matrix(knc, X_test, y_test)\r\n",
    "plt.title(\"KNC\")\r\n",
    "plt.show()\r\n",
    "\r\n",
    "plot_confusion_matrix(lg, X_test, y_test)\r\n",
    "plt.title(\"Logistic Regression\")\r\n",
    "plt.show()\r\n",
    "\r\n",
    "plot_confusion_matrix(dtree, X_test, y_test)\r\n",
    "plt.title(\"Decision Tree\")\r\n",
    "plt.show()"
   ]
  },
  {
   "cell_type": "markdown",
   "metadata": {},
   "source": [
    "## According to the scores, metrics and the confusion matrix it seems that every model performs almost flawlessly on this dataset except Logistic Regression, which performs very poorly, and misclassifies quite a bit."
   ]
  }
 ],
 "metadata": {
  "interpreter": {
   "hash": "1218f8633f43367309b170999cb90479aaeb899dcd8661bd99535d7fc903351d"
  },
  "kernelspec": {
   "display_name": "Python 3.9.5 64-bit",
   "name": "python3"
  },
  "language_info": {
   "codemirror_mode": {
    "name": "ipython",
    "version": 3
   },
   "file_extension": ".py",
   "mimetype": "text/x-python",
   "name": "python",
   "nbconvert_exporter": "python",
   "pygments_lexer": "ipython3",
   "version": "3.9.5"
  },
  "orig_nbformat": 2
 },
 "nbformat": 4,
 "nbformat_minor": 2
}