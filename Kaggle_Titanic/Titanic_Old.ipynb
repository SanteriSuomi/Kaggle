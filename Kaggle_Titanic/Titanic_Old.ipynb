{
 "cells": [
  {
   "cell_type": "markdown",
   "metadata": {},
   "source": [
    "### My solution notebook for the Kaggle Titanic competition. Also my first ever try at this, so the code is probably terrible."
   ]
  },
  {
   "cell_type": "code",
   "execution_count": 425,
   "metadata": {},
   "outputs": [],
   "source": [
    "import pandas as pd\n",
    "import numpy as np\n",
    "import matplotlib.pyplot as plt\n",
    "import seaborn as sb\n",
    "from sklearn.impute import KNNImputer, SimpleImputer\n",
    "from scipy import stats\n",
    "from sklearn.ensemble import RandomForestClassifier, AdaBoostClassifier\n",
    "from sklearn.model_selection import train_test_split\n",
    "from sklearn.neighbors import KNeighborsClassifier\n",
    "from sklearn.svm import SVC"
   ]
  },
  {
   "cell_type": "code",
   "execution_count": 426,
   "metadata": {},
   "outputs": [],
   "source": [
    "data_raw = pd.read_csv(\"train.csv\") # Raw training data\n",
    "combined = data_raw.copy()\n",
    "target = data_raw.pop(\"Survived\") # Remove target values from training data\n",
    "\n",
    "test = pd.read_csv(\"test.csv\") # Raw testing data from which final predictions are made from\n",
    "\n",
    "# Remove some data that is most likely not relevant to the predictions\n",
    "data_raw.pop(\"PassengerId\")\n",
    "data_raw.pop(\"Ticket\")\n",
    "data_raw.pop(\"Cabin\")\n",
    "\n",
    "pass_ids_test = test.pop(\"PassengerId\") # Save passenger ids for later\n",
    "test.pop(\"Ticket\")\n",
    "test.pop(\"Cabin\")\n",
    "\n",
    "# Convert sex to numeric values immediately, as we're sure they're correlated to survival\n",
    "data_raw.replace([\"male\", \"female\"], [0, 1], inplace=True) \n",
    "test.replace([\"male\", \"female\"], [0, 1], inplace=True)"
   ]
  },
  {
   "cell_type": "code",
   "execution_count": 427,
   "metadata": {},
   "outputs": [
    {
     "name": "stdout",
     "output_type": "stream",
     "text": [
      "   Pclass  Survived\n",
      "0       1  0.629630\n",
      "1       2  0.472826\n",
      "2       3  0.242363\n",
      "\n",
      "      Sex  Survived\n",
      "0  female  0.742038\n",
      "1    male  0.188908\n"
     ]
    }
   ],
   "source": [
    "pclass_survival_ratio = combined[[\"Pclass\", \"Survived\"]].groupby([\"Pclass\"], as_index=False).mean().sort_values(by=\"Survived\", ascending=False)\n",
    "sex_survival_ratio = combined[[\"Sex\", \"Survived\"]].groupby([\"Sex\"], as_index=False).mean().sort_values(by=\"Survived\", ascending=False)\n",
    "print(f\"\"\"{pclass_survival_ratio}\n",
    "\n",
    "{sex_survival_ratio}\"\"\")\n",
    "# Strong correlation with passenger class and survival / sex and survival."
   ]
  },
  {
   "cell_type": "code",
   "execution_count": 428,
   "metadata": {},
   "outputs": [],
   "source": [
    " # Engineer a new \"family size\" feature from siblings/spouses + parents/children\n",
    "data_raw[\"Family_Size\"] = data_raw[\"SibSp\"] + data_raw[\"Parch\"]\n",
    "test[\"Family_Size\"] = test[\"SibSp\"] + test[\"Parch\"]"
   ]
  },
  {
   "cell_type": "code",
   "execution_count": 429,
   "metadata": {},
   "outputs": [
    {
     "data": {
      "text/html": [
       "<div>\n",
       "<style scoped>\n",
       "    .dataframe tbody tr th:only-of-type {\n",
       "        vertical-align: middle;\n",
       "    }\n",
       "\n",
       "    .dataframe tbody tr th {\n",
       "        vertical-align: top;\n",
       "    }\n",
       "\n",
       "    .dataframe thead th {\n",
       "        text-align: right;\n",
       "    }\n",
       "</style>\n",
       "<table border=\"1\" class=\"dataframe\">\n",
       "  <thead>\n",
       "    <tr style=\"text-align: right;\">\n",
       "      <th></th>\n",
       "      <th>Name</th>\n",
       "      <th>Embarked</th>\n",
       "    </tr>\n",
       "  </thead>\n",
       "  <tbody>\n",
       "    <tr>\n",
       "      <th>count</th>\n",
       "      <td>891</td>\n",
       "      <td>889</td>\n",
       "    </tr>\n",
       "    <tr>\n",
       "      <th>unique</th>\n",
       "      <td>891</td>\n",
       "      <td>3</td>\n",
       "    </tr>\n",
       "    <tr>\n",
       "      <th>top</th>\n",
       "      <td>Wick, Mrs. George Dennick (Mary Hitchcock)</td>\n",
       "      <td>S</td>\n",
       "    </tr>\n",
       "    <tr>\n",
       "      <th>freq</th>\n",
       "      <td>1</td>\n",
       "      <td>644</td>\n",
       "    </tr>\n",
       "  </tbody>\n",
       "</table>\n",
       "</div>"
      ],
      "text/plain": [
       "                                              Name Embarked\n",
       "count                                          891      889\n",
       "unique                                         891        3\n",
       "top     Wick, Mrs. George Dennick (Mary Hitchcock)        S\n",
       "freq                                             1      644"
      ]
     },
     "execution_count": 429,
     "metadata": {},
     "output_type": "execute_result"
    }
   ],
   "source": [
    "data_raw.describe(include=[\"O\"])"
   ]
  },
  {
   "cell_type": "code",
   "execution_count": 430,
   "metadata": {},
   "outputs": [],
   "source": [
    "test.replace([\"C\", \"Q\", \"S\"], [0, 1, 2], inplace=True)\n",
    "data_raw.replace([\"C\", \"Q\", \"S\"], [0, 1, 2], inplace=True)"
   ]
  },
  {
   "cell_type": "code",
   "execution_count": 431,
   "metadata": {},
   "outputs": [
    {
     "data": {
      "text/html": [
       "<div>\n",
       "<style scoped>\n",
       "    .dataframe tbody tr th:only-of-type {\n",
       "        vertical-align: middle;\n",
       "    }\n",
       "\n",
       "    .dataframe tbody tr th {\n",
       "        vertical-align: top;\n",
       "    }\n",
       "\n",
       "    .dataframe thead th {\n",
       "        text-align: right;\n",
       "    }\n",
       "</style>\n",
       "<table border=\"1\" class=\"dataframe\">\n",
       "  <thead>\n",
       "    <tr style=\"text-align: right;\">\n",
       "      <th>Sex</th>\n",
       "      <th>0</th>\n",
       "      <th>1</th>\n",
       "    </tr>\n",
       "    <tr>\n",
       "      <th>Title</th>\n",
       "      <th></th>\n",
       "      <th></th>\n",
       "    </tr>\n",
       "  </thead>\n",
       "  <tbody>\n",
       "    <tr>\n",
       "      <th>Capt</th>\n",
       "      <td>1</td>\n",
       "      <td>0</td>\n",
       "    </tr>\n",
       "    <tr>\n",
       "      <th>Col</th>\n",
       "      <td>2</td>\n",
       "      <td>0</td>\n",
       "    </tr>\n",
       "    <tr>\n",
       "      <th>Countess</th>\n",
       "      <td>0</td>\n",
       "      <td>1</td>\n",
       "    </tr>\n",
       "    <tr>\n",
       "      <th>Don</th>\n",
       "      <td>1</td>\n",
       "      <td>0</td>\n",
       "    </tr>\n",
       "    <tr>\n",
       "      <th>Dr</th>\n",
       "      <td>6</td>\n",
       "      <td>1</td>\n",
       "    </tr>\n",
       "    <tr>\n",
       "      <th>Jonkheer</th>\n",
       "      <td>1</td>\n",
       "      <td>0</td>\n",
       "    </tr>\n",
       "    <tr>\n",
       "      <th>Lady</th>\n",
       "      <td>0</td>\n",
       "      <td>1</td>\n",
       "    </tr>\n",
       "    <tr>\n",
       "      <th>Major</th>\n",
       "      <td>2</td>\n",
       "      <td>0</td>\n",
       "    </tr>\n",
       "    <tr>\n",
       "      <th>Master</th>\n",
       "      <td>40</td>\n",
       "      <td>0</td>\n",
       "    </tr>\n",
       "    <tr>\n",
       "      <th>Miss</th>\n",
       "      <td>0</td>\n",
       "      <td>182</td>\n",
       "    </tr>\n",
       "    <tr>\n",
       "      <th>Mlle</th>\n",
       "      <td>0</td>\n",
       "      <td>2</td>\n",
       "    </tr>\n",
       "    <tr>\n",
       "      <th>Mme</th>\n",
       "      <td>0</td>\n",
       "      <td>1</td>\n",
       "    </tr>\n",
       "    <tr>\n",
       "      <th>Mr</th>\n",
       "      <td>517</td>\n",
       "      <td>0</td>\n",
       "    </tr>\n",
       "    <tr>\n",
       "      <th>Mrs</th>\n",
       "      <td>0</td>\n",
       "      <td>125</td>\n",
       "    </tr>\n",
       "    <tr>\n",
       "      <th>Ms</th>\n",
       "      <td>0</td>\n",
       "      <td>1</td>\n",
       "    </tr>\n",
       "    <tr>\n",
       "      <th>Rev</th>\n",
       "      <td>6</td>\n",
       "      <td>0</td>\n",
       "    </tr>\n",
       "    <tr>\n",
       "      <th>Sir</th>\n",
       "      <td>1</td>\n",
       "      <td>0</td>\n",
       "    </tr>\n",
       "  </tbody>\n",
       "</table>\n",
       "</div>"
      ],
      "text/plain": [
       "Sex         0    1\n",
       "Title             \n",
       "Capt        1    0\n",
       "Col         2    0\n",
       "Countess    0    1\n",
       "Don         1    0\n",
       "Dr          6    1\n",
       "Jonkheer    1    0\n",
       "Lady        0    1\n",
       "Major       2    0\n",
       "Master     40    0\n",
       "Miss        0  182\n",
       "Mlle        0    2\n",
       "Mme         0    1\n",
       "Mr        517    0\n",
       "Mrs         0  125\n",
       "Ms          0    1\n",
       "Rev         6    0\n",
       "Sir         1    0"
      ]
     },
     "execution_count": 431,
     "metadata": {},
     "output_type": "execute_result"
    }
   ],
   "source": [
    "data_raw[\"Title\"] = data_raw.Name.str.extract(\"([A-Za-z]+)\\.\", expand=False) # Extract all titles from names and create a new column of them\n",
    "test[\"Title\"] = test.Name.str.extract(\"([A-Za-z]+)\\.\", expand=False)\n",
    "pd.crosstab(data_raw[\"Title\"], data_raw[\"Sex\"])"
   ]
  },
  {
   "cell_type": "code",
   "execution_count": 432,
   "metadata": {},
   "outputs": [
    {
     "data": {
      "text/plain": [
       "0      Mr\n",
       "1     Mrs\n",
       "2    Miss\n",
       "3     Mrs\n",
       "4      Mr\n",
       "Name: Title, dtype: object"
      ]
     },
     "execution_count": 432,
     "metadata": {},
     "output_type": "execute_result"
    }
   ],
   "source": [
    "# Replace rare titles with a new title and replace common titles with the same meaning name\n",
    "data_raw[\"Title\"] = data_raw[\"Title\"].replace(['Lady', 'Countess','Capt', 'Col', 'Don', 'Dr', 'Major', 'Rev', 'Sir', 'Jonkheer', 'Dona'], 'Rare')\n",
    "data_raw[\"Title\"] = data_raw[\"Title\"].replace(['Mlle', \"Ms\", \"Mme\"], [\"Miss\", \"Miss\", \"Mrs\"])\n",
    "test[\"Title\"] = test[\"Title\"].replace(['Lady', 'Countess','Capt', 'Col', 'Don', 'Dr', 'Major', 'Rev', 'Sir', 'Jonkheer', 'Dona'], 'Rare')\n",
    "test[\"Title\"] = test[\"Title\"].replace(['Mlle', \"Ms\", \"Mme\"], [\"Miss\", \"Miss\", \"Mrs\"])\n",
    "data_raw[\"Title\"].head()"
   ]
  },
  {
   "cell_type": "code",
   "execution_count": 433,
   "metadata": {},
   "outputs": [
    {
     "data": {
      "text/plain": [
       "0    1\n",
       "1    3\n",
       "2    2\n",
       "3    3\n",
       "4    1\n",
       "Name: Title, dtype: int64"
      ]
     },
     "execution_count": 433,
     "metadata": {},
     "output_type": "execute_result"
    }
   ],
   "source": [
    "# Map newly extracted and modified titles to numerical equivalents\n",
    "title_mapping = { \"Mr\": 1, \"Miss\": 2, \"Mrs\": 3, \"Master\": 4, \"Rare\": 5 }\n",
    "data_raw[\"Title\"] = data_raw[\"Title\"].map(title_mapping)\n",
    "data_raw[\"Title\"] = data_raw[\"Title\"].fillna(0)\n",
    "test[\"Title\"] = test[\"Title\"].map(title_mapping)\n",
    "test[\"Title\"] = test[\"Title\"].fillna(0)\n",
    "data_raw[\"Title\"].head()"
   ]
  },
  {
   "cell_type": "code",
   "execution_count": 434,
   "metadata": {},
   "outputs": [],
   "source": [
    "# After having engineered the new title feature, lets remove the names\n",
    "test.drop(\"Name\", axis=1, inplace=True)\n",
    "data_raw.drop(\"Name\", axis=1, inplace=True)"
   ]
  },
  {
   "cell_type": "code",
   "execution_count": 435,
   "metadata": {},
   "outputs": [
    {
     "data": {
      "text/plain": [
       "Pclass           0\n",
       "Sex              0\n",
       "Age            177\n",
       "SibSp            0\n",
       "Parch            0\n",
       "Fare             0\n",
       "Embarked         2\n",
       "Family_Size      0\n",
       "Title            0\n",
       "dtype: int64"
      ]
     },
     "execution_count": 435,
     "metadata": {},
     "output_type": "execute_result"
    }
   ],
   "source": [
    "data_raw.isnull().sum() # Null values in raw training data"
   ]
  },
  {
   "cell_type": "code",
   "execution_count": 436,
   "metadata": {},
   "outputs": [
    {
     "data": {
      "text/html": [
       "<div>\n",
       "<style scoped>\n",
       "    .dataframe tbody tr th:only-of-type {\n",
       "        vertical-align: middle;\n",
       "    }\n",
       "\n",
       "    .dataframe tbody tr th {\n",
       "        vertical-align: top;\n",
       "    }\n",
       "\n",
       "    .dataframe thead th {\n",
       "        text-align: right;\n",
       "    }\n",
       "</style>\n",
       "<table border=\"1\" class=\"dataframe\">\n",
       "  <thead>\n",
       "    <tr style=\"text-align: right;\">\n",
       "      <th></th>\n",
       "      <th>Pclass</th>\n",
       "      <th>Sex</th>\n",
       "      <th>Age</th>\n",
       "      <th>SibSp</th>\n",
       "      <th>Parch</th>\n",
       "      <th>Fare</th>\n",
       "      <th>Embarked</th>\n",
       "      <th>Family_Size</th>\n",
       "      <th>Title</th>\n",
       "    </tr>\n",
       "  </thead>\n",
       "  <tbody>\n",
       "    <tr>\n",
       "      <th>count</th>\n",
       "      <td>891.000000</td>\n",
       "      <td>891.000000</td>\n",
       "      <td>714.000000</td>\n",
       "      <td>891.000000</td>\n",
       "      <td>891.000000</td>\n",
       "      <td>891.000000</td>\n",
       "      <td>889.000000</td>\n",
       "      <td>891.000000</td>\n",
       "      <td>891.000000</td>\n",
       "    </tr>\n",
       "    <tr>\n",
       "      <th>mean</th>\n",
       "      <td>2.308642</td>\n",
       "      <td>0.352413</td>\n",
       "      <td>29.699118</td>\n",
       "      <td>0.523008</td>\n",
       "      <td>0.381594</td>\n",
       "      <td>32.204208</td>\n",
       "      <td>1.535433</td>\n",
       "      <td>0.904602</td>\n",
       "      <td>1.728395</td>\n",
       "    </tr>\n",
       "    <tr>\n",
       "      <th>std</th>\n",
       "      <td>0.836071</td>\n",
       "      <td>0.477990</td>\n",
       "      <td>14.526497</td>\n",
       "      <td>1.102743</td>\n",
       "      <td>0.806057</td>\n",
       "      <td>49.693429</td>\n",
       "      <td>0.792088</td>\n",
       "      <td>1.613459</td>\n",
       "      <td>1.030039</td>\n",
       "    </tr>\n",
       "    <tr>\n",
       "      <th>min</th>\n",
       "      <td>1.000000</td>\n",
       "      <td>0.000000</td>\n",
       "      <td>0.420000</td>\n",
       "      <td>0.000000</td>\n",
       "      <td>0.000000</td>\n",
       "      <td>0.000000</td>\n",
       "      <td>0.000000</td>\n",
       "      <td>0.000000</td>\n",
       "      <td>1.000000</td>\n",
       "    </tr>\n",
       "    <tr>\n",
       "      <th>25%</th>\n",
       "      <td>2.000000</td>\n",
       "      <td>0.000000</td>\n",
       "      <td>20.125000</td>\n",
       "      <td>0.000000</td>\n",
       "      <td>0.000000</td>\n",
       "      <td>7.910400</td>\n",
       "      <td>1.000000</td>\n",
       "      <td>0.000000</td>\n",
       "      <td>1.000000</td>\n",
       "    </tr>\n",
       "    <tr>\n",
       "      <th>50%</th>\n",
       "      <td>3.000000</td>\n",
       "      <td>0.000000</td>\n",
       "      <td>28.000000</td>\n",
       "      <td>0.000000</td>\n",
       "      <td>0.000000</td>\n",
       "      <td>14.454200</td>\n",
       "      <td>2.000000</td>\n",
       "      <td>0.000000</td>\n",
       "      <td>1.000000</td>\n",
       "    </tr>\n",
       "    <tr>\n",
       "      <th>75%</th>\n",
       "      <td>3.000000</td>\n",
       "      <td>1.000000</td>\n",
       "      <td>38.000000</td>\n",
       "      <td>1.000000</td>\n",
       "      <td>0.000000</td>\n",
       "      <td>31.000000</td>\n",
       "      <td>2.000000</td>\n",
       "      <td>1.000000</td>\n",
       "      <td>2.000000</td>\n",
       "    </tr>\n",
       "    <tr>\n",
       "      <th>max</th>\n",
       "      <td>3.000000</td>\n",
       "      <td>1.000000</td>\n",
       "      <td>80.000000</td>\n",
       "      <td>8.000000</td>\n",
       "      <td>6.000000</td>\n",
       "      <td>512.329200</td>\n",
       "      <td>2.000000</td>\n",
       "      <td>10.000000</td>\n",
       "      <td>5.000000</td>\n",
       "    </tr>\n",
       "  </tbody>\n",
       "</table>\n",
       "</div>"
      ],
      "text/plain": [
       "           Pclass         Sex         Age       SibSp       Parch        Fare  \\\n",
       "count  891.000000  891.000000  714.000000  891.000000  891.000000  891.000000   \n",
       "mean     2.308642    0.352413   29.699118    0.523008    0.381594   32.204208   \n",
       "std      0.836071    0.477990   14.526497    1.102743    0.806057   49.693429   \n",
       "min      1.000000    0.000000    0.420000    0.000000    0.000000    0.000000   \n",
       "25%      2.000000    0.000000   20.125000    0.000000    0.000000    7.910400   \n",
       "50%      3.000000    0.000000   28.000000    0.000000    0.000000   14.454200   \n",
       "75%      3.000000    1.000000   38.000000    1.000000    0.000000   31.000000   \n",
       "max      3.000000    1.000000   80.000000    8.000000    6.000000  512.329200   \n",
       "\n",
       "         Embarked  Family_Size       Title  \n",
       "count  889.000000   891.000000  891.000000  \n",
       "mean     1.535433     0.904602    1.728395  \n",
       "std      0.792088     1.613459    1.030039  \n",
       "min      0.000000     0.000000    1.000000  \n",
       "25%      1.000000     0.000000    1.000000  \n",
       "50%      2.000000     0.000000    1.000000  \n",
       "75%      2.000000     1.000000    2.000000  \n",
       "max      2.000000    10.000000    5.000000  "
      ]
     },
     "execution_count": 436,
     "metadata": {},
     "output_type": "execute_result"
    }
   ],
   "source": [
    "data_raw.describe() # Statistics of raw training data"
   ]
  },
  {
   "cell_type": "code",
   "execution_count": 437,
   "metadata": {},
   "outputs": [
    {
     "data": {
      "text/html": [
       "<div>\n",
       "<style scoped>\n",
       "    .dataframe tbody tr th:only-of-type {\n",
       "        vertical-align: middle;\n",
       "    }\n",
       "\n",
       "    .dataframe tbody tr th {\n",
       "        vertical-align: top;\n",
       "    }\n",
       "\n",
       "    .dataframe thead th {\n",
       "        text-align: right;\n",
       "    }\n",
       "</style>\n",
       "<table border=\"1\" class=\"dataframe\">\n",
       "  <thead>\n",
       "    <tr style=\"text-align: right;\">\n",
       "      <th></th>\n",
       "      <th>Pclass</th>\n",
       "      <th>Sex</th>\n",
       "      <th>Age</th>\n",
       "      <th>SibSp</th>\n",
       "      <th>Parch</th>\n",
       "      <th>Fare</th>\n",
       "      <th>Embarked</th>\n",
       "      <th>Family_Size</th>\n",
       "      <th>Title</th>\n",
       "    </tr>\n",
       "  </thead>\n",
       "  <tbody>\n",
       "    <tr>\n",
       "      <th>0</th>\n",
       "      <td>3</td>\n",
       "      <td>0</td>\n",
       "      <td>22.0</td>\n",
       "      <td>1</td>\n",
       "      <td>0</td>\n",
       "      <td>7.2500</td>\n",
       "      <td>2.0</td>\n",
       "      <td>1</td>\n",
       "      <td>1</td>\n",
       "    </tr>\n",
       "    <tr>\n",
       "      <th>1</th>\n",
       "      <td>1</td>\n",
       "      <td>1</td>\n",
       "      <td>38.0</td>\n",
       "      <td>1</td>\n",
       "      <td>0</td>\n",
       "      <td>71.2833</td>\n",
       "      <td>0.0</td>\n",
       "      <td>1</td>\n",
       "      <td>3</td>\n",
       "    </tr>\n",
       "    <tr>\n",
       "      <th>2</th>\n",
       "      <td>3</td>\n",
       "      <td>1</td>\n",
       "      <td>26.0</td>\n",
       "      <td>0</td>\n",
       "      <td>0</td>\n",
       "      <td>7.9250</td>\n",
       "      <td>2.0</td>\n",
       "      <td>0</td>\n",
       "      <td>2</td>\n",
       "    </tr>\n",
       "    <tr>\n",
       "      <th>3</th>\n",
       "      <td>1</td>\n",
       "      <td>1</td>\n",
       "      <td>35.0</td>\n",
       "      <td>1</td>\n",
       "      <td>0</td>\n",
       "      <td>53.1000</td>\n",
       "      <td>2.0</td>\n",
       "      <td>1</td>\n",
       "      <td>3</td>\n",
       "    </tr>\n",
       "    <tr>\n",
       "      <th>4</th>\n",
       "      <td>3</td>\n",
       "      <td>0</td>\n",
       "      <td>35.0</td>\n",
       "      <td>0</td>\n",
       "      <td>0</td>\n",
       "      <td>8.0500</td>\n",
       "      <td>2.0</td>\n",
       "      <td>0</td>\n",
       "      <td>1</td>\n",
       "    </tr>\n",
       "  </tbody>\n",
       "</table>\n",
       "</div>"
      ],
      "text/plain": [
       "   Pclass  Sex   Age  SibSp  Parch     Fare  Embarked  Family_Size  Title\n",
       "0       3    0  22.0      1      0   7.2500       2.0            1      1\n",
       "1       1    1  38.0      1      0  71.2833       0.0            1      3\n",
       "2       3    1  26.0      0      0   7.9250       2.0            0      2\n",
       "3       1    1  35.0      1      0  53.1000       2.0            1      3\n",
       "4       3    0  35.0      0      0   8.0500       2.0            0      1"
      ]
     },
     "execution_count": 437,
     "metadata": {},
     "output_type": "execute_result"
    }
   ],
   "source": [
    "data_raw.head() # First five samples of raw data"
   ]
  },
  {
   "cell_type": "code",
   "execution_count": 438,
   "metadata": {},
   "outputs": [],
   "source": [
    "# Impute missing numeric values with nearest neighbour values with most frequent value in column\n",
    "knnimputer = KNNImputer(missing_values=np.nan, n_neighbors=3)\n",
    "data_raw[\"Age\"] = knnimputer.fit_transform(data_raw[\"Age\"].values.reshape(-1, 1))\n",
    "data_raw[\"Embarked\"] = knnimputer.fit_transform(data_raw[\"Embarked\"].values.reshape(-1, 1))\n",
    "test[\"Age\"] = knnimputer.fit_transform(test[\"Age\"].values.reshape(-1, 1))\n",
    "test[\"Fare\"] = knnimputer.fit_transform(test[\"Age\"].values.reshape(-1, 1))"
   ]
  },
  {
   "cell_type": "code",
   "execution_count": 439,
   "metadata": {},
   "outputs": [
    {
     "data": {
      "text/plain": [
       "Pclass         0\n",
       "Sex            0\n",
       "Age            0\n",
       "SibSp          0\n",
       "Parch          0\n",
       "Fare           0\n",
       "Embarked       0\n",
       "Family_Size    0\n",
       "Title          0\n",
       "dtype: int64"
      ]
     },
     "execution_count": 439,
     "metadata": {},
     "output_type": "execute_result"
    }
   ],
   "source": [
    "data_raw.isnull().sum()"
   ]
  },
  {
   "cell_type": "code",
   "execution_count": 440,
   "metadata": {},
   "outputs": [
    {
     "data": {
      "text/plain": [
       "Pclass         0\n",
       "Sex            0\n",
       "Age            0\n",
       "SibSp          0\n",
       "Parch          0\n",
       "Fare           0\n",
       "Embarked       0\n",
       "Family_Size    0\n",
       "Title          0\n",
       "dtype: int64"
      ]
     },
     "execution_count": 440,
     "metadata": {},
     "output_type": "execute_result"
    }
   ],
   "source": [
    "test.isnull().sum()"
   ]
  },
  {
   "cell_type": "markdown",
   "metadata": {},
   "source": [
    "## Finding possible outliers."
   ]
  },
  {
   "cell_type": "code",
   "execution_count": 441,
   "metadata": {},
   "outputs": [
    {
     "data": {
      "text/plain": [
       "<AxesSubplot:xlabel='Fare'>"
      ]
     },
     "execution_count": 441,
     "metadata": {},
     "output_type": "execute_result"
    },
    {
     "data": {
      "image/png": "[encoded data removed]",
      "image/svg+xml": "<?xml version=\"1.0\" encoding=\"utf-8\" standalone=\"no\"?>\r\n<!DOCTYPE svg PUBLIC \"-//W3C//DTD SVG 1.1//EN\"\r\n  \"http://www.w3.org/Graphics/SVG/1.1/DTD/svg11.dtd\">\r\n<svg height=\"642.71625pt\" version=\"1.1\" viewBox=\"0 0 333.165625 642.71625\" width=\"333.165625pt\" xmlns=\"http://www.w3.org/2000/svg\" xmlns:xlink=\"http://www.w3.org/1999/xlink\">\r\n <metadata>\r\n  <rdf:RDF xmlns:cc=\"http://creativecommons.org/ns#\" xmlns:dc=\"http://purl.org/dc/elements/1.1/\" xmlns:rdf=\"http://www.w3.org/1999/02/22-rdf-syntax-ns#\">\r\n   <cc:Work>\r\n    <dc:type rdf:resource=\"http://purl.org/dc/dcmitype/StillImage\"/>\r\n    <dc:date>2021-05-27T23:16:25.327533</dc:date>\r\n    <dc:format>image/svg+xml</dc:format>\r\n    <dc:creator>\r\n     <cc:Agent>\r\n      <dc:title>Matplotlib v3.4.1, https://matplotlib.org/</dc:title>\r\n     </cc:Agent>\r\n    </dc:creator>\r\n   </cc:Work>\r\n  </rdf:RDF>\r\n </metadata>\r\n <defs>\r\n  <style type=\"text/css\">*{stroke-linecap:butt;stroke-linejoin:round;}</style>\r\n </defs>\r\n <g id=\"figure_1\">\r\n  <g id=\"patch_1\">\r\n   <path d=\"M 0 642.71625 \r\nL 333.165625 642.71625 \r\nL 333.165625 0 \r\nL 0 0 \r\nz\r\n\" style=\"fill:none;\"/>\r\n  </g>\r\n  <g id=\"axes_1\">\r\n   <g id=\"patch_2\">\r\n    <path d=\"M 46.965625 183.070588 \r\nL 325.965625 183.070588 \r\nL 325.965625 7.2 \r\nL 46.965625 7.2 \r\nz\r\n\" style=\"fill:#ffffff;\"/>\r\n   </g>\r\n   <g id=\"PathCollection_1\">\r\n    <defs>\r\n     <path d=\"M 0 3 \r\nC 0.795609 3 1.55874 2.683901 2.12132 2.12132 \r\nC 2.683901 1.55874 3 0.795609 3 0 \r\nC 3 -0.795609 2.683901 -1.55874 2.12132 -2.12132 \r\nC 1.55874 -2.683901 0.795609 -3 0 -3 \r\nC -0.795609 -3 -1.55874 -2.683901 -2.12132 -2.12132 \r\nC -2.683901 -1.55874 -3 -0.795609 -3 0 \r\nC -3 0.795609 -2.683901 1.55874 -2.12132 2.12132 \r\nC -1.55874 2.683901 -0.795609 3 0 3 \r\nz\r\n\" id=\"mb4d67632ab\" style=\"stroke:#1f77b4;\"/>\r\n    </defs>\r\n    <g clip-path=\"url(#p821683cb85)\">\r\n     <use style=\"fill:#1f77b4;stroke:#1f77b4;\" x=\"128.426945\" xlink:href=\"#mb4d67632ab\" y=\"172.813966\"/>\r\n     <use style=\"fill:#1f77b4;stroke:#1f77b4;\" x=\"179.421941\" xlink:href=\"#mb4d67632ab\" y=\"152.831122\"/>\r\n     <use style=\"fill:#1f77b4;stroke:#1f77b4;\" x=\"141.175694\" xlink:href=\"#mb4d67632ab\" y=\"172.603319\"/>\r\n     <use style=\"fill:#1f77b4;stroke:#1f77b4;\" x=\"169.860379\" xlink:href=\"#mb4d67632ab\" y=\"158.505576\"/>\r\n     <use style=\"fill:#1f77b4;stroke:#1f77b4;\" x=\"169.860379\" xlink:href=\"#mb4d67632ab\" y=\"172.564311\"/>\r\n     <use style=\"fill:#1f77b4;stroke:#1f77b4;\" x=\"152.965474\" xlink:href=\"#mb4d67632ab\" y=\"172.436893\"/>\r\n     <use style=\"fill:#1f77b4;stroke:#1f77b4;\" x=\"230.416938\" xlink:href=\"#mb4d67632ab\" y=\"158.891763\"/>\r\n     <use style=\"fill:#1f77b4;stroke:#1f77b4;\" x=\"64.683199\" xlink:href=\"#mb4d67632ab\" y=\"168.499604\"/>\r\n     <use style=\"fill:#1f77b4;stroke:#1f77b4;\" x=\"144.362881\" xlink:href=\"#mb4d67632ab\" y=\"171.602106\"/>\r\n     <use style=\"fill:#1f77b4;stroke:#1f77b4;\" x=\"102.929446\" xlink:href=\"#mb4d67632ab\" y=\"165.692289\"/>\r\n     <use style=\"fill:#1f77b4;stroke:#1f77b4;\" x=\"71.057574\" xlink:href=\"#mb4d67632ab\" y=\"169.864909\"/>\r\n     <use style=\"fill:#1f77b4;stroke:#1f77b4;\" x=\"243.165687\" xlink:href=\"#mb4d67632ab\" y=\"166.791024\"/>\r\n     <use style=\"fill:#1f77b4;stroke:#1f77b4;\" x=\"122.05257\" xlink:href=\"#mb4d67632ab\" y=\"172.564311\"/>\r\n     <use style=\"fill:#1f77b4;stroke:#1f77b4;\" x=\"182.609128\" xlink:href=\"#mb4d67632ab\" y=\"165.316495\"/>\r\n     <use style=\"fill:#1f77b4;stroke:#1f77b4;\" x=\"102.929446\" xlink:href=\"#mb4d67632ab\" y=\"172.625414\"/>\r\n     <use style=\"fill:#1f77b4;stroke:#1f77b4;\" x=\"233.604125\" xlink:href=\"#mb4d67632ab\" y=\"170.083357\"/>\r\n     <use style=\"fill:#1f77b4;stroke:#1f77b4;\" x=\"64.683199\" xlink:href=\"#mb4d67632ab\" y=\"165.987444\"/>\r\n     <use style=\"fill:#1f77b4;stroke:#1f77b4;\" x=\"152.965474\" xlink:href=\"#mb4d67632ab\" y=\"171.019566\"/>\r\n     <use style=\"fill:#1f77b4;stroke:#1f77b4;\" x=\"157.11163\" xlink:href=\"#mb4d67632ab\" y=\"169.459218\"/>\r\n     <use style=\"fill:#1f77b4;stroke:#1f77b4;\" x=\"152.965474\" xlink:href=\"#mb4d67632ab\" y=\"172.821768\"/>\r\n     <use style=\"fill:#1f77b4;stroke:#1f77b4;\" x=\"169.860379\" xlink:href=\"#mb4d67632ab\" y=\"166.962662\"/>\r\n     <use style=\"fill:#1f77b4;stroke:#1f77b4;\" x=\"166.673192\" xlink:href=\"#mb4d67632ab\" y=\"171.019566\"/>\r\n     <use style=\"fill:#1f77b4;stroke:#1f77b4;\" x=\"106.116634\" xlink:href=\"#mb4d67632ab\" y=\"172.570802\"/>\r\n     <use style=\"fill:#1f77b4;stroke:#1f77b4;\" x=\"147.550068\" xlink:href=\"#mb4d67632ab\" y=\"163.998001\"/>\r\n     <use style=\"fill:#1f77b4;stroke:#1f77b4;\" x=\"83.806323\" xlink:href=\"#mb4d67632ab\" y=\"168.499604\"/>\r\n     <use style=\"fill:#1f77b4;stroke:#1f77b4;\" x=\"179.421941\" xlink:href=\"#mb4d67632ab\" y=\"165.281387\"/>\r\n     <use style=\"fill:#1f77b4;stroke:#1f77b4;\" x=\"152.965474\" xlink:href=\"#mb4d67632ab\" y=\"172.821768\"/>\r\n     <use style=\"fill:#1f77b4;stroke:#1f77b4;\" x=\"118.865383\" xlink:href=\"#mb4d67632ab\" y=\"93.002174\"/>\r\n     <use style=\"fill:#1f77b4;stroke:#1f77b4;\" x=\"152.965474\" xlink:href=\"#mb4d67632ab\" y=\"172.617612\"/>\r\n     <use style=\"fill:#1f77b4;stroke:#1f77b4;\" x=\"152.965474\" xlink:href=\"#mb4d67632ab\" y=\"172.612432\"/>\r\n     <use style=\"fill:#1f77b4;stroke:#1f77b4;\" x=\"185.796316\" xlink:href=\"#mb4d67632ab\" y=\"166.425652\"/>\r\n     <use style=\"fill:#1f77b4;stroke:#1f77b4;\" x=\"152.965474\" xlink:href=\"#mb4d67632ab\" y=\"129.351788\"/>\r\n     <use style=\"fill:#1f77b4;stroke:#1f77b4;\" x=\"152.965474\" xlink:href=\"#mb4d67632ab\" y=\"172.657931\"/>\r\n     <use style=\"fill:#1f77b4;stroke:#1f77b4;\" x=\"268.663185\" xlink:href=\"#mb4d67632ab\" y=\"171.79974\"/>\r\n     <use style=\"fill:#1f77b4;stroke:#1f77b4;\" x=\"147.550068\" xlink:href=\"#mb4d67632ab\" y=\"149.433464\"/>\r\n     <use style=\"fill:#1f77b4;stroke:#1f77b4;\" x=\"192.17069\" xlink:href=\"#mb4d67632ab\" y=\"158.848853\"/>\r\n     <use style=\"fill:#1f77b4;stroke:#1f77b4;\" x=\"152.965474\" xlink:href=\"#mb4d67632ab\" y=\"172.820457\"/>\r\n     <use style=\"fill:#1f77b4;stroke:#1f77b4;\" x=\"125.239757\" xlink:href=\"#mb4d67632ab\" y=\"172.564311\"/>\r\n     <use style=\"fill:#1f77b4;stroke:#1f77b4;\" x=\"115.678196\" xlink:href=\"#mb4d67632ab\" y=\"169.459218\"/>\r\n     <use style=\"fill:#1f77b4;stroke:#1f77b4;\" x=\"102.929446\" xlink:href=\"#mb4d67632ab\" y=\"171.568278\"/>\r\n     <use style=\"fill:#1f77b4;stroke:#1f77b4;\" x=\"185.796316\" xlink:href=\"#mb4d67632ab\" y=\"172.119611\"/>\r\n     <use style=\"fill:#1f77b4;stroke:#1f77b4;\" x=\"144.362881\" xlink:href=\"#mb4d67632ab\" y=\"168.52301\"/>\r\n     <use style=\"fill:#1f77b4;stroke:#1f77b4;\" x=\"152.965474\" xlink:href=\"#mb4d67632ab\" y=\"172.612432\"/>\r\n     <use style=\"fill:#1f77b4;stroke:#1f77b4;\" x=\"67.870386\" xlink:href=\"#mb4d67632ab\" y=\"162.100868\"/>\r\n     <use style=\"fill:#1f77b4;stroke:#1f77b4;\" x=\"118.865383\" xlink:href=\"#mb4d67632ab\" y=\"172.617612\"/>\r\n     <use style=\"fill:#1f77b4;stroke:#1f77b4;\" x=\"152.965474\" xlink:href=\"#mb4d67632ab\" y=\"172.564311\"/>\r\n     <use style=\"fill:#1f77b4;stroke:#1f77b4;\" x=\"152.965474\" xlink:href=\"#mb4d67632ab\" y=\"170.239392\"/>\r\n     <use style=\"fill:#1f77b4;stroke:#1f77b4;\" x=\"152.965474\" xlink:href=\"#mb4d67632ab\" y=\"172.657931\"/>\r\n     <use style=\"fill:#1f77b4;stroke:#1f77b4;\" x=\"152.965474\" xlink:href=\"#mb4d67632ab\" y=\"168.311052\"/>\r\n     <use style=\"fill:#1f77b4;stroke:#1f77b4;\" x=\"115.678196\" xlink:href=\"#mb4d67632ab\" y=\"169.521632\"/>\r\n     <use style=\"fill:#1f77b4;stroke:#1f77b4;\" x=\"80.619135\" xlink:href=\"#mb4d67632ab\" y=\"162.69121\"/>\r\n     <use style=\"fill:#1f77b4;stroke:#1f77b4;\" x=\"125.239757\" xlink:href=\"#mb4d67632ab\" y=\"172.642328\"/>\r\n     <use style=\"fill:#1f77b4;stroke:#1f77b4;\" x=\"214.481001\" xlink:href=\"#mb4d67632ab\" y=\"151.131622\"/>\r\n     <use style=\"fill:#1f77b4;stroke:#1f77b4;\" x=\"150.737256\" xlink:href=\"#mb4d67632ab\" y=\"166.962662\"/>\r\n     <use style=\"fill:#1f77b4;stroke:#1f77b4;\" x=\"265.475998\" xlink:href=\"#mb4d67632ab\" y=\"155.734648\"/>\r\n     <use style=\"fill:#1f77b4;stroke:#1f77b4;\" x=\"152.965474\" xlink:href=\"#mb4d67632ab\" y=\"163.998001\"/>\r\n     <use style=\"fill:#1f77b4;stroke:#1f77b4;\" x=\"125.239757\" xlink:href=\"#mb4d67632ab\" y=\"171.79974\"/>\r\n     <use style=\"fill:#1f77b4;stroke:#1f77b4;\" x=\"149.143662\" xlink:href=\"#mb4d67632ab\" y=\"172.820457\"/>\r\n     <use style=\"fill:#1f77b4;stroke:#1f77b4;\" x=\"74.244761\" xlink:href=\"#mb4d67632ab\" y=\"166.41654\"/>\r\n     <use style=\"fill:#1f77b4;stroke:#1f77b4;\" x=\"93.367885\" xlink:href=\"#mb4d67632ab\" y=\"160.440408\"/>\r\n     <use style=\"fill:#1f77b4;stroke:#1f77b4;\" x=\"128.426945\" xlink:href=\"#mb4d67632ab\" y=\"172.820457\"/>\r\n     <use style=\"fill:#1f77b4;stroke:#1f77b4;\" x=\"179.421941\" xlink:href=\"#mb4d67632ab\" y=\"150.110905\"/>\r\n     <use style=\"fill:#1f77b4;stroke:#1f77b4;\" x=\"201.732252\" xlink:href=\"#mb4d67632ab\" y=\"149.026463\"/>\r\n     <use style=\"fill:#1f77b4;stroke:#1f77b4;\" x=\"71.057574\" xlink:href=\"#mb4d67632ab\" y=\"166.36973\"/>\r\n     <use style=\"fill:#1f77b4;stroke:#1f77b4;\" x=\"152.965474\" xlink:href=\"#mb4d67632ab\" y=\"166.425652\"/>\r\n     <use style=\"fill:#1f77b4;stroke:#1f77b4;\" x=\"152.965474\" xlink:href=\"#mb4d67632ab\" y=\"170.31872\"/>\r\n     <use style=\"fill:#1f77b4;stroke:#1f77b4;\" x=\"150.737256\" xlink:href=\"#mb4d67632ab\" y=\"171.79974\"/>\r\n     <use style=\"fill:#1f77b4;stroke:#1f77b4;\" x=\"118.865383\" xlink:href=\"#mb4d67632ab\" y=\"172.530513\"/>\r\n     <use style=\"fill:#1f77b4;stroke:#1f77b4;\" x=\"112.491008\" xlink:href=\"#mb4d67632ab\" y=\"172.603319\"/>\r\n     <use style=\"fill:#1f77b4;stroke:#1f77b4;\" x=\"141.175694\" xlink:href=\"#mb4d67632ab\" y=\"172.373168\"/>\r\n     <use style=\"fill:#1f77b4;stroke:#1f77b4;\" x=\"160.298817\" xlink:href=\"#mb4d67632ab\" y=\"171.79974\"/>\r\n     <use style=\"fill:#1f77b4;stroke:#1f77b4;\" x=\"109.303821\" xlink:href=\"#mb4d67632ab\" y=\"160.440408\"/>\r\n     <use style=\"fill:#1f77b4;stroke:#1f77b4;\" x=\"125.239757\" xlink:href=\"#mb4d67632ab\" y=\"152.139357\"/>\r\n     <use style=\"fill:#1f77b4;stroke:#1f77b4;\" x=\"141.175694\" xlink:href=\"#mb4d67632ab\" y=\"170.565755\"/>\r\n     <use style=\"fill:#1f77b4;stroke:#1f77b4;\" x=\"160.298817\" xlink:href=\"#mb4d67632ab\" y=\"157.445851\"/>\r\n     <use style=\"fill:#1f77b4;stroke:#1f77b4;\" x=\"137.988506\" xlink:href=\"#mb4d67632ab\" y=\"172.689138\"/>\r\n     <use style=\"fill:#1f77b4;stroke:#1f77b4;\" x=\"152.965474\" xlink:href=\"#mb4d67632ab\" y=\"172.612432\"/>\r\n     <use style=\"fill:#1f77b4;stroke:#1f77b4;\" x=\"152.965474\" xlink:href=\"#mb4d67632ab\" y=\"172.564311\"/>\r\n     <use style=\"fill:#1f77b4;stroke:#1f77b4;\" x=\"60.95419\" xlink:href=\"#mb4d67632ab\" y=\"166.026453\"/>\r\n     <use style=\"fill:#1f77b4;stroke:#1f77b4;\" x=\"153.924443\" xlink:href=\"#mb4d67632ab\" y=\"171.183403\"/>\r\n     <use style=\"fill:#1f77b4;stroke:#1f77b4;\" x=\"128.426945\" xlink:href=\"#mb4d67632ab\" y=\"172.267844\"/>\r\n     <use style=\"fill:#1f77b4;stroke:#1f77b4;\" x=\"150.737256\" xlink:href=\"#mb4d67632ab\" y=\"172.11181\"/>\r\n     <use style=\"fill:#1f77b4;stroke:#1f77b4;\" x=\"152.965474\" xlink:href=\"#mb4d67632ab\" y=\"172.646229\"/>\r\n     <use style=\"fill:#1f77b4;stroke:#1f77b4;\" x=\"147.550068\" xlink:href=\"#mb4d67632ab\" y=\"160.377994\"/>\r\n     <use style=\"fill:#1f77b4;stroke:#1f77b4;\" x=\"112.491008\" xlink:href=\"#mb4d67632ab\" y=\"171.79974\"/>\r\n     <use style=\"fill:#1f77b4;stroke:#1f77b4;\" x=\"163.486005\" xlink:href=\"#mb4d67632ab\" y=\"170.130168\"/>\r\n     <use style=\"fill:#1f77b4;stroke:#1f77b4;\" x=\"109.303821\" xlink:href=\"#mb4d67632ab\" y=\"164.349079\"/>\r\n     <use style=\"fill:#1f77b4;stroke:#1f77b4;\" x=\"152.965474\" xlink:href=\"#mb4d67632ab\" y=\"172.564311\"/>\r\n     <use style=\"fill:#1f77b4;stroke:#1f77b4;\" x=\"131.614132\" xlink:href=\"#mb4d67632ab\" y=\"93.002174\"/>\r\n     <use style=\"fill:#1f77b4;stroke:#1f77b4;\" x=\"134.801319\" xlink:href=\"#mb4d67632ab\" y=\"172.564311\"/>\r\n     <use style=\"fill:#1f77b4;stroke:#1f77b4;\" x=\"150.737256\" xlink:href=\"#mb4d67632ab\" y=\"172.564311\"/>\r\n     <use style=\"fill:#1f77b4;stroke:#1f77b4;\" x=\"122.05257\" xlink:href=\"#mb4d67632ab\" y=\"172.625414\"/>\r\n     <use style=\"fill:#1f77b4;stroke:#1f77b4;\" x=\"204.919439\" xlink:href=\"#mb4d67632ab\" y=\"155.985615\"/>\r\n     <use style=\"fill:#1f77b4;stroke:#1f77b4;\" x=\"141.175694\" xlink:href=\"#mb4d67632ab\" y=\"168.655639\"/>\r\n     <use style=\"fill:#1f77b4;stroke:#1f77b4;\" x=\"246.352874\" xlink:href=\"#mb4d67632ab\" y=\"172.813966\"/>\r\n     <use style=\"fill:#1f77b4;stroke:#1f77b4;\" x=\"152.965474\" xlink:href=\"#mb4d67632ab\" y=\"172.564311\"/>\r\n     <use style=\"fill:#1f77b4;stroke:#1f77b4;\" x=\"284.599121\" xlink:href=\"#mb4d67632ab\" y=\"164.261949\"/>\r\n     <use style=\"fill:#1f77b4;stroke:#1f77b4;\" x=\"131.614132\" xlink:href=\"#mb4d67632ab\" y=\"155.304273\"/>\r\n     <use style=\"fill:#1f77b4;stroke:#1f77b4;\" x=\"166.673192\" xlink:href=\"#mb4d67632ab\" y=\"167.89887\"/>\r\n     <use style=\"fill:#1f77b4;stroke:#1f77b4;\" x=\"166.673192\" xlink:href=\"#mb4d67632ab\" y=\"166.962662\"/>\r\n     <use style=\"fill:#1f77b4;stroke:#1f77b4;\" x=\"147.550068\" xlink:href=\"#mb4d67632ab\" y=\"172.612432\"/>\r\n     <use style=\"fill:#1f77b4;stroke:#1f77b4;\" x=\"152.965474\" xlink:href=\"#mb4d67632ab\" y=\"172.612432\"/>\r\n     <use style=\"fill:#1f77b4;stroke:#1f77b4;\" x=\"125.239757\" xlink:href=\"#mb4d67632ab\" y=\"150.957394\"/>\r\n     <use style=\"fill:#1f77b4;stroke:#1f77b4;\" x=\"163.486005\" xlink:href=\"#mb4d67632ab\" y=\"172.375758\"/>\r\n     <use style=\"fill:#1f77b4;stroke:#1f77b4;\" x=\"176.234754\" xlink:href=\"#mb4d67632ab\" y=\"172.603319\"/>\r\n     <use style=\"fill:#1f77b4;stroke:#1f77b4;\" x=\"147.550068\" xlink:href=\"#mb4d67632ab\" y=\"172.612432\"/>\r\n     <use style=\"fill:#1f77b4;stroke:#1f77b4;\" x=\"125.239757\" xlink:href=\"#mb4d67632ab\" y=\"172.689138\"/>\r\n     <use style=\"fill:#1f77b4;stroke:#1f77b4;\" x=\"152.965474\" xlink:href=\"#mb4d67632ab\" y=\"172.65013\"/>\r\n     <use style=\"fill:#1f77b4;stroke:#1f77b4;\" x=\"179.421941\" xlink:href=\"#mb4d67632ab\" y=\"172.612432\"/>\r\n     <use style=\"fill:#1f77b4;stroke:#1f77b4;\" x=\"152.965474\" xlink:href=\"#mb4d67632ab\" y=\"167.53999\"/>\r\n     <use style=\"fill:#1f77b4;stroke:#1f77b4;\" x=\"208.106627\" xlink:href=\"#mb4d67632ab\" y=\"158.848853\"/>\r\n     <use style=\"fill:#1f77b4;stroke:#1f77b4;\" x=\"104.52304\" xlink:href=\"#mb4d67632ab\" y=\"170.565755\"/>\r\n     <use style=\"fill:#1f77b4;stroke:#1f77b4;\" x=\"128.426945\" xlink:href=\"#mb4d67632ab\" y=\"172.564311\"/>\r\n     <use style=\"fill:#1f77b4;stroke:#1f77b4;\" x=\"122.05257\" xlink:href=\"#mb4d67632ab\" y=\"172.010387\"/>\r\n     <use style=\"fill:#1f77b4;stroke:#1f77b4;\" x=\"112.491008\" xlink:href=\"#mb4d67632ab\" y=\"170.564475\"/>\r\n     <use style=\"fill:#1f77b4;stroke:#1f77b4;\" x=\"125.239757\" xlink:href=\"#mb4d67632ab\" y=\"172.603319\"/>\r\n     <use style=\"fill:#1f77b4;stroke:#1f77b4;\" x=\"283.005528\" xlink:href=\"#mb4d67632ab\" y=\"172.657931\"/>\r\n     <use style=\"fill:#1f77b4;stroke:#1f77b4;\" x=\"150.737256\" xlink:href=\"#mb4d67632ab\" y=\"168.52301\"/>\r\n     <use style=\"fill:#1f77b4;stroke:#1f77b4;\" x=\"134.801319\" xlink:href=\"#mb4d67632ab\" y=\"97.832761\"/>\r\n     <use style=\"fill:#1f77b4;stroke:#1f77b4;\" x=\"64.683199\" xlink:href=\"#mb4d67632ab\" y=\"165.316495\"/>\r\n     <use style=\"fill:#1f77b4;stroke:#1f77b4;\" x=\"125.239757\" xlink:href=\"#mb4d67632ab\" y=\"152.139357\"/>\r\n     <use style=\"fill:#1f77b4;stroke:#1f77b4;\" x=\"152.965474\" xlink:href=\"#mb4d67632ab\" y=\"172.564311\"/>\r\n     <use style=\"fill:#1f77b4;stroke:#1f77b4;\" x=\"161.892411\" xlink:href=\"#mb4d67632ab\" y=\"165.692289\"/>\r\n     <use style=\"fill:#1f77b4;stroke:#1f77b4;\" x=\"161.892411\" xlink:href=\"#mb4d67632ab\" y=\"171.019566\"/>\r\n     <use style=\"fill:#1f77b4;stroke:#1f77b4;\" x=\"230.416938\" xlink:href=\"#mb4d67632ab\" y=\"150.957394\"/>\r\n     <use style=\"fill:#1f77b4;stroke:#1f77b4;\" x=\"96.555072\" xlink:href=\"#mb4d67632ab\" y=\"171.568278\"/>\r\n     <use style=\"fill:#1f77b4;stroke:#1f77b4;\" x=\"152.965474\" xlink:href=\"#mb4d67632ab\" y=\"172.657931\"/>\r\n     <use style=\"fill:#1f77b4;stroke:#1f77b4;\" x=\"134.801319\" xlink:href=\"#mb4d67632ab\" y=\"172.847763\"/>\r\n     <use style=\"fill:#1f77b4;stroke:#1f77b4;\" x=\"152.965474\" xlink:href=\"#mb4d67632ab\" y=\"168.099126\"/>\r\n     <use style=\"fill:#1f77b4;stroke:#1f77b4;\" x=\"201.732252\" xlink:href=\"#mb4d67632ab\" y=\"172.899785\"/>\r\n     <use style=\"fill:#1f77b4;stroke:#1f77b4;\" x=\"163.486005\" xlink:href=\"#mb4d67632ab\" y=\"172.612432\"/>\r\n     <use style=\"fill:#1f77b4;stroke:#1f77b4;\" x=\"122.05257\" xlink:href=\"#mb4d67632ab\" y=\"172.87638\"/>\r\n     <use style=\"fill:#1f77b4;stroke:#1f77b4;\" x=\"208.106627\" xlink:href=\"#mb4d67632ab\" y=\"170.551462\"/>\r\n     <use style=\"fill:#1f77b4;stroke:#1f77b4;\" x=\"150.737256\" xlink:href=\"#mb4d67632ab\" y=\"166.962662\"/>\r\n     <use style=\"fill:#1f77b4;stroke:#1f77b4;\" x=\"137.988506\" xlink:href=\"#mb4d67632ab\" y=\"171.019566\"/>\r\n     <use style=\"fill:#1f77b4;stroke:#1f77b4;\" x=\"131.614132\" xlink:href=\"#mb4d67632ab\" y=\"170.381134\"/>\r\n     <use style=\"fill:#1f77b4;stroke:#1f77b4;\" x=\"118.865383\" xlink:href=\"#mb4d67632ab\" y=\"166.874252\"/>\r\n     <use style=\"fill:#1f77b4;stroke:#1f77b4;\" x=\"176.234754\" xlink:href=\"#mb4d67632ab\" y=\"158.505576\"/>\r\n     <use style=\"fill:#1f77b4;stroke:#1f77b4;\" x=\"109.303821\" xlink:href=\"#mb4d67632ab\" y=\"172.200219\"/>\r\n     <use style=\"fill:#1f77b4;stroke:#1f77b4;\" x=\"134.801319\" xlink:href=\"#mb4d67632ab\" y=\"150.360561\"/>\r\n     <use style=\"fill:#1f77b4;stroke:#1f77b4;\" x=\"152.965474\" xlink:href=\"#mb4d67632ab\" y=\"170.31872\"/>\r\n     <use style=\"fill:#1f77b4;stroke:#1f77b4;\" x=\"128.426945\" xlink:href=\"#mb4d67632ab\" y=\"172.657931\"/>\r\n     <use style=\"fill:#1f77b4;stroke:#1f77b4;\" x=\"134.801319\" xlink:href=\"#mb4d67632ab\" y=\"170.130168\"/>\r\n     <use style=\"fill:#1f77b4;stroke:#1f77b4;\" x=\"118.865383\" xlink:href=\"#mb4d67632ab\" y=\"172.970001\"/>\r\n     <use style=\"fill:#1f77b4;stroke:#1f77b4;\" x=\"115.678196\" xlink:href=\"#mb4d67632ab\" y=\"171.487671\"/>\r\n     <use style=\"fill:#1f77b4;stroke:#1f77b4;\" x=\"118.865383\" xlink:href=\"#mb4d67632ab\" y=\"163.607914\"/>\r\n     <use style=\"fill:#1f77b4;stroke:#1f77b4;\" x=\"144.362881\" xlink:href=\"#mb4d67632ab\" y=\"172.643639\"/>\r\n     <use style=\"fill:#1f77b4;stroke:#1f77b4;\" x=\"86.99351\" xlink:href=\"#mb4d67632ab\" y=\"164.349079\"/>\r\n     <use style=\"fill:#1f77b4;stroke:#1f77b4;\" x=\"174.64116\" xlink:href=\"#mb4d67632ab\" y=\"166.962662\"/>\r\n     <use style=\"fill:#1f77b4;stroke:#1f77b4;\" x=\"192.17069\" xlink:href=\"#mb4d67632ab\" y=\"171.019566\"/>\r\n     <use style=\"fill:#1f77b4;stroke:#1f77b4;\" x=\"220.855376\" xlink:href=\"#mb4d67632ab\" y=\"171.167799\"/>\r\n     <use style=\"fill:#1f77b4;stroke:#1f77b4;\" x=\"128.426945\" xlink:href=\"#mb4d67632ab\" y=\"154.292637\"/>\r\n     <use style=\"fill:#1f77b4;stroke:#1f77b4;\" x=\"235.197718\" xlink:href=\"#mb4d67632ab\" y=\"172.564311\"/>\r\n     <use style=\"fill:#1f77b4;stroke:#1f77b4;\" x=\"187.389909\" xlink:href=\"#mb4d67632ab\" y=\"170.551462\"/>\r\n     <use style=\"fill:#1f77b4;stroke:#1f77b4;\" x=\"152.965474\" xlink:href=\"#mb4d67632ab\" y=\"172.794462\"/>\r\n     <use style=\"fill:#1f77b4;stroke:#1f77b4;\" x=\"220.855376\" xlink:href=\"#mb4d67632ab\" y=\"155.92189\"/>\r\n     <use style=\"fill:#1f77b4;stroke:#1f77b4;\" x=\"109.303821\" xlink:href=\"#mb4d67632ab\" y=\"172.663143\"/>\r\n     <use style=\"fill:#1f77b4;stroke:#1f77b4;\" x=\"153.924443\" xlink:href=\"#mb4d67632ab\" y=\"172.564311\"/>\r\n     <use style=\"fill:#1f77b4;stroke:#1f77b4;\" x=\"152.965474\" xlink:href=\"#mb4d67632ab\" y=\"172.373168\"/>\r\n     <use style=\"fill:#1f77b4;stroke:#1f77b4;\" x=\"152.965474\" xlink:href=\"#mb4d67632ab\" y=\"153.372032\"/>\r\n     <use style=\"fill:#1f77b4;stroke:#1f77b4;\" x=\"198.545065\" xlink:href=\"#mb4d67632ab\" y=\"170.052151\"/>\r\n     <use style=\"fill:#1f77b4;stroke:#1f77b4;\" x=\"185.796316\" xlink:href=\"#mb4d67632ab\" y=\"170.161375\"/>\r\n     <use style=\"fill:#1f77b4;stroke:#1f77b4;\" x=\"141.175694\" xlink:href=\"#mb4d67632ab\" y=\"172.65013\"/>\r\n     <use style=\"fill:#1f77b4;stroke:#1f77b4;\" x=\"112.491008\" xlink:href=\"#mb4d67632ab\" y=\"172.373168\"/>\r\n     <use style=\"fill:#1f77b4;stroke:#1f77b4;\" x=\"61.496012\" xlink:href=\"#mb4d67632ab\" y=\"162.69121\"/>\r\n     <use style=\"fill:#1f77b4;stroke:#1f77b4;\" x=\"86.99351\" xlink:href=\"#mb4d67632ab\" y=\"168.671243\"/>\r\n     <use style=\"fill:#1f77b4;stroke:#1f77b4;\" x=\"152.965474\" xlink:href=\"#mb4d67632ab\" y=\"157.912644\"/>\r\n     <use style=\"fill:#1f77b4;stroke:#1f77b4;\" x=\"201.732252\" xlink:href=\"#mb4d67632ab\" y=\"166.36973\"/>\r\n     <use style=\"fill:#1f77b4;stroke:#1f77b4;\" x=\"152.965474\" xlink:href=\"#mb4d67632ab\" y=\"166.986067\"/>\r\n     <use style=\"fill:#1f77b4;stroke:#1f77b4;\" x=\"147.550068\" xlink:href=\"#mb4d67632ab\" y=\"157.445851\"/>\r\n     <use style=\"fill:#1f77b4;stroke:#1f77b4;\" x=\"252.727249\" xlink:href=\"#mb4d67632ab\" y=\"164.62214\"/>\r\n     <use style=\"fill:#1f77b4;stroke:#1f77b4;\" x=\"71.057574\" xlink:href=\"#mb4d67632ab\" y=\"165.987444\"/>\r\n     <use style=\"fill:#1f77b4;stroke:#1f77b4;\" x=\"61.496012\" xlink:href=\"#mb4d67632ab\" y=\"171.602106\"/>\r\n     <use style=\"fill:#1f77b4;stroke:#1f77b4;\" x=\"125.239757\" xlink:href=\"#mb4d67632ab\" y=\"172.603319\"/>\r\n     <use style=\"fill:#1f77b4;stroke:#1f77b4;\" x=\"236.791312\" xlink:href=\"#mb4d67632ab\" y=\"165.497245\"/>\r\n     <use style=\"fill:#1f77b4;stroke:#1f77b4;\" x=\"115.678196\" xlink:href=\"#mb4d67632ab\" y=\"172.625414\"/>\r\n     <use style=\"fill:#1f77b4;stroke:#1f77b4;\" x=\"152.965474\" xlink:href=\"#mb4d67632ab\" y=\"167.129088\"/>\r\n     <use style=\"fill:#1f77b4;stroke:#1f77b4;\" x=\"217.668188\" xlink:href=\"#mb4d67632ab\" y=\"166.116173\"/>\r\n     <use style=\"fill:#1f77b4;stroke:#1f77b4;\" x=\"153.924443\" xlink:href=\"#mb4d67632ab\" y=\"171.019566\"/>\r\n     <use style=\"fill:#1f77b4;stroke:#1f77b4;\" x=\"173.047567\" xlink:href=\"#mb4d67632ab\" y=\"175.076471\"/>\r\n     <use style=\"fill:#1f77b4;stroke:#1f77b4;\" x=\"152.965474\" xlink:href=\"#mb4d67632ab\" y=\"153.372032\"/>\r\n     <use style=\"fill:#1f77b4;stroke:#1f77b4;\" x=\"152.965474\" xlink:href=\"#mb4d67632ab\" y=\"170.379824\"/>\r\n     <use style=\"fill:#1f77b4;stroke:#1f77b4;\" x=\"86.99351\" xlink:href=\"#mb4d67632ab\" y=\"165.281387\"/>\r\n     <use style=\"fill:#1f77b4;stroke:#1f77b4;\" x=\"61.496012\" xlink:href=\"#mb4d67632ab\" y=\"162.905757\"/>\r\n     <use style=\"fill:#1f77b4;stroke:#1f77b4;\" x=\"71.057574\" xlink:href=\"#mb4d67632ab\" y=\"168.203138\"/>\r\n     <use style=\"fill:#1f77b4;stroke:#1f77b4;\" x=\"152.965474\" xlink:href=\"#mb4d67632ab\" y=\"159.472992\"/>\r\n     <use style=\"fill:#1f77b4;stroke:#1f77b4;\" x=\"152.965474\" xlink:href=\"#mb4d67632ab\" y=\"170.239392\"/>\r\n     <use style=\"fill:#1f77b4;stroke:#1f77b4;\" x=\"201.732252\" xlink:href=\"#mb4d67632ab\" y=\"166.791024\"/>\r\n     <use style=\"fill:#1f77b4;stroke:#1f77b4;\" x=\"185.796316\" xlink:href=\"#mb4d67632ab\" y=\"170.239392\"/>\r\n     <use style=\"fill:#1f77b4;stroke:#1f77b4;\" x=\"173.047567\" xlink:href=\"#mb4d67632ab\" y=\"172.612432\"/>\r\n     <use style=\"fill:#1f77b4;stroke:#1f77b4;\" x=\"160.298817\" xlink:href=\"#mb4d67632ab\" y=\"171.019566\"/>\r\n     <use style=\"fill:#1f77b4;stroke:#1f77b4;\" x=\"118.865383\" xlink:href=\"#mb4d67632ab\" y=\"171.019566\"/>\r\n     <use style=\"fill:#1f77b4;stroke:#1f77b4;\" x=\"118.865383\" xlink:href=\"#mb4d67632ab\" y=\"172.625414\"/>\r\n     <use style=\"fill:#1f77b4;stroke:#1f77b4;\" x=\"67.870386\" xlink:href=\"#mb4d67632ab\" y=\"166.962662\"/>\r\n     <use style=\"fill:#1f77b4;stroke:#1f77b4;\" x=\"198.545065\" xlink:href=\"#mb4d67632ab\" y=\"166.425652\"/>\r\n     <use style=\"fill:#1f77b4;stroke:#1f77b4;\" x=\"243.165687\" xlink:href=\"#mb4d67632ab\" y=\"129.351788\"/>\r\n     <use style=\"fill:#1f77b4;stroke:#1f77b4;\" x=\"152.965474\" xlink:href=\"#mb4d67632ab\" y=\"172.657931\"/>\r\n     <use style=\"fill:#1f77b4;stroke:#1f77b4;\" x=\"192.17069\" xlink:href=\"#mb4d67632ab\" y=\"172.453776\"/>\r\n     <use style=\"fill:#1f77b4;stroke:#1f77b4;\" x=\"152.965474\" xlink:href=\"#mb4d67632ab\" y=\"172.657931\"/>\r\n     <use style=\"fill:#1f77b4;stroke:#1f77b4;\" x=\"134.801319\" xlink:href=\"#mb4d67632ab\" y=\"171.019566\"/>\r\n     <use style=\"fill:#1f77b4;stroke:#1f77b4;\" x=\"147.550068\" xlink:href=\"#mb4d67632ab\" y=\"172.11181\"/>\r\n     <use style=\"fill:#1f77b4;stroke:#1f77b4;\" x=\"152.965474\" xlink:href=\"#mb4d67632ab\" y=\"153.372032\"/>\r\n     <use style=\"fill:#1f77b4;stroke:#1f77b4;\" x=\"166.673192\" xlink:href=\"#mb4d67632ab\" y=\"173.049329\"/>\r\n     <use style=\"fill:#1f77b4;stroke:#1f77b4;\" x=\"203.325846\" xlink:href=\"#mb4d67632ab\" y=\"172.821768\"/>\r\n     <use style=\"fill:#1f77b4;stroke:#1f77b4;\" x=\"115.678196\" xlink:href=\"#mb4d67632ab\" y=\"172.564311\"/>\r\n     <use style=\"fill:#1f77b4;stroke:#1f77b4;\" x=\"64.683199\" xlink:href=\"#mb4d67632ab\" y=\"171.811443\"/>\r\n     <use style=\"fill:#1f77b4;stroke:#1f77b4;\" x=\"160.298817\" xlink:href=\"#mb4d67632ab\" y=\"170.130168\"/>\r\n     <use style=\"fill:#1f77b4;stroke:#1f77b4;\" x=\"141.175694\" xlink:href=\"#mb4d67632ab\" y=\"169.213464\"/>\r\n     <use style=\"fill:#1f77b4;stroke:#1f77b4;\" x=\"109.303821\" xlink:href=\"#mb4d67632ab\" y=\"172.657931\"/>\r\n     <use style=\"fill:#1f77b4;stroke:#1f77b4;\" x=\"185.796316\" xlink:href=\"#mb4d67632ab\" y=\"165.402314\"/>\r\n     <use style=\"fill:#1f77b4;stroke:#1f77b4;\" x=\"134.801319\" xlink:href=\"#mb4d67632ab\" y=\"172.87638\"/>\r\n     <use style=\"fill:#1f77b4;stroke:#1f77b4;\" x=\"169.860379\" xlink:href=\"#mb4d67632ab\" y=\"168.52301\"/>\r\n     <use style=\"fill:#1f77b4;stroke:#1f77b4;\" x=\"128.426945\" xlink:href=\"#mb4d67632ab\" y=\"172.813966\"/>\r\n     <use style=\"fill:#1f77b4;stroke:#1f77b4;\" x=\"153.924443\" xlink:href=\"#mb4d67632ab\" y=\"171.019566\"/>\r\n     <use style=\"fill:#1f77b4;stroke:#1f77b4;\" x=\"152.965474\" xlink:href=\"#mb4d67632ab\" y=\"172.657931\"/>\r\n     <use style=\"fill:#1f77b4;stroke:#1f77b4;\" x=\"157.11163\" xlink:href=\"#mb4d67632ab\" y=\"139.72679\"/>\r\n     <use style=\"fill:#1f77b4;stroke:#1f77b4;\" x=\"144.362881\" xlink:href=\"#mb4d67632ab\" y=\"172.603319\"/>\r\n     <use style=\"fill:#1f77b4;stroke:#1f77b4;\" x=\"192.17069\" xlink:href=\"#mb4d67632ab\" y=\"166.650592\"/>\r\n     <use style=\"fill:#1f77b4;stroke:#1f77b4;\" x=\"160.298817\" xlink:href=\"#mb4d67632ab\" y=\"151.268153\"/>\r\n     <use style=\"fill:#1f77b4;stroke:#1f77b4;\" x=\"153.924443\" xlink:href=\"#mb4d67632ab\" y=\"171.79974\"/>\r\n     <use style=\"fill:#1f77b4;stroke:#1f77b4;\" x=\"109.303821\" xlink:href=\"#mb4d67632ab\" y=\"172.564311\"/>\r\n     <use style=\"fill:#1f77b4;stroke:#1f77b4;\" x=\"144.362881\" xlink:href=\"#mb4d67632ab\" y=\"171.019566\"/>\r\n     <use style=\"fill:#1f77b4;stroke:#1f77b4;\" x=\"220.855376\" xlink:href=\"#mb4d67632ab\" y=\"172.564311\"/>\r\n     <use style=\"fill:#1f77b4;stroke:#1f77b4;\" x=\"152.965474\" xlink:href=\"#mb4d67632ab\" y=\"172.612432\"/>\r\n     <use style=\"fill:#1f77b4;stroke:#1f77b4;\" x=\"179.421941\" xlink:href=\"#mb4d67632ab\" y=\"146.990209\"/>\r\n     <use style=\"fill:#1f77b4;stroke:#1f77b4;\" x=\"128.426945\" xlink:href=\"#mb4d67632ab\" y=\"172.15862\"/>\r\n     <use style=\"fill:#1f77b4;stroke:#1f77b4;\" x=\"118.865383\" xlink:href=\"#mb4d67632ab\" y=\"171.79974\"/>\r\n     <use style=\"fill:#1f77b4;stroke:#1f77b4;\" x=\"123.646164\" xlink:href=\"#mb4d67632ab\" y=\"172.813966\"/>\r\n     <use style=\"fill:#1f77b4;stroke:#1f77b4;\" x=\"115.678196\" xlink:href=\"#mb4d67632ab\" y=\"171.019566\"/>\r\n     <use style=\"fill:#1f77b4;stroke:#1f77b4;\" x=\"152.965474\" xlink:href=\"#mb4d67632ab\" y=\"167.129088\"/>\r\n     <use style=\"fill:#1f77b4;stroke:#1f77b4;\" x=\"169.860379\" xlink:href=\"#mb4d67632ab\" y=\"149.026463\"/>\r\n     <use style=\"fill:#1f77b4;stroke:#1f77b4;\" x=\"150.737256\" xlink:href=\"#mb4d67632ab\" y=\"172.65013\"/>\r\n     <use style=\"fill:#1f77b4;stroke:#1f77b4;\" x=\"246.352874\" xlink:href=\"#mb4d67632ab\" y=\"170.863531\"/>\r\n     <use style=\"fill:#1f77b4;stroke:#1f77b4;\" x=\"74.244761\" xlink:href=\"#mb4d67632ab\" y=\"165.281387\"/>\r\n     <use style=\"fill:#1f77b4;stroke:#1f77b4;\" x=\"134.801319\" xlink:href=\"#mb4d67632ab\" y=\"171.79974\"/>\r\n     <use style=\"fill:#1f77b4;stroke:#1f77b4;\" x=\"152.965474\" xlink:href=\"#mb4d67632ab\" y=\"172.720345\"/>\r\n     <use style=\"fill:#1f77b4;stroke:#1f77b4;\" x=\"198.545065\" xlink:href=\"#mb4d67632ab\" y=\"166.962662\"/>\r\n     <use style=\"fill:#1f77b4;stroke:#1f77b4;\" x=\"83.806323\" xlink:href=\"#mb4d67632ab\" y=\"166.884644\"/>\r\n     <use style=\"fill:#1f77b4;stroke:#1f77b4;\" x=\"118.865383\" xlink:href=\"#mb4d67632ab\" y=\"171.79974\"/>\r\n     <use style=\"fill:#1f77b4;stroke:#1f77b4;\" x=\"163.486005\" xlink:href=\"#mb4d67632ab\" y=\"171.245817\"/>\r\n     <use style=\"fill:#1f77b4;stroke:#1f77b4;\" x=\"152.965474\" xlink:href=\"#mb4d67632ab\" y=\"170.565755\"/>\r\n     <use style=\"fill:#1f77b4;stroke:#1f77b4;\" x=\"152.965474\" xlink:href=\"#mb4d67632ab\" y=\"170.239392\"/>\r\n     <use style=\"fill:#1f77b4;stroke:#1f77b4;\" x=\"150.737256\" xlink:href=\"#mb4d67632ab\" y=\"171.79974\"/>\r\n     <use style=\"fill:#1f77b4;stroke:#1f77b4;\" x=\"128.426945\" xlink:href=\"#mb4d67632ab\" y=\"172.852975\"/>\r\n     <use style=\"fill:#1f77b4;stroke:#1f77b4;\" x=\"153.924443\" xlink:href=\"#mb4d67632ab\" y=\"172.821768\"/>\r\n     <use style=\"fill:#1f77b4;stroke:#1f77b4;\" x=\"198.545065\" xlink:href=\"#mb4d67632ab\" y=\"146.990209\"/>\r\n     <use style=\"fill:#1f77b4;stroke:#1f77b4;\" x=\"137.988506\" xlink:href=\"#mb4d67632ab\" y=\"172.65013\"/>\r\n     <use style=\"fill:#1f77b4;stroke:#1f77b4;\" x=\"134.801319\" xlink:href=\"#mb4d67632ab\" y=\"170.551462\"/>\r\n     <use style=\"fill:#1f77b4;stroke:#1f77b4;\" x=\"176.234754\" xlink:href=\"#mb4d67632ab\" y=\"158.675904\"/>\r\n     <use style=\"fill:#1f77b4;stroke:#1f77b4;\" x=\"230.416938\" xlink:href=\"#mb4d67632ab\" y=\"166.962662\"/>\r\n     <use style=\"fill:#1f77b4;stroke:#1f77b4;\" x=\"152.965474\" xlink:href=\"#mb4d67632ab\" y=\"172.813966\"/>\r\n     <use style=\"fill:#1f77b4;stroke:#1f77b4;\" x=\"150.737256\" xlink:href=\"#mb4d67632ab\" y=\"171.811443\"/>\r\n     <use style=\"fill:#1f77b4;stroke:#1f77b4;\" x=\"255.914436\" xlink:href=\"#mb4d67632ab\" y=\"166.791024\"/>\r\n     <use style=\"fill:#1f77b4;stroke:#1f77b4;\" x=\"153.924443\" xlink:href=\"#mb4d67632ab\" y=\"170.052151\"/>\r\n     <use style=\"fill:#1f77b4;stroke:#1f77b4;\" x=\"188.983503\" xlink:href=\"#mb4d67632ab\" y=\"168.768764\"/>\r\n     <use style=\"fill:#1f77b4;stroke:#1f77b4;\" x=\"150.737256\" xlink:href=\"#mb4d67632ab\" y=\"170.31872\"/>\r\n     <use style=\"fill:#1f77b4;stroke:#1f77b4;\" x=\"152.965474\" xlink:href=\"#mb4d67632ab\" y=\"150.360561\"/>\r\n     <use style=\"fill:#1f77b4;stroke:#1f77b4;\" x=\"153.924443\" xlink:href=\"#mb4d67632ab\" y=\"148.082453\"/>\r\n     <use style=\"fill:#1f77b4;stroke:#1f77b4;\" x=\"169.860379\" xlink:href=\"#mb4d67632ab\" y=\"15.194118\"/>\r\n     <use style=\"fill:#1f77b4;stroke:#1f77b4;\" x=\"217.668188\" xlink:href=\"#mb4d67632ab\" y=\"166.962662\"/>\r\n     <use style=\"fill:#1f77b4;stroke:#1f77b4;\" x=\"152.965474\" xlink:href=\"#mb4d67632ab\" y=\"172.657931\"/>\r\n     <use style=\"fill:#1f77b4;stroke:#1f77b4;\" x=\"67.870386\" xlink:href=\"#mb4d67632ab\" y=\"165.281387\"/>\r\n     <use style=\"fill:#1f77b4;stroke:#1f77b4;\" x=\"224.042563\" xlink:href=\"#mb4d67632ab\" y=\"150.220129\"/>\r\n     <use style=\"fill:#1f77b4;stroke:#1f77b4;\" x=\"185.796316\" xlink:href=\"#mb4d67632ab\" y=\"175.076471\"/>\r\n     <use style=\"fill:#1f77b4;stroke:#1f77b4;\" x=\"152.965474\" xlink:href=\"#mb4d67632ab\" y=\"172.657931\"/>\r\n     <use style=\"fill:#1f77b4;stroke:#1f77b4;\" x=\"173.047567\" xlink:href=\"#mb4d67632ab\" y=\"171.79974\"/>\r\n     <use style=\"fill:#1f77b4;stroke:#1f77b4;\" x=\"109.303821\" xlink:href=\"#mb4d67632ab\" y=\"162.69121\"/>\r\n     <use style=\"fill:#1f77b4;stroke:#1f77b4;\" x=\"137.988506\" xlink:href=\"#mb4d67632ab\" y=\"172.65013\"/>\r\n     <use style=\"fill:#1f77b4;stroke:#1f77b4;\" x=\"243.165687\" xlink:href=\"#mb4d67632ab\" y=\"127.185494\"/>\r\n     <use style=\"fill:#1f77b4;stroke:#1f77b4;\" x=\"169.860379\" xlink:href=\"#mb4d67632ab\" y=\"132.749445\"/>\r\n     <use style=\"fill:#1f77b4;stroke:#1f77b4;\" x=\"152.965474\" xlink:href=\"#mb4d67632ab\" y=\"165.402314\"/>\r\n     <use style=\"fill:#1f77b4;stroke:#1f77b4;\" x=\"137.988506\" xlink:href=\"#mb4d67632ab\" y=\"175.076471\"/>\r\n     <use style=\"fill:#1f77b4;stroke:#1f77b4;\" x=\"188.983503\" xlink:href=\"#mb4d67632ab\" y=\"168.991114\"/>\r\n     <use style=\"fill:#1f77b4;stroke:#1f77b4;\" x=\"176.234754\" xlink:href=\"#mb4d67632ab\" y=\"165.808004\"/>\r\n     <use style=\"fill:#1f77b4;stroke:#1f77b4;\" x=\"152.965474\" xlink:href=\"#mb4d67632ab\" y=\"172.657931\"/>\r\n     <use style=\"fill:#1f77b4;stroke:#1f77b4;\" x=\"259.101623\" xlink:href=\"#mb4d67632ab\" y=\"150.748057\"/>\r\n     <use style=\"fill:#1f77b4;stroke:#1f77b4;\" x=\"201.732252\" xlink:href=\"#mb4d67632ab\" y=\"172.657931\"/>\r\n     <use style=\"fill:#1f77b4;stroke:#1f77b4;\" x=\"152.965474\" xlink:href=\"#mb4d67632ab\" y=\"175.076471\"/>\r\n     <use style=\"fill:#1f77b4;stroke:#1f77b4;\" x=\"80.619135\" xlink:href=\"#mb4d67632ab\" y=\"165.987444\"/>\r\n     <use style=\"fill:#1f77b4;stroke:#1f77b4;\" x=\"169.860379\" xlink:href=\"#mb4d67632ab\" y=\"168.757062\"/>\r\n     <use style=\"fill:#1f77b4;stroke:#1f77b4;\" x=\"265.475998\" xlink:href=\"#mb4d67632ab\" y=\"172.657931\"/>\r\n     <use style=\"fill:#1f77b4;stroke:#1f77b4;\" x=\"147.550068\" xlink:href=\"#mb4d67632ab\" y=\"172.625414\"/>\r\n     <use style=\"fill:#1f77b4;stroke:#1f77b4;\" x=\"109.303821\" xlink:href=\"#mb4d67632ab\" y=\"172.11181\"/>\r\n     <use style=\"fill:#1f77b4;stroke:#1f77b4;\" x=\"118.865383\" xlink:href=\"#mb4d67632ab\" y=\"172.564311\"/>\r\n     <use style=\"fill:#1f77b4;stroke:#1f77b4;\" x=\"152.965474\" xlink:href=\"#mb4d67632ab\" y=\"166.962662\"/>\r\n     <use style=\"fill:#1f77b4;stroke:#1f77b4;\" x=\"163.486005\" xlink:href=\"#mb4d67632ab\" y=\"172.373168\"/>\r\n     <use style=\"fill:#1f77b4;stroke:#1f77b4;\" x=\"153.924443\" xlink:href=\"#mb4d67632ab\" y=\"172.11181\"/>\r\n     <use style=\"fill:#1f77b4;stroke:#1f77b4;\" x=\"128.426945\" xlink:href=\"#mb4d67632ab\" y=\"172.612432\"/>\r\n     <use style=\"fill:#1f77b4;stroke:#1f77b4;\" x=\"192.17069\" xlink:href=\"#mb4d67632ab\" y=\"171.019566\"/>\r\n     <use style=\"fill:#1f77b4;stroke:#1f77b4;\" x=\"128.426945\" xlink:href=\"#mb4d67632ab\" y=\"172.657931\"/>\r\n     <use style=\"fill:#1f77b4;stroke:#1f77b4;\" x=\"141.175694\" xlink:href=\"#mb4d67632ab\" y=\"150.469785\"/>\r\n     <use style=\"fill:#1f77b4;stroke:#1f77b4;\" x=\"118.865383\" xlink:href=\"#mb4d67632ab\" y=\"146.653424\"/>\r\n     <use style=\"fill:#1f77b4;stroke:#1f77b4;\" x=\"173.047567\" xlink:href=\"#mb4d67632ab\" y=\"171.058575\"/>\r\n     <use style=\"fill:#1f77b4;stroke:#1f77b4;\" x=\"134.801319\" xlink:href=\"#mb4d67632ab\" y=\"172.314655\"/>\r\n     <use style=\"fill:#1f77b4;stroke:#1f77b4;\" x=\"134.801319\" xlink:href=\"#mb4d67632ab\" y=\"172.612432\"/>\r\n     <use style=\"fill:#1f77b4;stroke:#1f77b4;\" x=\"152.965474\" xlink:href=\"#mb4d67632ab\" y=\"166.425652\"/>\r\n     <use style=\"fill:#1f77b4;stroke:#1f77b4;\" x=\"133.207726\" xlink:href=\"#mb4d67632ab\" y=\"172.820457\"/>\r\n     <use style=\"fill:#1f77b4;stroke:#1f77b4;\" x=\"64.683199\" xlink:href=\"#mb4d67632ab\" y=\"127.782327\"/>\r\n     <use style=\"fill:#1f77b4;stroke:#1f77b4;\" x=\"152.965474\" xlink:href=\"#mb4d67632ab\" y=\"165.558349\"/>\r\n     <use style=\"fill:#1f77b4;stroke:#1f77b4;\" x=\"217.668188\" xlink:href=\"#mb4d67632ab\" y=\"97.832761\"/>\r\n     <use style=\"fill:#1f77b4;stroke:#1f77b4;\" x=\"152.965474\" xlink:href=\"#mb4d67632ab\" y=\"172.657931\"/>\r\n     <use style=\"fill:#1f77b4;stroke:#1f77b4;\" x=\"152.965474\" xlink:href=\"#mb4d67632ab\" y=\"167.820853\"/>\r\n     <use style=\"fill:#1f77b4;stroke:#1f77b4;\" x=\"118.865383\" xlink:href=\"#mb4d67632ab\" y=\"175.076471\"/>\r\n     <use style=\"fill:#1f77b4;stroke:#1f77b4;\" x=\"152.965474\" xlink:href=\"#mb4d67632ab\" y=\"171.222411\"/>\r\n     <use style=\"fill:#1f77b4;stroke:#1f77b4;\" x=\"152.965474\" xlink:href=\"#mb4d67632ab\" y=\"172.564311\"/>\r\n     <use style=\"fill:#1f77b4;stroke:#1f77b4;\" x=\"61.241037\" xlink:href=\"#mb4d67632ab\" y=\"127.782327\"/>\r\n     <use style=\"fill:#1f77b4;stroke:#1f77b4;\" x=\"152.965474\" xlink:href=\"#mb4d67632ab\" y=\"140.473167\"/>\r\n     <use style=\"fill:#1f77b4;stroke:#1f77b4;\" x=\"112.491008\" xlink:href=\"#mb4d67632ab\" y=\"141.092094\"/>\r\n     <use style=\"fill:#1f77b4;stroke:#1f77b4;\" x=\"153.924443\" xlink:href=\"#mb4d67632ab\" y=\"167.586801\"/>\r\n     <use style=\"fill:#1f77b4;stroke:#1f77b4;\" x=\"153.924443\" xlink:href=\"#mb4d67632ab\" y=\"157.3106\"/>\r\n     <use style=\"fill:#1f77b4;stroke:#1f77b4;\" x=\"134.801319\" xlink:href=\"#mb4d67632ab\" y=\"149.125296\"/>\r\n     <use style=\"fill:#1f77b4;stroke:#1f77b4;\" x=\"115.678196\" xlink:href=\"#mb4d67632ab\" y=\"93.197217\"/>\r\n     <use style=\"fill:#1f77b4;stroke:#1f77b4;\" x=\"141.175694\" xlink:href=\"#mb4d67632ab\" y=\"166.962662\"/>\r\n     <use style=\"fill:#1f77b4;stroke:#1f77b4;\" x=\"147.550068\" xlink:href=\"#mb4d67632ab\" y=\"172.612432\"/>\r\n     <use style=\"fill:#1f77b4;stroke:#1f77b4;\" x=\"195.357878\" xlink:href=\"#mb4d67632ab\" y=\"166.884644\"/>\r\n     <use style=\"fill:#1f77b4;stroke:#1f77b4;\" x=\"141.175694\" xlink:href=\"#mb4d67632ab\" y=\"172.625414\"/>\r\n     <use style=\"fill:#1f77b4;stroke:#1f77b4;\" x=\"134.801319\" xlink:href=\"#mb4d67632ab\" y=\"166.962662\"/>\r\n     <use style=\"fill:#1f77b4;stroke:#1f77b4;\" x=\"230.416938\" xlink:href=\"#mb4d67632ab\" y=\"170.707497\"/>\r\n     <use style=\"fill:#1f77b4;stroke:#1f77b4;\" x=\"157.11163\" xlink:href=\"#mb4d67632ab\" y=\"123.62659\"/>\r\n     <use style=\"fill:#1f77b4;stroke:#1f77b4;\" x=\"185.796316\" xlink:href=\"#mb4d67632ab\" y=\"133.103113\"/>\r\n     <use style=\"fill:#1f77b4;stroke:#1f77b4;\" x=\"128.426945\" xlink:href=\"#mb4d67632ab\" y=\"172.813966\"/>\r\n     <use style=\"fill:#1f77b4;stroke:#1f77b4;\" x=\"144.362881\" xlink:href=\"#mb4d67632ab\" y=\"172.612432\"/>\r\n     <use style=\"fill:#1f77b4;stroke:#1f77b4;\" x=\"153.924443\" xlink:href=\"#mb4d67632ab\" y=\"171.222411\"/>\r\n     <use style=\"fill:#1f77b4;stroke:#1f77b4;\" x=\"128.426945\" xlink:href=\"#mb4d67632ab\" y=\"166.026453\"/>\r\n     <use style=\"fill:#1f77b4;stroke:#1f77b4;\" x=\"152.965474\" xlink:href=\"#mb4d67632ab\" y=\"153.372032\"/>\r\n     <use style=\"fill:#1f77b4;stroke:#1f77b4;\" x=\"173.047567\" xlink:href=\"#mb4d67632ab\" y=\"132.749445\"/>\r\n     <use style=\"fill:#1f77b4;stroke:#1f77b4;\" x=\"252.727249\" xlink:href=\"#mb4d67632ab\" y=\"173.129937\"/>\r\n     <use style=\"fill:#1f77b4;stroke:#1f77b4;\" x=\"173.047567\" xlink:href=\"#mb4d67632ab\" y=\"171.019566\"/>\r\n     <use style=\"fill:#1f77b4;stroke:#1f77b4;\" x=\"157.11163\" xlink:href=\"#mb4d67632ab\" y=\"168.671243\"/>\r\n     <use style=\"fill:#1f77b4;stroke:#1f77b4;\" x=\"109.303821\" xlink:href=\"#mb4d67632ab\" y=\"156.982927\"/>\r\n     <use style=\"fill:#1f77b4;stroke:#1f77b4;\" x=\"152.965474\" xlink:href=\"#mb4d67632ab\" y=\"167.820853\"/>\r\n     <use style=\"fill:#1f77b4;stroke:#1f77b4;\" x=\"203.325846\" xlink:href=\"#mb4d67632ab\" y=\"166.182488\"/>\r\n     <use style=\"fill:#1f77b4;stroke:#1f77b4;\" x=\"179.421941\" xlink:href=\"#mb4d67632ab\" y=\"127.185494\"/>\r\n     <use style=\"fill:#1f77b4;stroke:#1f77b4;\" x=\"109.303821\" xlink:href=\"#mb4d67632ab\" y=\"169.459218\"/>\r\n     <use style=\"fill:#1f77b4;stroke:#1f77b4;\" x=\"152.965474\" xlink:href=\"#mb4d67632ab\" y=\"133.368373\"/>\r\n     <use style=\"fill:#1f77b4;stroke:#1f77b4;\" x=\"152.965474\" xlink:href=\"#mb4d67632ab\" y=\"172.612432\"/>\r\n     <use style=\"fill:#1f77b4;stroke:#1f77b4;\" x=\"150.737256\" xlink:href=\"#mb4d67632ab\" y=\"154.292637\"/>\r\n     <use style=\"fill:#1f77b4;stroke:#1f77b4;\" x=\"188.983503\" xlink:href=\"#mb4d67632ab\" y=\"133.103113\"/>\r\n     <use style=\"fill:#1f77b4;stroke:#1f77b4;\" x=\"201.732252\" xlink:href=\"#mb4d67632ab\" y=\"172.564311\"/>\r\n     <use style=\"fill:#1f77b4;stroke:#1f77b4;\" x=\"201.732252\" xlink:href=\"#mb4d67632ab\" y=\"163.998001\"/>\r\n     <use style=\"fill:#1f77b4;stroke:#1f77b4;\" x=\"64.683199\" xlink:href=\"#mb4d67632ab\" y=\"166.962662\"/>\r\n     <use style=\"fill:#1f77b4;stroke:#1f77b4;\" x=\"134.801319\" xlink:href=\"#mb4d67632ab\" y=\"93.002174\"/>\r\n     <use style=\"fill:#1f77b4;stroke:#1f77b4;\" x=\"147.550068\" xlink:href=\"#mb4d67632ab\" y=\"171.019566\"/>\r\n     <use style=\"fill:#1f77b4;stroke:#1f77b4;\" x=\"137.988506\" xlink:href=\"#mb4d67632ab\" y=\"171.019566\"/>\r\n     <use style=\"fill:#1f77b4;stroke:#1f77b4;\" x=\"173.047567\" xlink:href=\"#mb4d67632ab\" y=\"171.019566\"/>\r\n     <use style=\"fill:#1f77b4;stroke:#1f77b4;\" x=\"134.801319\" xlink:href=\"#mb4d67632ab\" y=\"171.019566\"/>\r\n     <use style=\"fill:#1f77b4;stroke:#1f77b4;\" x=\"185.796316\" xlink:href=\"#mb4d67632ab\" y=\"171.019566\"/>\r\n     <use style=\"fill:#1f77b4;stroke:#1f77b4;\" x=\"152.965474\" xlink:href=\"#mb4d67632ab\" y=\"170.052151\"/>\r\n     <use style=\"fill:#1f77b4;stroke:#1f77b4;\" x=\"67.870386\" xlink:href=\"#mb4d67632ab\" y=\"170.114564\"/>\r\n     <use style=\"fill:#1f77b4;stroke:#1f77b4;\" x=\"192.17069\" xlink:href=\"#mb4d67632ab\" y=\"172.373168\"/>\r\n     <use style=\"fill:#1f77b4;stroke:#1f77b4;\" x=\"131.614132\" xlink:href=\"#mb4d67632ab\" y=\"172.197629\"/>\r\n     <use style=\"fill:#1f77b4;stroke:#1f77b4;\" x=\"152.965474\" xlink:href=\"#mb4d67632ab\" y=\"164.154036\"/>\r\n     <use style=\"fill:#1f77b4;stroke:#1f77b4;\" x=\"106.116634\" xlink:href=\"#mb4d67632ab\" y=\"172.820457\"/>\r\n     <use style=\"fill:#1f77b4;stroke:#1f77b4;\" x=\"137.988506\" xlink:href=\"#mb4d67632ab\" y=\"169.521632\"/>\r\n     <use style=\"fill:#1f77b4;stroke:#1f77b4;\" x=\"152.965474\" xlink:href=\"#mb4d67632ab\" y=\"172.821768\"/>\r\n     <use style=\"fill:#1f77b4;stroke:#1f77b4;\" x=\"147.550068\" xlink:href=\"#mb4d67632ab\" y=\"172.11181\"/>\r\n     <use style=\"fill:#1f77b4;stroke:#1f77b4;\" x=\"128.426945\" xlink:href=\"#mb4d67632ab\" y=\"157.912644\"/>\r\n     <use style=\"fill:#1f77b4;stroke:#1f77b4;\" x=\"179.421941\" xlink:href=\"#mb4d67632ab\" y=\"171.019566\"/>\r\n     <use style=\"fill:#1f77b4;stroke:#1f77b4;\" x=\"152.965474\" xlink:href=\"#mb4d67632ab\" y=\"172.617612\"/>\r\n     <use style=\"fill:#1f77b4;stroke:#1f77b4;\" x=\"152.965474\" xlink:href=\"#mb4d67632ab\" y=\"172.617612\"/>\r\n     <use style=\"fill:#1f77b4;stroke:#1f77b4;\" x=\"185.796316\" xlink:href=\"#mb4d67632ab\" y=\"166.36973\"/>\r\n     <use style=\"fill:#1f77b4;stroke:#1f77b4;\" x=\"150.737256\" xlink:href=\"#mb4d67632ab\" y=\"166.425652\"/>\r\n     <use style=\"fill:#1f77b4;stroke:#1f77b4;\" x=\"201.732252\" xlink:href=\"#mb4d67632ab\" y=\"170.565755\"/>\r\n     <use style=\"fill:#1f77b4;stroke:#1f77b4;\" x=\"169.860379\" xlink:href=\"#mb4d67632ab\" y=\"172.87638\"/>\r\n     <use style=\"fill:#1f77b4;stroke:#1f77b4;\" x=\"152.965474\" xlink:href=\"#mb4d67632ab\" y=\"170.239392\"/>\r\n     <use style=\"fill:#1f77b4;stroke:#1f77b4;\" x=\"153.924443\" xlink:href=\"#mb4d67632ab\" y=\"172.813966\"/>\r\n     <use style=\"fill:#1f77b4;stroke:#1f77b4;\" x=\"249.540061\" xlink:href=\"#mb4d67632ab\" y=\"151.593235\"/>\r\n     <use style=\"fill:#1f77b4;stroke:#1f77b4;\" x=\"152.965474\" xlink:href=\"#mb4d67632ab\" y=\"172.820457\"/>\r\n     <use style=\"fill:#1f77b4;stroke:#1f77b4;\" x=\"152.965474\" xlink:href=\"#mb4d67632ab\" y=\"172.657931\"/>\r\n     <use style=\"fill:#1f77b4;stroke:#1f77b4;\" x=\"134.801319\" xlink:href=\"#mb4d67632ab\" y=\"153.450049\"/>\r\n     <use style=\"fill:#1f77b4;stroke:#1f77b4;\" x=\"137.988506\" xlink:href=\"#mb4d67632ab\" y=\"157.774803\"/>\r\n     <use style=\"fill:#1f77b4;stroke:#1f77b4;\" x=\"115.678196\" xlink:href=\"#mb4d67632ab\" y=\"173.049329\"/>\r\n     <use style=\"fill:#1f77b4;stroke:#1f77b4;\" x=\"118.865383\" xlink:href=\"#mb4d67632ab\" y=\"172.564311\"/>\r\n     <use style=\"fill:#1f77b4;stroke:#1f77b4;\" x=\"128.426945\" xlink:href=\"#mb4d67632ab\" y=\"132.749445\"/>\r\n     <use style=\"fill:#1f77b4;stroke:#1f77b4;\" x=\"67.870386\" xlink:href=\"#mb4d67632ab\" y=\"168.499604\"/>\r\n     <use style=\"fill:#1f77b4;stroke:#1f77b4;\" x=\"152.965474\" xlink:href=\"#mb4d67632ab\" y=\"149.433464\"/>\r\n     <use style=\"fill:#1f77b4;stroke:#1f77b4;\" x=\"128.426945\" xlink:href=\"#mb4d67632ab\" y=\"172.813966\"/>\r\n     <use style=\"fill:#1f77b4;stroke:#1f77b4;\" x=\"144.362881\" xlink:href=\"#mb4d67632ab\" y=\"109.073757\"/>\r\n     <use style=\"fill:#1f77b4;stroke:#1f77b4;\" x=\"122.05257\" xlink:href=\"#mb4d67632ab\" y=\"173.824291\"/>\r\n     <use style=\"fill:#1f77b4;stroke:#1f77b4;\" x=\"118.865383\" xlink:href=\"#mb4d67632ab\" y=\"172.65013\"/>\r\n     <use style=\"fill:#1f77b4;stroke:#1f77b4;\" x=\"192.17069\" xlink:href=\"#mb4d67632ab\" y=\"104.072842\"/>\r\n     <use style=\"fill:#1f77b4;stroke:#1f77b4;\" x=\"61.496012\" xlink:href=\"#mb4d67632ab\" y=\"170.163965\"/>\r\n     <use style=\"fill:#1f77b4;stroke:#1f77b4;\" x=\"160.298817\" xlink:href=\"#mb4d67632ab\" y=\"172.603319\"/>\r\n     <use style=\"fill:#1f77b4;stroke:#1f77b4;\" x=\"169.860379\" xlink:href=\"#mb4d67632ab\" y=\"158.848853\"/>\r\n     <use style=\"fill:#1f77b4;stroke:#1f77b4;\" x=\"152.965474\" xlink:href=\"#mb4d67632ab\" y=\"172.612432\"/>\r\n     <use style=\"fill:#1f77b4;stroke:#1f77b4;\" x=\"115.678196\" xlink:href=\"#mb4d67632ab\" y=\"152.139357\"/>\r\n     <use style=\"fill:#1f77b4;stroke:#1f77b4;\" x=\"61.496012\" xlink:href=\"#mb4d67632ab\" y=\"160.440408\"/>\r\n     <use style=\"fill:#1f77b4;stroke:#1f77b4;\" x=\"173.047567\" xlink:href=\"#mb4d67632ab\" y=\"171.019566\"/>\r\n     <use style=\"fill:#1f77b4;stroke:#1f77b4;\" x=\"152.965474\" xlink:href=\"#mb4d67632ab\" y=\"172.664422\"/>\r\n     <use style=\"fill:#1f77b4;stroke:#1f77b4;\" x=\"112.491008\" xlink:href=\"#mb4d67632ab\" y=\"171.331636\"/>\r\n     <use style=\"fill:#1f77b4;stroke:#1f77b4;\" x=\"173.047567\" xlink:href=\"#mb4d67632ab\" y=\"137.628122\"/>\r\n     <use style=\"fill:#1f77b4;stroke:#1f77b4;\" x=\"125.239757\" xlink:href=\"#mb4d67632ab\" y=\"172.643639\"/>\r\n     <use style=\"fill:#1f77b4;stroke:#1f77b4;\" x=\"147.550068\" xlink:href=\"#mb4d67632ab\" y=\"172.603319\"/>\r\n     <use style=\"fill:#1f77b4;stroke:#1f77b4;\" x=\"131.614132\" xlink:href=\"#mb4d67632ab\" y=\"139.72679\"/>\r\n     <use style=\"fill:#1f77b4;stroke:#1f77b4;\" x=\"134.801319\" xlink:href=\"#mb4d67632ab\" y=\"169.864909\"/>\r\n     <use style=\"fill:#1f77b4;stroke:#1f77b4;\" x=\"128.426945\" xlink:href=\"#mb4d67632ab\" y=\"172.643639\"/>\r\n     <use style=\"fill:#1f77b4;stroke:#1f77b4;\" x=\"157.11163\" xlink:href=\"#mb4d67632ab\" y=\"172.625414\"/>\r\n     <use style=\"fill:#1f77b4;stroke:#1f77b4;\" x=\"204.919439\" xlink:href=\"#mb4d67632ab\" y=\"166.962662\"/>\r\n     <use style=\"fill:#1f77b4;stroke:#1f77b4;\" x=\"131.614132\" xlink:href=\"#mb4d67632ab\" y=\"171.79974\"/>\r\n     <use style=\"fill:#1f77b4;stroke:#1f77b4;\" x=\"147.550068\" xlink:href=\"#mb4d67632ab\" y=\"171.128791\"/>\r\n     <use style=\"fill:#1f77b4;stroke:#1f77b4;\" x=\"182.609128\" xlink:href=\"#mb4d67632ab\" y=\"172.603319\"/>\r\n     <use style=\"fill:#1f77b4;stroke:#1f77b4;\" x=\"141.175694\" xlink:href=\"#mb4d67632ab\" y=\"172.564311\"/>\r\n     <use style=\"fill:#1f77b4;stroke:#1f77b4;\" x=\"125.239757\" xlink:href=\"#mb4d67632ab\" y=\"172.010387\"/>\r\n     <use style=\"fill:#1f77b4;stroke:#1f77b4;\" x=\"147.550068\" xlink:href=\"#mb4d67632ab\" y=\"170.130168\"/>\r\n     <use style=\"fill:#1f77b4;stroke:#1f77b4;\" x=\"122.05257\" xlink:href=\"#mb4d67632ab\" y=\"172.373168\"/>\r\n     <use style=\"fill:#1f77b4;stroke:#1f77b4;\" x=\"166.673192\" xlink:href=\"#mb4d67632ab\" y=\"168.52301\"/>\r\n     <use style=\"fill:#1f77b4;stroke:#1f77b4;\" x=\"220.855376\" xlink:href=\"#mb4d67632ab\" y=\"172.657931\"/>\r\n     <use style=\"fill:#1f77b4;stroke:#1f77b4;\" x=\"67.870386\" xlink:href=\"#mb4d67632ab\" y=\"169.225166\"/>\r\n     <use style=\"fill:#1f77b4;stroke:#1f77b4;\" x=\"125.239757\" xlink:href=\"#mb4d67632ab\" y=\"172.65013\"/>\r\n     <use style=\"fill:#1f77b4;stroke:#1f77b4;\" x=\"152.965474\" xlink:href=\"#mb4d67632ab\" y=\"167.129088\"/>\r\n     <use style=\"fill:#1f77b4;stroke:#1f77b4;\" x=\"152.965474\" xlink:href=\"#mb4d67632ab\" y=\"172.612432\"/>\r\n     <use style=\"fill:#1f77b4;stroke:#1f77b4;\" x=\"152.965474\" xlink:href=\"#mb4d67632ab\" y=\"172.936204\"/>\r\n     <use style=\"fill:#1f77b4;stroke:#1f77b4;\" x=\"163.486005\" xlink:href=\"#mb4d67632ab\" y=\"146.990209\"/>\r\n     <use style=\"fill:#1f77b4;stroke:#1f77b4;\" x=\"152.965474\" xlink:href=\"#mb4d67632ab\" y=\"175.076471\"/>\r\n     <use style=\"fill:#1f77b4;stroke:#1f77b4;\" x=\"198.545065\" xlink:href=\"#mb4d67632ab\" y=\"172.603319\"/>\r\n     <use style=\"fill:#1f77b4;stroke:#1f77b4;\" x=\"152.965474\" xlink:href=\"#mb4d67632ab\" y=\"172.564311\"/>\r\n     <use style=\"fill:#1f77b4;stroke:#1f77b4;\" x=\"166.673192\" xlink:href=\"#mb4d67632ab\" y=\"164.93421\"/>\r\n     <use style=\"fill:#1f77b4;stroke:#1f77b4;\" x=\"115.678196\" xlink:href=\"#mb4d67632ab\" y=\"171.019566\"/>\r\n     <use style=\"fill:#1f77b4;stroke:#1f77b4;\" x=\"153.924443\" xlink:href=\"#mb4d67632ab\" y=\"171.019566\"/>\r\n     <use style=\"fill:#1f77b4;stroke:#1f77b4;\" x=\"90.180697\" xlink:href=\"#mb4d67632ab\" y=\"167.53999\"/>\r\n     <use style=\"fill:#1f77b4;stroke:#1f77b4;\" x=\"152.965474\" xlink:href=\"#mb4d67632ab\" y=\"172.612432\"/>\r\n     <use style=\"fill:#1f77b4;stroke:#1f77b4;\" x=\"125.239757\" xlink:href=\"#mb4d67632ab\" y=\"172.663143\"/>\r\n     <use style=\"fill:#1f77b4;stroke:#1f77b4;\" x=\"150.737256\" xlink:href=\"#mb4d67632ab\" y=\"172.618923\"/>\r\n     <use style=\"fill:#1f77b4;stroke:#1f77b4;\" x=\"147.550068\" xlink:href=\"#mb4d67632ab\" y=\"170.582669\"/>\r\n     <use style=\"fill:#1f77b4;stroke:#1f77b4;\" x=\"115.678196\" xlink:href=\"#mb4d67632ab\" y=\"168.768764\"/>\r\n     <use style=\"fill:#1f77b4;stroke:#1f77b4;\" x=\"152.965474\" xlink:href=\"#mb4d67632ab\" y=\"172.813966\"/>\r\n     <use style=\"fill:#1f77b4;stroke:#1f77b4;\" x=\"147.550068\" xlink:href=\"#mb4d67632ab\" y=\"166.962662\"/>\r\n     <use style=\"fill:#1f77b4;stroke:#1f77b4;\" x=\"118.865383\" xlink:href=\"#mb4d67632ab\" y=\"166.962662\"/>\r\n     <use style=\"fill:#1f77b4;stroke:#1f77b4;\" x=\"152.965474\" xlink:href=\"#mb4d67632ab\" y=\"172.657931\"/>\r\n     <use style=\"fill:#1f77b4;stroke:#1f77b4;\" x=\"160.298817\" xlink:href=\"#mb4d67632ab\" y=\"172.564311\"/>\r\n     <use style=\"fill:#1f77b4;stroke:#1f77b4;\" x=\"147.550068\" xlink:href=\"#mb4d67632ab\" y=\"166.791024\"/>\r\n     <use style=\"fill:#1f77b4;stroke:#1f77b4;\" x=\"152.965474\" xlink:href=\"#mb4d67632ab\" y=\"170.052151\"/>\r\n     <use style=\"fill:#1f77b4;stroke:#1f77b4;\" x=\"192.17069\" xlink:href=\"#mb4d67632ab\" y=\"166.962662\"/>\r\n     <use style=\"fill:#1f77b4;stroke:#1f77b4;\" x=\"112.491008\" xlink:href=\"#mb4d67632ab\" y=\"172.852975\"/>\r\n     <use style=\"fill:#1f77b4;stroke:#1f77b4;\" x=\"217.668188\" xlink:href=\"#mb4d67632ab\" y=\"157.631782\"/>\r\n     <use style=\"fill:#1f77b4;stroke:#1f77b4;\" x=\"102.929446\" xlink:href=\"#mb4d67632ab\" y=\"137.628122\"/>\r\n     <use style=\"fill:#1f77b4;stroke:#1f77b4;\" x=\"125.239757\" xlink:href=\"#mb4d67632ab\" y=\"164.349079\"/>\r\n     <use style=\"fill:#1f77b4;stroke:#1f77b4;\" x=\"134.801319\" xlink:href=\"#mb4d67632ab\" y=\"169.225166\"/>\r\n     <use style=\"fill:#1f77b4;stroke:#1f77b4;\" x=\"262.28881\" xlink:href=\"#mb4d67632ab\" y=\"93.002174\"/>\r\n     <use style=\"fill:#1f77b4;stroke:#1f77b4;\" x=\"157.11163\" xlink:href=\"#mb4d67632ab\" y=\"171.79974\"/>\r\n     <use style=\"fill:#1f77b4;stroke:#1f77b4;\" x=\"201.732252\" xlink:href=\"#mb4d67632ab\" y=\"166.884644\"/>\r\n     <use style=\"fill:#1f77b4;stroke:#1f77b4;\" x=\"122.05257\" xlink:href=\"#mb4d67632ab\" y=\"172.11181\"/>\r\n     <use style=\"fill:#1f77b4;stroke:#1f77b4;\" x=\"137.988506\" xlink:href=\"#mb4d67632ab\" y=\"172.65013\"/>\r\n     <use style=\"fill:#1f77b4;stroke:#1f77b4;\" x=\"147.550068\" xlink:href=\"#mb4d67632ab\" y=\"171.019566\"/>\r\n     <use style=\"fill:#1f77b4;stroke:#1f77b4;\" x=\"152.965474\" xlink:href=\"#mb4d67632ab\" y=\"172.544806\"/>\r\n     <use style=\"fill:#1f77b4;stroke:#1f77b4;\" x=\"71.057574\" xlink:href=\"#mb4d67632ab\" y=\"149.530986\"/>\r\n     <use style=\"fill:#1f77b4;stroke:#1f77b4;\" x=\"99.742259\" xlink:href=\"#mb4d67632ab\" y=\"168.991114\"/>\r\n     <use style=\"fill:#1f77b4;stroke:#1f77b4;\" x=\"166.673192\" xlink:href=\"#mb4d67632ab\" y=\"166.791024\"/>\r\n     <use style=\"fill:#1f77b4;stroke:#1f77b4;\" x=\"74.244761\" xlink:href=\"#mb4d67632ab\" y=\"169.066541\"/>\r\n     <use style=\"fill:#1f77b4;stroke:#1f77b4;\" x=\"224.042563\" xlink:href=\"#mb4d67632ab\" y=\"165.558349\"/>\r\n     <use style=\"fill:#1f77b4;stroke:#1f77b4;\" x=\"173.047567\" xlink:href=\"#mb4d67632ab\" y=\"166.41654\"/>\r\n     <use style=\"fill:#1f77b4;stroke:#1f77b4;\" x=\"152.965474\" xlink:href=\"#mb4d67632ab\" y=\"168.845471\"/>\r\n     <use style=\"fill:#1f77b4;stroke:#1f77b4;\" x=\"153.924443\" xlink:href=\"#mb4d67632ab\" y=\"166.41654\"/>\r\n     <use style=\"fill:#1f77b4;stroke:#1f77b4;\" x=\"214.481001\" xlink:href=\"#mb4d67632ab\" y=\"147.269761\"/>\r\n     <use style=\"fill:#1f77b4;stroke:#1f77b4;\" x=\"152.965474\" xlink:href=\"#mb4d67632ab\" y=\"172.564311\"/>\r\n     <use style=\"fill:#1f77b4;stroke:#1f77b4;\" x=\"150.737256\" xlink:href=\"#mb4d67632ab\" y=\"172.612432\"/>\r\n     <use style=\"fill:#1f77b4;stroke:#1f77b4;\" x=\"265.475998\" xlink:href=\"#mb4d67632ab\" y=\"166.791024\"/>\r\n     <use style=\"fill:#1f77b4;stroke:#1f77b4;\" x=\"152.965474\" xlink:href=\"#mb4d67632ab\" y=\"158.891763\"/>\r\n     <use style=\"fill:#1f77b4;stroke:#1f77b4;\" x=\"217.668188\" xlink:href=\"#mb4d67632ab\" y=\"171.79974\"/>\r\n     <use style=\"fill:#1f77b4;stroke:#1f77b4;\" x=\"152.965474\" xlink:href=\"#mb4d67632ab\" y=\"172.657931\"/>\r\n     <use style=\"fill:#1f77b4;stroke:#1f77b4;\" x=\"211.293814\" xlink:href=\"#mb4d67632ab\" y=\"166.791024\"/>\r\n     <use style=\"fill:#1f77b4;stroke:#1f77b4;\" x=\"166.673192\" xlink:href=\"#mb4d67632ab\" y=\"172.564311\"/>\r\n     <use style=\"fill:#1f77b4;stroke:#1f77b4;\" x=\"208.106627\" xlink:href=\"#mb4d67632ab\" y=\"163.061792\"/>\r\n     <use style=\"fill:#1f77b4;stroke:#1f77b4;\" x=\"211.293814\" xlink:href=\"#mb4d67632ab\" y=\"171.019566\"/>\r\n     <use style=\"fill:#1f77b4;stroke:#1f77b4;\" x=\"152.965474\" xlink:href=\"#mb4d67632ab\" y=\"172.564311\"/>\r\n     <use style=\"fill:#1f77b4;stroke:#1f77b4;\" x=\"179.421941\" xlink:href=\"#mb4d67632ab\" y=\"172.87638\"/>\r\n     <use style=\"fill:#1f77b4;stroke:#1f77b4;\" x=\"152.965474\" xlink:href=\"#mb4d67632ab\" y=\"175.076471\"/>\r\n     <use style=\"fill:#1f77b4;stroke:#1f77b4;\" x=\"236.791312\" xlink:href=\"#mb4d67632ab\" y=\"166.791024\"/>\r\n     <use style=\"fill:#1f77b4;stroke:#1f77b4;\" x=\"152.965474\" xlink:href=\"#mb4d67632ab\" y=\"172.665733\"/>\r\n     <use style=\"fill:#1f77b4;stroke:#1f77b4;\" x=\"60.699215\" xlink:href=\"#mb4d67632ab\" y=\"169.066541\"/>\r\n     <use style=\"fill:#1f77b4;stroke:#1f77b4;\" x=\"152.965474\" xlink:href=\"#mb4d67632ab\" y=\"172.813966\"/>\r\n     <use style=\"fill:#1f77b4;stroke:#1f77b4;\" x=\"179.421941\" xlink:href=\"#mb4d67632ab\" y=\"172.373168\"/>\r\n     <use style=\"fill:#1f77b4;stroke:#1f77b4;\" x=\"163.486005\" xlink:href=\"#mb4d67632ab\" y=\"166.41654\"/>\r\n     <use style=\"fill:#1f77b4;stroke:#1f77b4;\" x=\"131.614132\" xlink:href=\"#mb4d67632ab\" y=\"170.772501\"/>\r\n     <use style=\"fill:#1f77b4;stroke:#1f77b4;\" x=\"128.426945\" xlink:href=\"#mb4d67632ab\" y=\"172.006486\"/>\r\n     <use style=\"fill:#1f77b4;stroke:#1f77b4;\" x=\"152.965474\" xlink:href=\"#mb4d67632ab\" y=\"158.848853\"/>\r\n     <use style=\"fill:#1f77b4;stroke:#1f77b4;\" x=\"166.673192\" xlink:href=\"#mb4d67632ab\" y=\"168.52301\"/>\r\n     <use style=\"fill:#1f77b4;stroke:#1f77b4;\" x=\"150.737256\" xlink:href=\"#mb4d67632ab\" y=\"172.877691\"/>\r\n     <use style=\"fill:#1f77b4;stroke:#1f77b4;\" x=\"128.426945\" xlink:href=\"#mb4d67632ab\" y=\"172.729458\"/>\r\n     <use style=\"fill:#1f77b4;stroke:#1f77b4;\" x=\"64.683199\" xlink:href=\"#mb4d67632ab\" y=\"171.241916\"/>\r\n     <use style=\"fill:#1f77b4;stroke:#1f77b4;\" x=\"86.99351\" xlink:href=\"#mb4d67632ab\" y=\"160.440408\"/>\r\n     <use style=\"fill:#1f77b4;stroke:#1f77b4;\" x=\"152.965474\" xlink:href=\"#mb4d67632ab\" y=\"175.076471\"/>\r\n     <use style=\"fill:#1f77b4;stroke:#1f77b4;\" x=\"217.668188\" xlink:href=\"#mb4d67632ab\" y=\"172.564311\"/>\r\n     <use style=\"fill:#1f77b4;stroke:#1f77b4;\" x=\"259.101623\" xlink:href=\"#mb4d67632ab\" y=\"172.084504\"/>\r\n     <use style=\"fill:#1f77b4;stroke:#1f77b4;\" x=\"137.988506\" xlink:href=\"#mb4d67632ab\" y=\"146.653424\"/>\r\n     <use style=\"fill:#1f77b4;stroke:#1f77b4;\" x=\"152.965474\" xlink:href=\"#mb4d67632ab\" y=\"167.129088\"/>\r\n     <use style=\"fill:#1f77b4;stroke:#1f77b4;\" x=\"169.860379\" xlink:href=\"#mb4d67632ab\" y=\"146.990209\"/>\r\n     <use style=\"fill:#1f77b4;stroke:#1f77b4;\" x=\"243.165687\" xlink:href=\"#mb4d67632ab\" y=\"165.808004\"/>\r\n     <use style=\"fill:#1f77b4;stroke:#1f77b4;\" x=\"153.924443\" xlink:href=\"#mb4d67632ab\" y=\"172.564311\"/>\r\n     <use style=\"fill:#1f77b4;stroke:#1f77b4;\" x=\"86.99351\" xlink:href=\"#mb4d67632ab\" y=\"170.114564\"/>\r\n     <use style=\"fill:#1f77b4;stroke:#1f77b4;\" x=\"152.965474\" xlink:href=\"#mb4d67632ab\" y=\"168.845471\"/>\r\n     <use style=\"fill:#1f77b4;stroke:#1f77b4;\" x=\"125.239757\" xlink:href=\"#mb4d67632ab\" y=\"172.813966\"/>\r\n     <use style=\"fill:#1f77b4;stroke:#1f77b4;\" x=\"233.604125\" xlink:href=\"#mb4d67632ab\" y=\"165.558349\"/>\r\n     <use style=\"fill:#1f77b4;stroke:#1f77b4;\" x=\"284.599121\" xlink:href=\"#mb4d67632ab\" y=\"159.627716\"/>\r\n     <use style=\"fill:#1f77b4;stroke:#1f77b4;\" x=\"125.239757\" xlink:href=\"#mb4d67632ab\" y=\"172.564311\"/>\r\n     <use style=\"fill:#1f77b4;stroke:#1f77b4;\" x=\"152.965474\" xlink:href=\"#mb4d67632ab\" y=\"170.564475\"/>\r\n     <use style=\"fill:#1f77b4;stroke:#1f77b4;\" x=\"230.416938\" xlink:href=\"#mb4d67632ab\" y=\"150.651815\"/>\r\n     <use style=\"fill:#1f77b4;stroke:#1f77b4;\" x=\"152.965474\" xlink:href=\"#mb4d67632ab\" y=\"170.36422\"/>\r\n     <use style=\"fill:#1f77b4;stroke:#1f77b4;\" x=\"137.988506\" xlink:href=\"#mb4d67632ab\" y=\"127.782327\"/>\r\n     <use style=\"fill:#1f77b4;stroke:#1f77b4;\" x=\"134.801319\" xlink:href=\"#mb4d67632ab\" y=\"172.643639\"/>\r\n     <use style=\"fill:#1f77b4;stroke:#1f77b4;\" x=\"112.491008\" xlink:href=\"#mb4d67632ab\" y=\"172.373168\"/>\r\n     <use style=\"fill:#1f77b4;stroke:#1f77b4;\" x=\"125.239757\" xlink:href=\"#mb4d67632ab\" y=\"172.657931\"/>\r\n     <use style=\"fill:#1f77b4;stroke:#1f77b4;\" x=\"152.965474\" xlink:href=\"#mb4d67632ab\" y=\"172.695629\"/>\r\n     <use style=\"fill:#1f77b4;stroke:#1f77b4;\" x=\"176.234754\" xlink:href=\"#mb4d67632ab\" y=\"172.084504\"/>\r\n     <use style=\"fill:#1f77b4;stroke:#1f77b4;\" x=\"109.303821\" xlink:href=\"#mb4d67632ab\" y=\"148.082453\"/>\r\n     <use style=\"fill:#1f77b4;stroke:#1f77b4;\" x=\"115.678196\" xlink:href=\"#mb4d67632ab\" y=\"141.092094\"/>\r\n     <use style=\"fill:#1f77b4;stroke:#1f77b4;\" x=\"163.486005\" xlink:href=\"#mb4d67632ab\" y=\"166.962662\"/>\r\n     <use style=\"fill:#1f77b4;stroke:#1f77b4;\" x=\"152.965474\" xlink:href=\"#mb4d67632ab\" y=\"166.791024\"/>\r\n     <use style=\"fill:#1f77b4;stroke:#1f77b4;\" x=\"147.550068\" xlink:href=\"#mb4d67632ab\" y=\"168.047104\"/>\r\n     <use style=\"fill:#1f77b4;stroke:#1f77b4;\" x=\"141.175694\" xlink:href=\"#mb4d67632ab\" y=\"157.445851\"/>\r\n     <use style=\"fill:#1f77b4;stroke:#1f77b4;\" x=\"150.737256\" xlink:href=\"#mb4d67632ab\" y=\"172.657931\"/>\r\n     <use style=\"fill:#1f77b4;stroke:#1f77b4;\" x=\"152.965474\" xlink:href=\"#mb4d67632ab\" y=\"172.564311\"/>\r\n     <use style=\"fill:#1f77b4;stroke:#1f77b4;\" x=\"173.047567\" xlink:href=\"#mb4d67632ab\" y=\"166.872942\"/>\r\n     <use style=\"fill:#1f77b4;stroke:#1f77b4;\" x=\"230.416938\" xlink:href=\"#mb4d67632ab\" y=\"156.539538\"/>\r\n     <use style=\"fill:#1f77b4;stroke:#1f77b4;\" x=\"134.801319\" xlink:href=\"#mb4d67632ab\" y=\"172.73726\"/>\r\n     <use style=\"fill:#1f77b4;stroke:#1f77b4;\" x=\"208.106627\" xlink:href=\"#mb4d67632ab\" y=\"164.459614\"/>\r\n     <use style=\"fill:#1f77b4;stroke:#1f77b4;\" x=\"166.673192\" xlink:href=\"#mb4d67632ab\" y=\"171.79974\"/>\r\n     <use style=\"fill:#1f77b4;stroke:#1f77b4;\" x=\"152.965474\" xlink:href=\"#mb4d67632ab\" y=\"167.53999\"/>\r\n     <use style=\"fill:#1f77b4;stroke:#1f77b4;\" x=\"173.047567\" xlink:href=\"#mb4d67632ab\" y=\"166.962662\"/>\r\n     <use style=\"fill:#1f77b4;stroke:#1f77b4;\" x=\"160.298817\" xlink:href=\"#mb4d67632ab\" y=\"172.612432\"/>\r\n     <use style=\"fill:#1f77b4;stroke:#1f77b4;\" x=\"153.924443\" xlink:href=\"#mb4d67632ab\" y=\"145.897966\"/>\r\n     <use style=\"fill:#1f77b4;stroke:#1f77b4;\" x=\"128.426945\" xlink:href=\"#mb4d67632ab\" y=\"172.612432\"/>\r\n     <use style=\"fill:#1f77b4;stroke:#1f77b4;\" x=\"152.965474\" xlink:href=\"#mb4d67632ab\" y=\"172.821768\"/>\r\n     <use style=\"fill:#1f77b4;stroke:#1f77b4;\" x=\"198.545065\" xlink:href=\"#mb4d67632ab\" y=\"156.982927\"/>\r\n     <use style=\"fill:#1f77b4;stroke:#1f77b4;\" x=\"152.965474\" xlink:href=\"#mb4d67632ab\" y=\"172.820457\"/>\r\n     <use style=\"fill:#1f77b4;stroke:#1f77b4;\" x=\"187.389909\" xlink:href=\"#mb4d67632ab\" y=\"172.657931\"/>\r\n     <use style=\"fill:#1f77b4;stroke:#1f77b4;\" x=\"217.668188\" xlink:href=\"#mb4d67632ab\" y=\"171.79974\"/>\r\n     <use style=\"fill:#1f77b4;stroke:#1f77b4;\" x=\"152.965474\" xlink:href=\"#mb4d67632ab\" y=\"105.865931\"/>\r\n     <use style=\"fill:#1f77b4;stroke:#1f77b4;\" x=\"182.609128\" xlink:href=\"#mb4d67632ab\" y=\"172.603319\"/>\r\n     <use style=\"fill:#1f77b4;stroke:#1f77b4;\" x=\"131.614132\" xlink:href=\"#mb4d67632ab\" y=\"171.487671\"/>\r\n     <use style=\"fill:#1f77b4;stroke:#1f77b4;\" x=\"64.683199\" xlink:href=\"#mb4d67632ab\" y=\"166.962662\"/>\r\n     <use style=\"fill:#1f77b4;stroke:#1f77b4;\" x=\"152.965474\" xlink:href=\"#mb4d67632ab\" y=\"172.820457\"/>\r\n     <use style=\"fill:#1f77b4;stroke:#1f77b4;\" x=\"112.491008\" xlink:href=\"#mb4d67632ab\" y=\"172.820457\"/>\r\n     <use style=\"fill:#1f77b4;stroke:#1f77b4;\" x=\"152.965474\" xlink:href=\"#mb4d67632ab\" y=\"168.099126\"/>\r\n     <use style=\"fill:#1f77b4;stroke:#1f77b4;\" x=\"153.924443\" xlink:href=\"#mb4d67632ab\" y=\"172.373168\"/>\r\n     <use style=\"fill:#1f77b4;stroke:#1f77b4;\" x=\"80.619135\" xlink:href=\"#mb4d67632ab\" y=\"166.884644\"/>\r\n     <use style=\"fill:#1f77b4;stroke:#1f77b4;\" x=\"201.732252\" xlink:href=\"#mb4d67632ab\" y=\"166.791024\"/>\r\n     <use style=\"fill:#1f77b4;stroke:#1f77b4;\" x=\"153.924443\" xlink:href=\"#mb4d67632ab\" y=\"141.864467\"/>\r\n     <use style=\"fill:#1f77b4;stroke:#1f77b4;\" x=\"152.965474\" xlink:href=\"#mb4d67632ab\" y=\"170.551462\"/>\r\n     <use style=\"fill:#1f77b4;stroke:#1f77b4;\" x=\"128.426945\" xlink:href=\"#mb4d67632ab\" y=\"159.629027\"/>\r\n     <use style=\"fill:#1f77b4;stroke:#1f77b4;\" x=\"173.047567\" xlink:href=\"#mb4d67632ab\" y=\"152.919531\"/>\r\n     <use style=\"fill:#1f77b4;stroke:#1f77b4;\" x=\"86.99351\" xlink:href=\"#mb4d67632ab\" y=\"165.316495\"/>\r\n     <use style=\"fill:#1f77b4;stroke:#1f77b4;\" x=\"93.367885\" xlink:href=\"#mb4d67632ab\" y=\"165.316495\"/>\r\n     <use style=\"fill:#1f77b4;stroke:#1f77b4;\" x=\"160.298817\" xlink:href=\"#mb4d67632ab\" y=\"166.962662\"/>\r\n     <use style=\"fill:#1f77b4;stroke:#1f77b4;\" x=\"217.668188\" xlink:href=\"#mb4d67632ab\" y=\"141.864467\"/>\r\n     <use style=\"fill:#1f77b4;stroke:#1f77b4;\" x=\"262.28881\" xlink:href=\"#mb4d67632ab\" y=\"166.962662\"/>\r\n     <use style=\"fill:#1f77b4;stroke:#1f77b4;\" x=\"118.865383\" xlink:href=\"#mb4d67632ab\" y=\"166.962662\"/>\r\n     <use style=\"fill:#1f77b4;stroke:#1f77b4;\" x=\"152.965474\" xlink:href=\"#mb4d67632ab\" y=\"170.750406\"/>\r\n     <use style=\"fill:#1f77b4;stroke:#1f77b4;\" x=\"163.486005\" xlink:href=\"#mb4d67632ab\" y=\"168.671243\"/>\r\n     <use style=\"fill:#1f77b4;stroke:#1f77b4;\" x=\"83.806323\" xlink:href=\"#mb4d67632ab\" y=\"163.607914\"/>\r\n     <use style=\"fill:#1f77b4;stroke:#1f77b4;\" x=\"112.491008\" xlink:href=\"#mb4d67632ab\" y=\"140.473167\"/>\r\n     <use style=\"fill:#1f77b4;stroke:#1f77b4;\" x=\"144.362881\" xlink:href=\"#mb4d67632ab\" y=\"166.962662\"/>\r\n     <use style=\"fill:#1f77b4;stroke:#1f77b4;\" x=\"152.965474\" xlink:href=\"#mb4d67632ab\" y=\"172.633216\"/>\r\n     <use style=\"fill:#1f77b4;stroke:#1f77b4;\" x=\"128.426945\" xlink:href=\"#mb4d67632ab\" y=\"172.821768\"/>\r\n     <use style=\"fill:#1f77b4;stroke:#1f77b4;\" x=\"128.426945\" xlink:href=\"#mb4d67632ab\" y=\"172.65013\"/>\r\n     <use style=\"fill:#1f77b4;stroke:#1f77b4;\" x=\"255.914436\" xlink:href=\"#mb4d67632ab\" y=\"166.791024\"/>\r\n     <use style=\"fill:#1f77b4;stroke:#1f77b4;\" x=\"211.293814\" xlink:href=\"#mb4d67632ab\" y=\"162.718516\"/>\r\n     <use style=\"fill:#1f77b4;stroke:#1f77b4;\" x=\"152.965474\" xlink:href=\"#mb4d67632ab\" y=\"104.072842\"/>\r\n     <use style=\"fill:#1f77b4;stroke:#1f77b4;\" x=\"182.609128\" xlink:href=\"#mb4d67632ab\" y=\"150.220129\"/>\r\n     <use style=\"fill:#1f77b4;stroke:#1f77b4;\" x=\"173.047567\" xlink:href=\"#mb4d67632ab\" y=\"169.64646\"/>\r\n     <use style=\"fill:#1f77b4;stroke:#1f77b4;\" x=\"152.965474\" xlink:href=\"#mb4d67632ab\" y=\"172.657931\"/>\r\n     <use style=\"fill:#1f77b4;stroke:#1f77b4;\" x=\"185.796316\" xlink:href=\"#mb4d67632ab\" y=\"172.612432\"/>\r\n     <use style=\"fill:#1f77b4;stroke:#1f77b4;\" x=\"147.550068\" xlink:href=\"#mb4d67632ab\" y=\"170.863531\"/>\r\n     <use style=\"fill:#1f77b4;stroke:#1f77b4;\" x=\"152.965474\" xlink:href=\"#mb4d67632ab\" y=\"172.564311\"/>\r\n     <use style=\"fill:#1f77b4;stroke:#1f77b4;\" x=\"152.965474\" xlink:href=\"#mb4d67632ab\" y=\"172.564311\"/>\r\n     <use style=\"fill:#1f77b4;stroke:#1f77b4;\" x=\"134.801319\" xlink:href=\"#mb4d67632ab\" y=\"167.53999\"/>\r\n     <use style=\"fill:#1f77b4;stroke:#1f77b4;\" x=\"118.865383\" xlink:href=\"#mb4d67632ab\" y=\"172.612432\"/>\r\n     <use style=\"fill:#1f77b4;stroke:#1f77b4;\" x=\"150.737256\" xlink:href=\"#mb4d67632ab\" y=\"168.499604\"/>\r\n     <use style=\"fill:#1f77b4;stroke:#1f77b4;\" x=\"152.965474\" xlink:href=\"#mb4d67632ab\" y=\"172.820457\"/>\r\n     <use style=\"fill:#1f77b4;stroke:#1f77b4;\" x=\"160.298817\" xlink:href=\"#mb4d67632ab\" y=\"172.625414\"/>\r\n     <use style=\"fill:#1f77b4;stroke:#1f77b4;\" x=\"255.914436\" xlink:href=\"#mb4d67632ab\" y=\"171.79974\"/>\r\n     <use style=\"fill:#1f77b4;stroke:#1f77b4;\" x=\"227.22975\" xlink:href=\"#mb4d67632ab\" y=\"159.011379\"/>\r\n     <use style=\"fill:#1f77b4;stroke:#1f77b4;\" x=\"173.047567\" xlink:href=\"#mb4d67632ab\" y=\"166.841735\"/>\r\n     <use style=\"fill:#1f77b4;stroke:#1f77b4;\" x=\"152.965474\" xlink:href=\"#mb4d67632ab\" y=\"172.657931\"/>\r\n     <use style=\"fill:#1f77b4;stroke:#1f77b4;\" x=\"109.303821\" xlink:href=\"#mb4d67632ab\" y=\"172.564311\"/>\r\n     <use style=\"fill:#1f77b4;stroke:#1f77b4;\" x=\"118.865383\" xlink:href=\"#mb4d67632ab\" y=\"170.551462\"/>\r\n     <use style=\"fill:#1f77b4;stroke:#1f77b4;\" x=\"166.673192\" xlink:href=\"#mb4d67632ab\" y=\"171.019566\"/>\r\n     <use style=\"fill:#1f77b4;stroke:#1f77b4;\" x=\"182.609128\" xlink:href=\"#mb4d67632ab\" y=\"157.631782\"/>\r\n     <use style=\"fill:#1f77b4;stroke:#1f77b4;\" x=\"152.965474\" xlink:href=\"#mb4d67632ab\" y=\"170.564475\"/>\r\n     <use style=\"fill:#1f77b4;stroke:#1f77b4;\" x=\"160.298817\" xlink:href=\"#mb4d67632ab\" y=\"172.603319\"/>\r\n     <use style=\"fill:#1f77b4;stroke:#1f77b4;\" x=\"137.988506\" xlink:href=\"#mb4d67632ab\" y=\"165.714384\"/>\r\n     <use style=\"fill:#1f77b4;stroke:#1f77b4;\" x=\"182.609128\" xlink:href=\"#mb4d67632ab\" y=\"140.473167\"/>\r\n     <use style=\"fill:#1f77b4;stroke:#1f77b4;\" x=\"230.416938\" xlink:href=\"#mb4d67632ab\" y=\"166.962662\"/>\r\n     <use style=\"fill:#1f77b4;stroke:#1f77b4;\" x=\"173.047567\" xlink:href=\"#mb4d67632ab\" y=\"162.554679\"/>\r\n     <use style=\"fill:#1f77b4;stroke:#1f77b4;\" x=\"152.965474\" xlink:href=\"#mb4d67632ab\" y=\"172.357564\"/>\r\n     <use style=\"fill:#1f77b4;stroke:#1f77b4;\" x=\"115.678196\" xlink:href=\"#mb4d67632ab\" y=\"150.220129\"/>\r\n     <use style=\"fill:#1f77b4;stroke:#1f77b4;\" x=\"208.106627\" xlink:href=\"#mb4d67632ab\" y=\"170.395427\"/>\r\n     <use style=\"fill:#1f77b4;stroke:#1f77b4;\" x=\"249.540061\" xlink:href=\"#mb4d67632ab\" y=\"150.360561\"/>\r\n     <use style=\"fill:#1f77b4;stroke:#1f77b4;\" x=\"128.426945\" xlink:href=\"#mb4d67632ab\" y=\"172.564311\"/>\r\n     <use style=\"fill:#1f77b4;stroke:#1f77b4;\" x=\"152.965474\" xlink:href=\"#mb4d67632ab\" y=\"172.564311\"/>\r\n     <use style=\"fill:#1f77b4;stroke:#1f77b4;\" x=\"169.860379\" xlink:href=\"#mb4d67632ab\" y=\"172.852975\"/>\r\n     <use style=\"fill:#1f77b4;stroke:#1f77b4;\" x=\"224.042563\" xlink:href=\"#mb4d67632ab\" y=\"150.651815\"/>\r\n     <use style=\"fill:#1f77b4;stroke:#1f77b4;\" x=\"208.106627\" xlink:href=\"#mb4d67632ab\" y=\"172.813966\"/>\r\n     <use style=\"fill:#1f77b4;stroke:#1f77b4;\" x=\"152.965474\" xlink:href=\"#mb4d67632ab\" y=\"172.657931\"/>\r\n     <use style=\"fill:#1f77b4;stroke:#1f77b4;\" x=\"176.234754\" xlink:href=\"#mb4d67632ab\" y=\"166.962662\"/>\r\n     <use style=\"fill:#1f77b4;stroke:#1f77b4;\" x=\"173.047567\" xlink:href=\"#mb4d67632ab\" y=\"167.53999\"/>\r\n     <use style=\"fill:#1f77b4;stroke:#1f77b4;\" x=\"152.965474\" xlink:href=\"#mb4d67632ab\" y=\"164.778175\"/>\r\n     <use style=\"fill:#1f77b4;stroke:#1f77b4;\" x=\"214.481001\" xlink:href=\"#mb4d67632ab\" y=\"175.076471\"/>\r\n     <use style=\"fill:#1f77b4;stroke:#1f77b4;\" x=\"152.965474\" xlink:href=\"#mb4d67632ab\" y=\"172.821768\"/>\r\n     <use style=\"fill:#1f77b4;stroke:#1f77b4;\" x=\"214.481001\" xlink:href=\"#mb4d67632ab\" y=\"157.3106\"/>\r\n     <use style=\"fill:#1f77b4;stroke:#1f77b4;\" x=\"134.801319\" xlink:href=\"#mb4d67632ab\" y=\"166.650592\"/>\r\n     <use style=\"fill:#1f77b4;stroke:#1f77b4;\" x=\"152.965474\" xlink:href=\"#mb4d67632ab\" y=\"172.612432\"/>\r\n     <use style=\"fill:#1f77b4;stroke:#1f77b4;\" x=\"152.965474\" xlink:href=\"#mb4d67632ab\" y=\"161.844721\"/>\r\n     <use style=\"fill:#1f77b4;stroke:#1f77b4;\" x=\"198.545065\" xlink:href=\"#mb4d67632ab\" y=\"172.564311\"/>\r\n     <use style=\"fill:#1f77b4;stroke:#1f77b4;\" x=\"169.860379\" xlink:href=\"#mb4d67632ab\" y=\"166.791024\"/>\r\n     <use style=\"fill:#1f77b4;stroke:#1f77b4;\" x=\"173.047567\" xlink:href=\"#mb4d67632ab\" y=\"170.223789\"/>\r\n     <use style=\"fill:#1f77b4;stroke:#1f77b4;\" x=\"153.924443\" xlink:href=\"#mb4d67632ab\" y=\"172.612432\"/>\r\n     <use style=\"fill:#1f77b4;stroke:#1f77b4;\" x=\"144.362881\" xlink:href=\"#mb4d67632ab\" y=\"165.558349\"/>\r\n     <use style=\"fill:#1f77b4;stroke:#1f77b4;\" x=\"128.426945\" xlink:href=\"#mb4d67632ab\" y=\"162.100868\"/>\r\n     <use style=\"fill:#1f77b4;stroke:#1f77b4;\" x=\"185.796316\" xlink:href=\"#mb4d67632ab\" y=\"127.185494\"/>\r\n     <use style=\"fill:#1f77b4;stroke:#1f77b4;\" x=\"182.609128\" xlink:href=\"#mb4d67632ab\" y=\"165.316495\"/>\r\n     <use style=\"fill:#1f77b4;stroke:#1f77b4;\" x=\"152.965474\" xlink:href=\"#mb4d67632ab\" y=\"172.87638\"/>\r\n     <use style=\"fill:#1f77b4;stroke:#1f77b4;\" x=\"152.965474\" xlink:href=\"#mb4d67632ab\" y=\"170.239392\"/>\r\n     <use style=\"fill:#1f77b4;stroke:#1f77b4;\" x=\"152.965474\" xlink:href=\"#mb4d67632ab\" y=\"172.657931\"/>\r\n     <use style=\"fill:#1f77b4;stroke:#1f77b4;\" x=\"169.860379\" xlink:href=\"#mb4d67632ab\" y=\"172.564311\"/>\r\n     <use style=\"fill:#1f77b4;stroke:#1f77b4;\" x=\"134.801319\" xlink:href=\"#mb4d67632ab\" y=\"154.791949\"/>\r\n     <use style=\"fill:#1f77b4;stroke:#1f77b4;\" x=\"166.673192\" xlink:href=\"#mb4d67632ab\" y=\"170.582669\"/>\r\n     <use style=\"fill:#1f77b4;stroke:#1f77b4;\" x=\"141.175694\" xlink:href=\"#mb4d67632ab\" y=\"170.052151\"/>\r\n     <use style=\"fill:#1f77b4;stroke:#1f77b4;\" x=\"71.057574\" xlink:href=\"#mb4d67632ab\" y=\"162.905757\"/>\r\n     <use style=\"fill:#1f77b4;stroke:#1f77b4;\" x=\"141.175694\" xlink:href=\"#mb4d67632ab\" y=\"171.79974\"/>\r\n     <use style=\"fill:#1f77b4;stroke:#1f77b4;\" x=\"144.362881\" xlink:href=\"#mb4d67632ab\" y=\"170.565755\"/>\r\n     <use style=\"fill:#1f77b4;stroke:#1f77b4;\" x=\"192.17069\" xlink:href=\"#mb4d67632ab\" y=\"158.675904\"/>\r\n     <use style=\"fill:#1f77b4;stroke:#1f77b4;\" x=\"122.05257\" xlink:href=\"#mb4d67632ab\" y=\"170.163965\"/>\r\n     <use style=\"fill:#1f77b4;stroke:#1f77b4;\" x=\"125.239757\" xlink:href=\"#mb4d67632ab\" y=\"172.625414\"/>\r\n     <use style=\"fill:#1f77b4;stroke:#1f77b4;\" x=\"125.239757\" xlink:href=\"#mb4d67632ab\" y=\"170.052151\"/>\r\n     <use style=\"fill:#1f77b4;stroke:#1f77b4;\" x=\"252.727249\" xlink:href=\"#mb4d67632ab\" y=\"164.990132\"/>\r\n     <use style=\"fill:#1f77b4;stroke:#1f77b4;\" x=\"239.978499\" xlink:href=\"#mb4d67632ab\" y=\"171.222411\"/>\r\n     <use style=\"fill:#1f77b4;stroke:#1f77b4;\" x=\"125.239757\" xlink:href=\"#mb4d67632ab\" y=\"150.748057\"/>\r\n     <use style=\"fill:#1f77b4;stroke:#1f77b4;\" x=\"141.175694\" xlink:href=\"#mb4d67632ab\" y=\"172.612432\"/>\r\n     <use style=\"fill:#1f77b4;stroke:#1f77b4;\" x=\"152.965474\" xlink:href=\"#mb4d67632ab\" y=\"172.663143\"/>\r\n     <use style=\"fill:#1f77b4;stroke:#1f77b4;\" x=\"313.283807\" xlink:href=\"#mb4d67632ab\" y=\"165.714384\"/>\r\n     <use style=\"fill:#1f77b4;stroke:#1f77b4;\" x=\"220.855376\" xlink:href=\"#mb4d67632ab\" y=\"172.875069\"/>\r\n     <use style=\"fill:#1f77b4;stroke:#1f77b4;\" x=\"160.298817\" xlink:href=\"#mb4d67632ab\" y=\"165.558349\"/>\r\n     <use style=\"fill:#1f77b4;stroke:#1f77b4;\" x=\"152.965474\" xlink:href=\"#mb4d67632ab\" y=\"175.076471\"/>\r\n     <use style=\"fill:#1f77b4;stroke:#1f77b4;\" x=\"86.99351\" xlink:href=\"#mb4d67632ab\" y=\"166.36973\"/>\r\n     <use style=\"fill:#1f77b4;stroke:#1f77b4;\" x=\"147.550068\" xlink:href=\"#mb4d67632ab\" y=\"171.019566\"/>\r\n     <use style=\"fill:#1f77b4;stroke:#1f77b4;\" x=\"160.298817\" xlink:href=\"#mb4d67632ab\" y=\"172.603319\"/>\r\n     <use style=\"fill:#1f77b4;stroke:#1f77b4;\" x=\"157.11163\" xlink:href=\"#mb4d67632ab\" y=\"166.884644\"/>\r\n     <use style=\"fill:#1f77b4;stroke:#1f77b4;\" x=\"188.983503\" xlink:href=\"#mb4d67632ab\" y=\"162.69121\"/>\r\n     <use style=\"fill:#1f77b4;stroke:#1f77b4;\" x=\"152.965474\" xlink:href=\"#mb4d67632ab\" y=\"170.052151\"/>\r\n     <use style=\"fill:#1f77b4;stroke:#1f77b4;\" x=\"122.05257\" xlink:href=\"#mb4d67632ab\" y=\"172.625414\"/>\r\n     <use style=\"fill:#1f77b4;stroke:#1f77b4;\" x=\"134.801319\" xlink:href=\"#mb4d67632ab\" y=\"153.450049\"/>\r\n     <use style=\"fill:#1f77b4;stroke:#1f77b4;\" x=\"64.683199\" xlink:href=\"#mb4d67632ab\" y=\"166.36973\"/>\r\n     <use style=\"fill:#1f77b4;stroke:#1f77b4;\" x=\"152.965474\" xlink:href=\"#mb4d67632ab\" y=\"157.445851\"/>\r\n     <use style=\"fill:#1f77b4;stroke:#1f77b4;\" x=\"60.699215\" xlink:href=\"#mb4d67632ab\" y=\"169.066541\"/>\r\n     <use style=\"fill:#1f77b4;stroke:#1f77b4;\" x=\"211.293814\" xlink:href=\"#mb4d67632ab\" y=\"151.131622\"/>\r\n     <use style=\"fill:#1f77b4;stroke:#1f77b4;\" x=\"118.865383\" xlink:href=\"#mb4d67632ab\" y=\"172.612432\"/>\r\n     <use style=\"fill:#1f77b4;stroke:#1f77b4;\" x=\"236.791312\" xlink:href=\"#mb4d67632ab\" y=\"163.998001\"/>\r\n     <use style=\"fill:#1f77b4;stroke:#1f77b4;\" x=\"152.965474\" xlink:href=\"#mb4d67632ab\" y=\"172.720345\"/>\r\n     <use style=\"fill:#1f77b4;stroke:#1f77b4;\" x=\"131.614132\" xlink:href=\"#mb4d67632ab\" y=\"172.720345\"/>\r\n     <use style=\"fill:#1f77b4;stroke:#1f77b4;\" x=\"152.965474\" xlink:href=\"#mb4d67632ab\" y=\"172.612432\"/>\r\n     <use style=\"fill:#1f77b4;stroke:#1f77b4;\" x=\"115.678196\" xlink:href=\"#mb4d67632ab\" y=\"167.89887\"/>\r\n     <use style=\"fill:#1f77b4;stroke:#1f77b4;\" x=\"125.239757\" xlink:href=\"#mb4d67632ab\" y=\"172.444694\"/>\r\n     <use style=\"fill:#1f77b4;stroke:#1f77b4;\" x=\"152.965474\" xlink:href=\"#mb4d67632ab\" y=\"172.633216\"/>\r\n     <use style=\"fill:#1f77b4;stroke:#1f77b4;\" x=\"115.678196\" xlink:href=\"#mb4d67632ab\" y=\"172.970001\"/>\r\n     <use style=\"fill:#1f77b4;stroke:#1f77b4;\" x=\"134.801319\" xlink:href=\"#mb4d67632ab\" y=\"152.139357\"/>\r\n     <use style=\"fill:#1f77b4;stroke:#1f77b4;\" x=\"152.965474\" xlink:href=\"#mb4d67632ab\" y=\"172.612432\"/>\r\n     <use style=\"fill:#1f77b4;stroke:#1f77b4;\" x=\"160.298817\" xlink:href=\"#mb4d67632ab\" y=\"170.239392\"/>\r\n     <use style=\"fill:#1f77b4;stroke:#1f77b4;\" x=\"131.614132\" xlink:href=\"#mb4d67632ab\" y=\"171.019566\"/>\r\n     <use style=\"fill:#1f77b4;stroke:#1f77b4;\" x=\"243.165687\" xlink:href=\"#mb4d67632ab\" y=\"139.72679\"/>\r\n     <use style=\"fill:#1f77b4;stroke:#1f77b4;\" x=\"217.668188\" xlink:href=\"#mb4d67632ab\" y=\"133.368373\"/>\r\n     <use style=\"fill:#1f77b4;stroke:#1f77b4;\" x=\"185.796316\" xlink:href=\"#mb4d67632ab\" y=\"172.821768\"/>\r\n     <use style=\"fill:#1f77b4;stroke:#1f77b4;\" x=\"208.106627\" xlink:href=\"#mb4d67632ab\" y=\"167.09139\"/>\r\n     <use style=\"fill:#1f77b4;stroke:#1f77b4;\" x=\"173.047567\" xlink:href=\"#mb4d67632ab\" y=\"172.73726\"/>\r\n     <use style=\"fill:#1f77b4;stroke:#1f77b4;\" x=\"122.05257\" xlink:href=\"#mb4d67632ab\" y=\"172.603319\"/>\r\n     <use style=\"fill:#1f77b4;stroke:#1f77b4;\" x=\"160.298817\" xlink:href=\"#mb4d67632ab\" y=\"152.139357\"/>\r\n     <use style=\"fill:#1f77b4;stroke:#1f77b4;\" x=\"137.988506\" xlink:href=\"#mb4d67632ab\" y=\"171.019566\"/>\r\n     <use style=\"fill:#1f77b4;stroke:#1f77b4;\" x=\"152.965474\" xlink:href=\"#mb4d67632ab\" y=\"172.65013\"/>\r\n     <use style=\"fill:#1f77b4;stroke:#1f77b4;\" x=\"195.357878\" xlink:href=\"#mb4d67632ab\" y=\"172.564311\"/>\r\n     <use style=\"fill:#1f77b4;stroke:#1f77b4;\" x=\"152.965474\" xlink:href=\"#mb4d67632ab\" y=\"158.848853\"/>\r\n     <use style=\"fill:#1f77b4;stroke:#1f77b4;\" x=\"185.796316\" xlink:href=\"#mb4d67632ab\" y=\"162.905757\"/>\r\n     <use style=\"fill:#1f77b4;stroke:#1f77b4;\" x=\"157.11163\" xlink:href=\"#mb4d67632ab\" y=\"158.848853\"/>\r\n     <use style=\"fill:#1f77b4;stroke:#1f77b4;\" x=\"281.411934\" xlink:href=\"#mb4d67632ab\" y=\"171.79974\"/>\r\n     <use style=\"fill:#1f77b4;stroke:#1f77b4;\" x=\"157.11163\" xlink:href=\"#mb4d67632ab\" y=\"171.019566\"/>\r\n     <use style=\"fill:#1f77b4;stroke:#1f77b4;\" x=\"152.965474\" xlink:href=\"#mb4d67632ab\" y=\"175.076471\"/>\r\n     <use style=\"fill:#1f77b4;stroke:#1f77b4;\" x=\"115.678196\" xlink:href=\"#mb4d67632ab\" y=\"172.65013\"/>\r\n     <use style=\"fill:#1f77b4;stroke:#1f77b4;\" x=\"136.394913\" xlink:href=\"#mb4d67632ab\" y=\"172.564311\"/>\r\n     <use style=\"fill:#1f77b4;stroke:#1f77b4;\" x=\"115.678196\" xlink:href=\"#mb4d67632ab\" y=\"172.005176\"/>\r\n     <use style=\"fill:#1f77b4;stroke:#1f77b4;\" x=\"195.357878\" xlink:href=\"#mb4d67632ab\" y=\"160.440408\"/>\r\n     <use style=\"fill:#1f77b4;stroke:#1f77b4;\" x=\"173.047567\" xlink:href=\"#mb4d67632ab\" y=\"15.194118\"/>\r\n     <use style=\"fill:#1f77b4;stroke:#1f77b4;\" x=\"152.965474\" xlink:href=\"#mb4d67632ab\" y=\"172.537004\"/>\r\n     <use style=\"fill:#1f77b4;stroke:#1f77b4;\" x=\"144.362881\" xlink:href=\"#mb4d67632ab\" y=\"151.131622\"/>\r\n     <use style=\"fill:#1f77b4;stroke:#1f77b4;\" x=\"122.05257\" xlink:href=\"#mb4d67632ab\" y=\"172.197629\"/>\r\n     <use style=\"fill:#1f77b4;stroke:#1f77b4;\" x=\"102.929446\" xlink:href=\"#mb4d67632ab\" y=\"160.440408\"/>\r\n     <use style=\"fill:#1f77b4;stroke:#1f77b4;\" x=\"249.540061\" xlink:href=\"#mb4d67632ab\" y=\"162.905757\"/>\r\n     <use style=\"fill:#1f77b4;stroke:#1f77b4;\" x=\"137.988506\" xlink:href=\"#mb4d67632ab\" y=\"162.100868\"/>\r\n     <use style=\"fill:#1f77b4;stroke:#1f77b4;\" x=\"102.929446\" xlink:href=\"#mb4d67632ab\" y=\"162.69121\"/>\r\n     <use style=\"fill:#1f77b4;stroke:#1f77b4;\" x=\"118.865383\" xlink:href=\"#mb4d67632ab\" y=\"171.902473\"/>\r\n     <use style=\"fill:#1f77b4;stroke:#1f77b4;\" x=\"115.678196\" xlink:href=\"#mb4d67632ab\" y=\"172.643639\"/>\r\n     <use style=\"fill:#1f77b4;stroke:#1f77b4;\" x=\"106.116634\" xlink:href=\"#mb4d67632ab\" y=\"109.124468\"/>\r\n     <use style=\"fill:#1f77b4;stroke:#1f77b4;\" x=\"157.11163\" xlink:href=\"#mb4d67632ab\" y=\"157.288505\"/>\r\n     <use style=\"fill:#1f77b4;stroke:#1f77b4;\" x=\"71.057574\" xlink:href=\"#mb4d67632ab\" y=\"170.889527\"/>\r\n     <use style=\"fill:#1f77b4;stroke:#1f77b4;\" x=\"152.965474\" xlink:href=\"#mb4d67632ab\" y=\"157.445851\"/>\r\n     <use style=\"fill:#1f77b4;stroke:#1f77b4;\" x=\"137.988506\" xlink:href=\"#mb4d67632ab\" y=\"172.821768\"/>\r\n     <use style=\"fill:#1f77b4;stroke:#1f77b4;\" x=\"249.540061\" xlink:href=\"#mb4d67632ab\" y=\"166.791024\"/>\r\n     <use style=\"fill:#1f77b4;stroke:#1f77b4;\" x=\"224.042563\" xlink:href=\"#mb4d67632ab\" y=\"170.863531\"/>\r\n     <use style=\"fill:#1f77b4;stroke:#1f77b4;\" x=\"198.545065\" xlink:href=\"#mb4d67632ab\" y=\"172.564311\"/>\r\n     <use style=\"fill:#1f77b4;stroke:#1f77b4;\" x=\"152.965474\" xlink:href=\"#mb4d67632ab\" y=\"172.663143\"/>\r\n     <use style=\"fill:#1f77b4;stroke:#1f77b4;\" x=\"214.481001\" xlink:href=\"#mb4d67632ab\" y=\"140.473167\"/>\r\n     <use style=\"fill:#1f77b4;stroke:#1f77b4;\" x=\"192.17069\" xlink:href=\"#mb4d67632ab\" y=\"172.689138\"/>\r\n     <use style=\"fill:#1f77b4;stroke:#1f77b4;\" x=\"115.678196\" xlink:href=\"#mb4d67632ab\" y=\"104.072842\"/>\r\n     <use style=\"fill:#1f77b4;stroke:#1f77b4;\" x=\"169.860379\" xlink:href=\"#mb4d67632ab\" y=\"166.872942\"/>\r\n     <use style=\"fill:#1f77b4;stroke:#1f77b4;\" x=\"115.678196\" xlink:href=\"#mb4d67632ab\" y=\"170.565755\"/>\r\n     <use style=\"fill:#1f77b4;stroke:#1f77b4;\" x=\"137.988506\" xlink:href=\"#mb4d67632ab\" y=\"172.660522\"/>\r\n     <use style=\"fill:#1f77b4;stroke:#1f77b4;\" x=\"141.175694\" xlink:href=\"#mb4d67632ab\" y=\"172.625414\"/>\r\n     <use style=\"fill:#1f77b4;stroke:#1f77b4;\" x=\"182.609128\" xlink:href=\"#mb4d67632ab\" y=\"166.962662\"/>\r\n     <use style=\"fill:#1f77b4;stroke:#1f77b4;\" x=\"201.732252\" xlink:href=\"#mb4d67632ab\" y=\"170.863531\"/>\r\n     <use style=\"fill:#1f77b4;stroke:#1f77b4;\" x=\"192.17069\" xlink:href=\"#mb4d67632ab\" y=\"166.872942\"/>\r\n     <use style=\"fill:#1f77b4;stroke:#1f77b4;\" x=\"128.426945\" xlink:href=\"#mb4d67632ab\" y=\"127.782327\"/>\r\n     <use style=\"fill:#1f77b4;stroke:#1f77b4;\" x=\"152.965474\" xlink:href=\"#mb4d67632ab\" y=\"170.31872\"/>\r\n     <use style=\"fill:#1f77b4;stroke:#1f77b4;\" x=\"134.801319\" xlink:href=\"#mb4d67632ab\" y=\"159.627716\"/>\r\n     <use style=\"fill:#1f77b4;stroke:#1f77b4;\" x=\"152.965474\" xlink:href=\"#mb4d67632ab\" y=\"166.791024\"/>\r\n     <use style=\"fill:#1f77b4;stroke:#1f77b4;\" x=\"211.293814\" xlink:href=\"#mb4d67632ab\" y=\"158.848853\"/>\r\n     <use style=\"fill:#1f77b4;stroke:#1f77b4;\" x=\"150.737256\" xlink:href=\"#mb4d67632ab\" y=\"172.117021\"/>\r\n     <use style=\"fill:#1f77b4;stroke:#1f77b4;\" x=\"224.042563\" xlink:href=\"#mb4d67632ab\" y=\"171.019566\"/>\r\n     <use style=\"fill:#1f77b4;stroke:#1f77b4;\" x=\"118.865383\" xlink:href=\"#mb4d67632ab\" y=\"172.689138\"/>\r\n     <use style=\"fill:#1f77b4;stroke:#1f77b4;\" x=\"179.421941\" xlink:href=\"#mb4d67632ab\" y=\"104.072842\"/>\r\n     <use style=\"fill:#1f77b4;stroke:#1f77b4;\" x=\"144.362881\" xlink:href=\"#mb4d67632ab\" y=\"171.79974\"/>\r\n     <use style=\"fill:#1f77b4;stroke:#1f77b4;\" x=\"152.965474\" xlink:href=\"#mb4d67632ab\" y=\"170.239392\"/>\r\n     <use style=\"fill:#1f77b4;stroke:#1f77b4;\" x=\"163.486005\" xlink:href=\"#mb4d67632ab\" y=\"172.65013\"/>\r\n     <use style=\"fill:#1f77b4;stroke:#1f77b4;\" x=\"77.431948\" xlink:href=\"#mb4d67632ab\" y=\"164.778175\"/>\r\n     <use style=\"fill:#1f77b4;stroke:#1f77b4;\" x=\"112.491008\" xlink:href=\"#mb4d67632ab\" y=\"172.875069\"/>\r\n     <use style=\"fill:#1f77b4;stroke:#1f77b4;\" x=\"166.673192\" xlink:href=\"#mb4d67632ab\" y=\"171.019566\"/>\r\n     <use style=\"fill:#1f77b4;stroke:#1f77b4;\" x=\"217.668188\" xlink:href=\"#mb4d67632ab\" y=\"171.019566\"/>\r\n     <use style=\"fill:#1f77b4;stroke:#1f77b4;\" x=\"144.362881\" xlink:href=\"#mb4d67632ab\" y=\"158.505576\"/>\r\n     <use style=\"fill:#1f77b4;stroke:#1f77b4;\" x=\"122.05257\" xlink:href=\"#mb4d67632ab\" y=\"172.373168\"/>\r\n     <use style=\"fill:#1f77b4;stroke:#1f77b4;\" x=\"153.924443\" xlink:href=\"#mb4d67632ab\" y=\"168.52301\"/>\r\n     <use style=\"fill:#1f77b4;stroke:#1f77b4;\" x=\"152.965474\" xlink:href=\"#mb4d67632ab\" y=\"172.661832\"/>\r\n     <use style=\"fill:#1f77b4;stroke:#1f77b4;\" x=\"137.988506\" xlink:href=\"#mb4d67632ab\" y=\"166.962662\"/>\r\n     <use style=\"fill:#1f77b4;stroke:#1f77b4;\" x=\"137.988506\" xlink:href=\"#mb4d67632ab\" y=\"172.603319\"/>\r\n     <use style=\"fill:#1f77b4;stroke:#1f77b4;\" x=\"150.737256\" xlink:href=\"#mb4d67632ab\" y=\"109.124468\"/>\r\n     <use style=\"fill:#1f77b4;stroke:#1f77b4;\" x=\"93.367885\" xlink:href=\"#mb4d67632ab\" y=\"169.213464\"/>\r\n     <use style=\"fill:#1f77b4;stroke:#1f77b4;\" x=\"152.965474\" xlink:href=\"#mb4d67632ab\" y=\"175.076471\"/>\r\n     <use style=\"fill:#1f77b4;stroke:#1f77b4;\" x=\"131.614132\" xlink:href=\"#mb4d67632ab\" y=\"171.019566\"/>\r\n     <use style=\"fill:#1f77b4;stroke:#1f77b4;\" x=\"131.614132\" xlink:href=\"#mb4d67632ab\" y=\"171.019566\"/>\r\n     <use style=\"fill:#1f77b4;stroke:#1f77b4;\" x=\"149.143662\" xlink:href=\"#mb4d67632ab\" y=\"170.052151\"/>\r\n     <use style=\"fill:#1f77b4;stroke:#1f77b4;\" x=\"211.293814\" xlink:href=\"#mb4d67632ab\" y=\"164.349079\"/>\r\n     <use style=\"fill:#1f77b4;stroke:#1f77b4;\" x=\"169.860379\" xlink:href=\"#mb4d67632ab\" y=\"15.194118\"/>\r\n     <use style=\"fill:#1f77b4;stroke:#1f77b4;\" x=\"152.965474\" xlink:href=\"#mb4d67632ab\" y=\"172.612432\"/>\r\n     <use style=\"fill:#1f77b4;stroke:#1f77b4;\" x=\"152.965474\" xlink:href=\"#mb4d67632ab\" y=\"172.612432\"/>\r\n     <use style=\"fill:#1f77b4;stroke:#1f77b4;\" x=\"152.965474\" xlink:href=\"#mb4d67632ab\" y=\"165.714384\"/>\r\n     <use style=\"fill:#1f77b4;stroke:#1f77b4;\" x=\"173.047567\" xlink:href=\"#mb4d67632ab\" y=\"150.469785\"/>\r\n     <use style=\"fill:#1f77b4;stroke:#1f77b4;\" x=\"125.239757\" xlink:href=\"#mb4d67632ab\" y=\"93.197217\"/>\r\n     <use style=\"fill:#1f77b4;stroke:#1f77b4;\" x=\"134.801319\" xlink:href=\"#mb4d67632ab\" y=\"170.052151\"/>\r\n     <use style=\"fill:#1f77b4;stroke:#1f77b4;\" x=\"157.11163\" xlink:href=\"#mb4d67632ab\" y=\"172.603319\"/>\r\n     <use style=\"fill:#1f77b4;stroke:#1f77b4;\" x=\"281.411934\" xlink:href=\"#mb4d67632ab\" y=\"152.919531\"/>\r\n     <use style=\"fill:#1f77b4;stroke:#1f77b4;\" x=\"109.303821\" xlink:href=\"#mb4d67632ab\" y=\"168.757062\"/>\r\n     <use style=\"fill:#1f77b4;stroke:#1f77b4;\" x=\"153.924443\" xlink:href=\"#mb4d67632ab\" y=\"171.019566\"/>\r\n     <use style=\"fill:#1f77b4;stroke:#1f77b4;\" x=\"118.865383\" xlink:href=\"#mb4d67632ab\" y=\"158.505576\"/>\r\n     <use style=\"fill:#1f77b4;stroke:#1f77b4;\" x=\"157.11163\" xlink:href=\"#mb4d67632ab\" y=\"172.657931\"/>\r\n     <use style=\"fill:#1f77b4;stroke:#1f77b4;\" x=\"71.057574\" xlink:href=\"#mb4d67632ab\" y=\"167.89887\"/>\r\n     <use style=\"fill:#1f77b4;stroke:#1f77b4;\" x=\"77.431948\" xlink:href=\"#mb4d67632ab\" y=\"171.183403\"/>\r\n     <use style=\"fill:#1f77b4;stroke:#1f77b4;\" x=\"163.486005\" xlink:href=\"#mb4d67632ab\" y=\"172.11181\"/>\r\n     <use style=\"fill:#1f77b4;stroke:#1f77b4;\" x=\"131.614132\" xlink:href=\"#mb4d67632ab\" y=\"172.612432\"/>\r\n     <use style=\"fill:#1f77b4;stroke:#1f77b4;\" x=\"211.293814\" xlink:href=\"#mb4d67632ab\" y=\"154.791949\"/>\r\n     <use style=\"fill:#1f77b4;stroke:#1f77b4;\" x=\"60.44424\" xlink:href=\"#mb4d67632ab\" y=\"170.551462\"/>\r\n     <use style=\"fill:#1f77b4;stroke:#1f77b4;\" x=\"147.550068\" xlink:href=\"#mb4d67632ab\" y=\"172.643639\"/>\r\n     <use style=\"fill:#1f77b4;stroke:#1f77b4;\" x=\"115.678196\" xlink:href=\"#mb4d67632ab\" y=\"171.487671\"/>\r\n     <use style=\"fill:#1f77b4;stroke:#1f77b4;\" x=\"166.673192\" xlink:href=\"#mb4d67632ab\" y=\"172.564311\"/>\r\n     <use style=\"fill:#1f77b4;stroke:#1f77b4;\" x=\"163.486005\" xlink:href=\"#mb4d67632ab\" y=\"148.082453\"/>\r\n     <use style=\"fill:#1f77b4;stroke:#1f77b4;\" x=\"152.965474\" xlink:href=\"#mb4d67632ab\" y=\"170.551462\"/>\r\n     <use style=\"fill:#1f77b4;stroke:#1f77b4;\" x=\"188.983503\" xlink:href=\"#mb4d67632ab\" y=\"172.852975\"/>\r\n     <use style=\"fill:#1f77b4;stroke:#1f77b4;\" x=\"122.05257\" xlink:href=\"#mb4d67632ab\" y=\"172.820457\"/>\r\n     <use style=\"fill:#1f77b4;stroke:#1f77b4;\" x=\"173.047567\" xlink:href=\"#mb4d67632ab\" y=\"137.628122\"/>\r\n     <use style=\"fill:#1f77b4;stroke:#1f77b4;\" x=\"109.303821\" xlink:href=\"#mb4d67632ab\" y=\"172.65013\"/>\r\n     <use style=\"fill:#1f77b4;stroke:#1f77b4;\" x=\"220.855376\" xlink:href=\"#mb4d67632ab\" y=\"150.748057\"/>\r\n     <use style=\"fill:#1f77b4;stroke:#1f77b4;\" x=\"152.965474\" xlink:href=\"#mb4d67632ab\" y=\"162.718516\"/>\r\n     <use style=\"fill:#1f77b4;stroke:#1f77b4;\" x=\"155.518037\" xlink:href=\"#mb4d67632ab\" y=\"172.657931\"/>\r\n     <use style=\"fill:#1f77b4;stroke:#1f77b4;\" x=\"152.965474\" xlink:href=\"#mb4d67632ab\" y=\"167.53999\"/>\r\n     <use style=\"fill:#1f77b4;stroke:#1f77b4;\" x=\"160.298817\" xlink:href=\"#mb4d67632ab\" y=\"172.466789\"/>\r\n     <use style=\"fill:#1f77b4;stroke:#1f77b4;\" x=\"134.801319\" xlink:href=\"#mb4d67632ab\" y=\"172.11181\"/>\r\n     <use style=\"fill:#1f77b4;stroke:#1f77b4;\" x=\"211.293814\" xlink:href=\"#mb4d67632ab\" y=\"172.625414\"/>\r\n     <use style=\"fill:#1f77b4;stroke:#1f77b4;\" x=\"239.978499\" xlink:href=\"#mb4d67632ab\" y=\"171.79974\"/>\r\n     <use style=\"fill:#1f77b4;stroke:#1f77b4;\" x=\"152.965474\" xlink:href=\"#mb4d67632ab\" y=\"172.821768\"/>\r\n     <use style=\"fill:#1f77b4;stroke:#1f77b4;\" x=\"230.416938\" xlink:href=\"#mb4d67632ab\" y=\"167.89887\"/>\r\n     <use style=\"fill:#1f77b4;stroke:#1f77b4;\" x=\"115.678196\" xlink:href=\"#mb4d67632ab\" y=\"172.657931\"/>\r\n     <use style=\"fill:#1f77b4;stroke:#1f77b4;\" x=\"152.965474\" xlink:href=\"#mb4d67632ab\" y=\"172.657931\"/>\r\n     <use style=\"fill:#1f77b4;stroke:#1f77b4;\" x=\"74.244761\" xlink:href=\"#mb4d67632ab\" y=\"171.183403\"/>\r\n     <use style=\"fill:#1f77b4;stroke:#1f77b4;\" x=\"152.965474\" xlink:href=\"#mb4d67632ab\" y=\"172.661832\"/>\r\n     <use style=\"fill:#1f77b4;stroke:#1f77b4;\" x=\"195.357878\" xlink:href=\"#mb4d67632ab\" y=\"109.124468\"/>\r\n     <use style=\"fill:#1f77b4;stroke:#1f77b4;\" x=\"99.742259\" xlink:href=\"#mb4d67632ab\" y=\"172.820457\"/>\r\n     <use style=\"fill:#1f77b4;stroke:#1f77b4;\" x=\"112.491008\" xlink:href=\"#mb4d67632ab\" y=\"157.288505\"/>\r\n     <use style=\"fill:#1f77b4;stroke:#1f77b4;\" x=\"150.737256\" xlink:href=\"#mb4d67632ab\" y=\"165.714384\"/>\r\n     <use style=\"fill:#1f77b4;stroke:#1f77b4;\" x=\"152.965474\" xlink:href=\"#mb4d67632ab\" y=\"167.758439\"/>\r\n     <use style=\"fill:#1f77b4;stroke:#1f77b4;\" x=\"137.988506\" xlink:href=\"#mb4d67632ab\" y=\"172.87638\"/>\r\n     <use style=\"fill:#1f77b4;stroke:#1f77b4;\" x=\"137.988506\" xlink:href=\"#mb4d67632ab\" y=\"172.813966\"/>\r\n     <use style=\"fill:#1f77b4;stroke:#1f77b4;\" x=\"115.678196\" xlink:href=\"#mb4d67632ab\" y=\"172.73726\"/>\r\n     <use style=\"fill:#1f77b4;stroke:#1f77b4;\" x=\"83.806323\" xlink:href=\"#mb4d67632ab\" y=\"165.987444\"/>\r\n     <use style=\"fill:#1f77b4;stroke:#1f77b4;\" x=\"61.496012\" xlink:href=\"#mb4d67632ab\" y=\"168.655639\"/>\r\n     <use style=\"fill:#1f77b4;stroke:#1f77b4;\" x=\"204.919439\" xlink:href=\"#mb4d67632ab\" y=\"150.360561\"/>\r\n     <use style=\"fill:#1f77b4;stroke:#1f77b4;\" x=\"152.965474\" xlink:href=\"#mb4d67632ab\" y=\"172.657931\"/>\r\n     <use style=\"fill:#1f77b4;stroke:#1f77b4;\" x=\"109.303821\" xlink:href=\"#mb4d67632ab\" y=\"166.962662\"/>\r\n     <use style=\"fill:#1f77b4;stroke:#1f77b4;\" x=\"152.965474\" xlink:href=\"#mb4d67632ab\" y=\"153.372032\"/>\r\n     <use style=\"fill:#1f77b4;stroke:#1f77b4;\" x=\"152.965474\" xlink:href=\"#mb4d67632ab\" y=\"165.497245\"/>\r\n     <use style=\"fill:#1f77b4;stroke:#1f77b4;\" x=\"137.988506\" xlink:href=\"#mb4d67632ab\" y=\"172.612432\"/>\r\n     <use style=\"fill:#1f77b4;stroke:#1f77b4;\" x=\"182.609128\" xlink:href=\"#mb4d67632ab\" y=\"171.019566\"/>\r\n     <use style=\"fill:#1f77b4;stroke:#1f77b4;\" x=\"214.481001\" xlink:href=\"#mb4d67632ab\" y=\"166.984756\"/>\r\n     <use style=\"fill:#1f77b4;stroke:#1f77b4;\" x=\"157.11163\" xlink:href=\"#mb4d67632ab\" y=\"172.366677\"/>\r\n     <use style=\"fill:#1f77b4;stroke:#1f77b4;\" x=\"153.924443\" xlink:href=\"#mb4d67632ab\" y=\"172.820457\"/>\r\n     <use style=\"fill:#1f77b4;stroke:#1f77b4;\" x=\"153.924443\" xlink:href=\"#mb4d67632ab\" y=\"167.53999\"/>\r\n     <use style=\"fill:#1f77b4;stroke:#1f77b4;\" x=\"166.673192\" xlink:href=\"#mb4d67632ab\" y=\"171.019566\"/>\r\n     <use style=\"fill:#1f77b4;stroke:#1f77b4;\" x=\"157.11163\" xlink:href=\"#mb4d67632ab\" y=\"166.884644\"/>\r\n     <use style=\"fill:#1f77b4;stroke:#1f77b4;\" x=\"93.367885\" xlink:href=\"#mb4d67632ab\" y=\"137.628122\"/>\r\n     <use style=\"fill:#1f77b4;stroke:#1f77b4;\" x=\"59.647443\" xlink:href=\"#mb4d67632ab\" y=\"172.418668\"/>\r\n     <use style=\"fill:#1f77b4;stroke:#1f77b4;\" x=\"144.362881\" xlink:href=\"#mb4d67632ab\" y=\"172.899785\"/>\r\n     <use style=\"fill:#1f77b4;stroke:#1f77b4;\" x=\"157.11163\" xlink:href=\"#mb4d67632ab\" y=\"172.65013\"/>\r\n     <use style=\"fill:#1f77b4;stroke:#1f77b4;\" x=\"182.609128\" xlink:href=\"#mb4d67632ab\" y=\"175.076471\"/>\r\n     <use style=\"fill:#1f77b4;stroke:#1f77b4;\" x=\"115.678196\" xlink:href=\"#mb4d67632ab\" y=\"172.65013\"/>\r\n     <use style=\"fill:#1f77b4;stroke:#1f77b4;\" x=\"182.609128\" xlink:href=\"#mb4d67632ab\" y=\"171.019566\"/>\r\n     <use style=\"fill:#1f77b4;stroke:#1f77b4;\" x=\"163.486005\" xlink:href=\"#mb4d67632ab\" y=\"158.505576\"/>\r\n     <use style=\"fill:#1f77b4;stroke:#1f77b4;\" x=\"141.175694\" xlink:href=\"#mb4d67632ab\" y=\"172.615022\"/>\r\n     <use style=\"fill:#1f77b4;stroke:#1f77b4;\" x=\"182.609128\" xlink:href=\"#mb4d67632ab\" y=\"167.53999\"/>\r\n     <use style=\"fill:#1f77b4;stroke:#1f77b4;\" x=\"169.860379\" xlink:href=\"#mb4d67632ab\" y=\"171.79974\"/>\r\n     <use style=\"fill:#1f77b4;stroke:#1f77b4;\" x=\"77.431948\" xlink:href=\"#mb4d67632ab\" y=\"165.316495\"/>\r\n     <use style=\"fill:#1f77b4;stroke:#1f77b4;\" x=\"155.518037\" xlink:href=\"#mb4d67632ab\" y=\"172.564311\"/>\r\n     <use style=\"fill:#1f77b4;stroke:#1f77b4;\" x=\"152.965474\" xlink:href=\"#mb4d67632ab\" y=\"175.076471\"/>\r\n     <use style=\"fill:#1f77b4;stroke:#1f77b4;\" x=\"131.614132\" xlink:href=\"#mb4d67632ab\" y=\"172.603319\"/>\r\n     <use style=\"fill:#1f77b4;stroke:#1f77b4;\" x=\"157.11163\" xlink:href=\"#mb4d67632ab\" y=\"163.528586\"/>\r\n     <use style=\"fill:#1f77b4;stroke:#1f77b4;\" x=\"195.357878\" xlink:href=\"#mb4d67632ab\" y=\"173.063622\"/>\r\n     <use style=\"fill:#1f77b4;stroke:#1f77b4;\" x=\"90.180697\" xlink:href=\"#mb4d67632ab\" y=\"166.36973\"/>\r\n     <use style=\"fill:#1f77b4;stroke:#1f77b4;\" x=\"224.042563\" xlink:href=\"#mb4d67632ab\" y=\"145.897966\"/>\r\n     <use style=\"fill:#1f77b4;stroke:#1f77b4;\" x=\"144.362881\" xlink:href=\"#mb4d67632ab\" y=\"172.373168\"/>\r\n     <use style=\"fill:#1f77b4;stroke:#1f77b4;\" x=\"179.421941\" xlink:href=\"#mb4d67632ab\" y=\"175.076471\"/>\r\n     <use style=\"fill:#1f77b4;stroke:#1f77b4;\" x=\"144.362881\" xlink:href=\"#mb4d67632ab\" y=\"171.183403\"/>\r\n     <use style=\"fill:#1f77b4;stroke:#1f77b4;\" x=\"64.683199\" xlink:href=\"#mb4d67632ab\" y=\"162.69121\"/>\r\n     <use style=\"fill:#1f77b4;stroke:#1f77b4;\" x=\"152.965474\" xlink:href=\"#mb4d67632ab\" y=\"172.907587\"/>\r\n     <use style=\"fill:#1f77b4;stroke:#1f77b4;\" x=\"152.965474\" xlink:href=\"#mb4d67632ab\" y=\"157.445851\"/>\r\n     <use style=\"fill:#1f77b4;stroke:#1f77b4;\" x=\"61.496012\" xlink:href=\"#mb4d67632ab\" y=\"163.528586\"/>\r\n     <use style=\"fill:#1f77b4;stroke:#1f77b4;\" x=\"152.965474\" xlink:href=\"#mb4d67632ab\" y=\"172.657931\"/>\r\n     <use style=\"fill:#1f77b4;stroke:#1f77b4;\" x=\"255.914436\" xlink:href=\"#mb4d67632ab\" y=\"150.110905\"/>\r\n     <use style=\"fill:#1f77b4;stroke:#1f77b4;\" x=\"106.116634\" xlink:href=\"#mb4d67632ab\" y=\"170.565755\"/>\r\n     <use style=\"fill:#1f77b4;stroke:#1f77b4;\" x=\"60.95419\" xlink:href=\"#mb4d67632ab\" y=\"169.225166\"/>\r\n     <use style=\"fill:#1f77b4;stroke:#1f77b4;\" x=\"152.965474\" xlink:href=\"#mb4d67632ab\" y=\"172.820457\"/>\r\n     <use style=\"fill:#1f77b4;stroke:#1f77b4;\" x=\"131.614132\" xlink:href=\"#mb4d67632ab\" y=\"172.625414\"/>\r\n     <use style=\"fill:#1f77b4;stroke:#1f77b4;\" x=\"115.678196\" xlink:href=\"#mb4d67632ab\" y=\"172.486293\"/>\r\n     <use style=\"fill:#1f77b4;stroke:#1f77b4;\" x=\"182.609128\" xlink:href=\"#mb4d67632ab\" y=\"149.125296\"/>\r\n     <use style=\"fill:#1f77b4;stroke:#1f77b4;\" x=\"125.239757\" xlink:href=\"#mb4d67632ab\" y=\"172.373168\"/>\r\n     <use style=\"fill:#1f77b4;stroke:#1f77b4;\" x=\"152.965474\" xlink:href=\"#mb4d67632ab\" y=\"172.564311\"/>\r\n     <use style=\"fill:#1f77b4;stroke:#1f77b4;\" x=\"160.298817\" xlink:href=\"#mb4d67632ab\" y=\"157.445851\"/>\r\n     <use style=\"fill:#1f77b4;stroke:#1f77b4;\" x=\"152.965474\" xlink:href=\"#mb4d67632ab\" y=\"165.808004\"/>\r\n     <use style=\"fill:#1f77b4;stroke:#1f77b4;\" x=\"122.05257\" xlink:href=\"#mb4d67632ab\" y=\"172.603319\"/>\r\n     <use style=\"fill:#1f77b4;stroke:#1f77b4;\" x=\"109.303821\" xlink:href=\"#mb4d67632ab\" y=\"171.79974\"/>\r\n     <use style=\"fill:#1f77b4;stroke:#1f77b4;\" x=\"153.924443\" xlink:href=\"#mb4d67632ab\" y=\"165.402314\"/>\r\n     <use style=\"fill:#1f77b4;stroke:#1f77b4;\" x=\"168.266786\" xlink:href=\"#mb4d67632ab\" y=\"173.067523\"/>\r\n     <use style=\"fill:#1f77b4;stroke:#1f77b4;\" x=\"112.491008\" xlink:href=\"#mb4d67632ab\" y=\"172.373168\"/>\r\n     <use style=\"fill:#1f77b4;stroke:#1f77b4;\" x=\"192.17069\" xlink:href=\"#mb4d67632ab\" y=\"172.720345\"/>\r\n     <use style=\"fill:#1f77b4;stroke:#1f77b4;\" x=\"152.965474\" xlink:href=\"#mb4d67632ab\" y=\"153.372032\"/>\r\n     <use style=\"fill:#1f77b4;stroke:#1f77b4;\" x=\"169.860379\" xlink:href=\"#mb4d67632ab\" y=\"172.612432\"/>\r\n     <use style=\"fill:#1f77b4;stroke:#1f77b4;\" x=\"147.550068\" xlink:href=\"#mb4d67632ab\" y=\"164.778175\"/>\r\n     <use style=\"fill:#1f77b4;stroke:#1f77b4;\" x=\"152.965474\" xlink:href=\"#mb4d67632ab\" y=\"147.269761\"/>\r\n     <use style=\"fill:#1f77b4;stroke:#1f77b4;\" x=\"71.057574\" xlink:href=\"#mb4d67632ab\" y=\"165.316495\"/>\r\n     <use style=\"fill:#1f77b4;stroke:#1f77b4;\" x=\"294.160683\" xlink:href=\"#mb4d67632ab\" y=\"172.65013\"/>\r\n     <use style=\"fill:#1f77b4;stroke:#1f77b4;\" x=\"86.99351\" xlink:href=\"#mb4d67632ab\" y=\"170.31872\"/>\r\n     <use style=\"fill:#1f77b4;stroke:#1f77b4;\" x=\"109.303821\" xlink:href=\"#mb4d67632ab\" y=\"162.78093\"/>\r\n     <use style=\"fill:#1f77b4;stroke:#1f77b4;\" x=\"198.545065\" xlink:href=\"#mb4d67632ab\" y=\"166.962662\"/>\r\n     <use style=\"fill:#1f77b4;stroke:#1f77b4;\" x=\"115.678196\" xlink:href=\"#mb4d67632ab\" y=\"172.15862\"/>\r\n     <use style=\"fill:#1f77b4;stroke:#1f77b4;\" x=\"201.732252\" xlink:href=\"#mb4d67632ab\" y=\"123.62659\"/>\r\n     <use style=\"fill:#1f77b4;stroke:#1f77b4;\" x=\"220.855376\" xlink:href=\"#mb4d67632ab\" y=\"166.791024\"/>\r\n     <use style=\"fill:#1f77b4;stroke:#1f77b4;\" x=\"134.801319\" xlink:href=\"#mb4d67632ab\" y=\"169.066541\"/>\r\n     <use style=\"fill:#1f77b4;stroke:#1f77b4;\" x=\"152.965474\" xlink:href=\"#mb4d67632ab\" y=\"172.820457\"/>\r\n     <use style=\"fill:#1f77b4;stroke:#1f77b4;\" x=\"188.983503\" xlink:href=\"#mb4d67632ab\" y=\"170.673699\"/>\r\n     <use style=\"fill:#1f77b4;stroke:#1f77b4;\" x=\"125.239757\" xlink:href=\"#mb4d67632ab\" y=\"171.487671\"/>\r\n     <use style=\"fill:#1f77b4;stroke:#1f77b4;\" x=\"211.293814\" xlink:href=\"#mb4d67632ab\" y=\"166.984756\"/>\r\n     <use style=\"fill:#1f77b4;stroke:#1f77b4;\" x=\"152.965474\" xlink:href=\"#mb4d67632ab\" y=\"153.372032\"/>\r\n     <use style=\"fill:#1f77b4;stroke:#1f77b4;\" x=\"134.801319\" xlink:href=\"#mb4d67632ab\" y=\"171.019566\"/>\r\n     <use style=\"fill:#1f77b4;stroke:#1f77b4;\" x=\"192.17069\" xlink:href=\"#mb4d67632ab\" y=\"171.019566\"/>\r\n     <use style=\"fill:#1f77b4;stroke:#1f77b4;\" x=\"144.362881\" xlink:href=\"#mb4d67632ab\" y=\"170.751717\"/>\r\n     <use style=\"fill:#1f77b4;stroke:#1f77b4;\" x=\"157.11163\" xlink:href=\"#mb4d67632ab\" y=\"159.318268\"/>\r\n     <use style=\"fill:#1f77b4;stroke:#1f77b4;\" x=\"152.965474\" xlink:href=\"#mb4d67632ab\" y=\"172.11181\"/>\r\n     <use style=\"fill:#1f77b4;stroke:#1f77b4;\" x=\"71.057574\" xlink:href=\"#mb4d67632ab\" y=\"171.602106\"/>\r\n     <use style=\"fill:#1f77b4;stroke:#1f77b4;\" x=\"141.175694\" xlink:href=\"#mb4d67632ab\" y=\"172.612432\"/>\r\n     <use style=\"fill:#1f77b4;stroke:#1f77b4;\" x=\"208.106627\" xlink:href=\"#mb4d67632ab\" y=\"158.675904\"/>\r\n     <use style=\"fill:#1f77b4;stroke:#1f77b4;\" x=\"163.486005\" xlink:href=\"#mb4d67632ab\" y=\"173.516123\"/>\r\n     <use style=\"fill:#1f77b4;stroke:#1f77b4;\" x=\"208.106627\" xlink:href=\"#mb4d67632ab\" y=\"172.267844\"/>\r\n     <use style=\"fill:#1f77b4;stroke:#1f77b4;\" x=\"147.550068\" xlink:href=\"#mb4d67632ab\" y=\"167.586801\"/>\r\n     <use style=\"fill:#1f77b4;stroke:#1f77b4;\" x=\"106.116634\" xlink:href=\"#mb4d67632ab\" y=\"172.821768\"/>\r\n     <use style=\"fill:#1f77b4;stroke:#1f77b4;\" x=\"122.05257\" xlink:href=\"#mb4d67632ab\" y=\"172.003896\"/>\r\n     <use style=\"fill:#1f77b4;stroke:#1f77b4;\" x=\"118.865383\" xlink:href=\"#mb4d67632ab\" y=\"172.612432\"/>\r\n     <use style=\"fill:#1f77b4;stroke:#1f77b4;\" x=\"152.965474\" xlink:href=\"#mb4d67632ab\" y=\"172.612432\"/>\r\n     <use style=\"fill:#1f77b4;stroke:#1f77b4;\" x=\"236.791312\" xlink:href=\"#mb4d67632ab\" y=\"149.125296\"/>\r\n     <use style=\"fill:#1f77b4;stroke:#1f77b4;\" x=\"137.988506\" xlink:href=\"#mb4d67632ab\" y=\"166.962662\"/>\r\n     <use style=\"fill:#1f77b4;stroke:#1f77b4;\" x=\"163.486005\" xlink:href=\"#mb4d67632ab\" y=\"172.612432\"/>\r\n     <use style=\"fill:#1f77b4;stroke:#1f77b4;\" x=\"128.426945\" xlink:href=\"#mb4d67632ab\" y=\"171.794529\"/>\r\n     <use style=\"fill:#1f77b4;stroke:#1f77b4;\" x=\"147.550068\" xlink:href=\"#mb4d67632ab\" y=\"171.79974\"/>\r\n     <use style=\"fill:#1f77b4;stroke:#1f77b4;\" x=\"137.988506\" xlink:href=\"#mb4d67632ab\" y=\"172.87638\"/>\r\n     <use style=\"fill:#1f77b4;stroke:#1f77b4;\" x=\"182.609128\" xlink:href=\"#mb4d67632ab\" y=\"165.987444\"/>\r\n     <use style=\"fill:#1f77b4;stroke:#1f77b4;\" x=\"144.362881\" xlink:href=\"#mb4d67632ab\" y=\"171.019566\"/>\r\n     <use style=\"fill:#1f77b4;stroke:#1f77b4;\" x=\"118.865383\" xlink:href=\"#mb4d67632ab\" y=\"165.714384\"/>\r\n     <use style=\"fill:#1f77b4;stroke:#1f77b4;\" x=\"152.965474\" xlink:href=\"#mb4d67632ab\" y=\"167.758439\"/>\r\n     <use style=\"fill:#1f77b4;stroke:#1f77b4;\" x=\"141.175694\" xlink:href=\"#mb4d67632ab\" y=\"165.714384\"/>\r\n     <use style=\"fill:#1f77b4;stroke:#1f77b4;\" x=\"160.298817\" xlink:href=\"#mb4d67632ab\" y=\"172.657931\"/>\r\n    </g>\r\n   </g>\r\n   <g id=\"matplotlib.axis_1\">\r\n    <g id=\"xtick_1\">\r\n     <g id=\"line2d_1\">\r\n      <defs>\r\n       <path d=\"M 0 0 \r\nL 0 3.5 \r\n\" id=\"m9831c93629\" style=\"stroke:#000000;stroke-width:0.8;\"/>\r\n      </defs>\r\n      <g>\r\n       <use style=\"stroke:#000000;stroke-width:0.8;\" x=\"58.308825\" xlink:href=\"#m9831c93629\" y=\"183.070588\"/>\r\n      </g>\r\n     </g>\r\n     <g id=\"text_1\">\r\n      <!-- 0 -->\r\n      <g transform=\"translate(55.127575 197.669026)scale(0.1 -0.1)\">\r\n       <defs>\r\n        <path d=\"M 2034 4250 \r\nQ 1547 4250 1301 3770 \r\nQ 1056 3291 1056 2328 \r\nQ 1056 1369 1301 889 \r\nQ 1547 409 2034 409 \r\nQ 2525 409 2770 889 \r\nQ 3016 1369 3016 2328 \r\nQ 3016 3291 2770 3770 \r\nQ 2525 4250 2034 4250 \r\nz\r\nM 2034 4750 \r\nQ 2819 4750 3233 4129 \r\nQ 3647 3509 3647 2328 \r\nQ 3647 1150 3233 529 \r\nQ 2819 -91 2034 -91 \r\nQ 1250 -91 836 529 \r\nQ 422 1150 422 2328 \r\nQ 422 3509 836 4129 \r\nQ 1250 4750 2034 4750 \r\nz\r\n\" id=\"DejaVuSans-30\" transform=\"scale(0.015625)\"/>\r\n       </defs>\r\n       <use xlink:href=\"#DejaVuSans-30\"/>\r\n      </g>\r\n     </g>\r\n    </g>\r\n    <g id=\"xtick_2\">\r\n     <g id=\"line2d_2\">\r\n      <g>\r\n       <use style=\"stroke:#000000;stroke-width:0.8;\" x=\"90.180697\" xlink:href=\"#m9831c93629\" y=\"183.070588\"/>\r\n      </g>\r\n     </g>\r\n     <g id=\"text_2\">\r\n      <!-- 10 -->\r\n      <g transform=\"translate(83.818197 197.669026)scale(0.1 -0.1)\">\r\n       <defs>\r\n        <path d=\"M 794 531 \r\nL 1825 531 \r\nL 1825 4091 \r\nL 703 3866 \r\nL 703 4441 \r\nL 1819 4666 \r\nL 2450 4666 \r\nL 2450 531 \r\nL 3481 531 \r\nL 3481 0 \r\nL 794 0 \r\nL 794 531 \r\nz\r\n\" id=\"DejaVuSans-31\" transform=\"scale(0.015625)\"/>\r\n       </defs>\r\n       <use xlink:href=\"#DejaVuSans-31\"/>\r\n       <use x=\"63.623047\" xlink:href=\"#DejaVuSans-30\"/>\r\n      </g>\r\n     </g>\r\n    </g>\r\n    <g id=\"xtick_3\">\r\n     <g id=\"line2d_3\">\r\n      <g>\r\n       <use style=\"stroke:#000000;stroke-width:0.8;\" x=\"122.05257\" xlink:href=\"#m9831c93629\" y=\"183.070588\"/>\r\n      </g>\r\n     </g>\r\n     <g id=\"text_3\">\r\n      <!-- 20 -->\r\n      <g transform=\"translate(115.69007 197.669026)scale(0.1 -0.1)\">\r\n       <defs>\r\n        <path d=\"M 1228 531 \r\nL 3431 531 \r\nL 3431 0 \r\nL 469 0 \r\nL 469 531 \r\nQ 828 903 1448 1529 \r\nQ 2069 2156 2228 2338 \r\nQ 2531 2678 2651 2914 \r\nQ 2772 3150 2772 3378 \r\nQ 2772 3750 2511 3984 \r\nQ 2250 4219 1831 4219 \r\nQ 1534 4219 1204 4116 \r\nQ 875 4013 500 3803 \r\nL 500 4441 \r\nQ 881 4594 1212 4672 \r\nQ 1544 4750 1819 4750 \r\nQ 2544 4750 2975 4387 \r\nQ 3406 4025 3406 3419 \r\nQ 3406 3131 3298 2873 \r\nQ 3191 2616 2906 2266 \r\nQ 2828 2175 2409 1742 \r\nQ 1991 1309 1228 531 \r\nz\r\n\" id=\"DejaVuSans-32\" transform=\"scale(0.015625)\"/>\r\n       </defs>\r\n       <use xlink:href=\"#DejaVuSans-32\"/>\r\n       <use x=\"63.623047\" xlink:href=\"#DejaVuSans-30\"/>\r\n      </g>\r\n     </g>\r\n    </g>\r\n    <g id=\"xtick_4\">\r\n     <g id=\"line2d_4\">\r\n      <g>\r\n       <use style=\"stroke:#000000;stroke-width:0.8;\" x=\"153.924443\" xlink:href=\"#m9831c93629\" y=\"183.070588\"/>\r\n      </g>\r\n     </g>\r\n     <g id=\"text_4\">\r\n      <!-- 30 -->\r\n      <g transform=\"translate(147.561943 197.669026)scale(0.1 -0.1)\">\r\n       <defs>\r\n        <path d=\"M 2597 2516 \r\nQ 3050 2419 3304 2112 \r\nQ 3559 1806 3559 1356 \r\nQ 3559 666 3084 287 \r\nQ 2609 -91 1734 -91 \r\nQ 1441 -91 1130 -33 \r\nQ 819 25 488 141 \r\nL 488 750 \r\nQ 750 597 1062 519 \r\nQ 1375 441 1716 441 \r\nQ 2309 441 2620 675 \r\nQ 2931 909 2931 1356 \r\nQ 2931 1769 2642 2001 \r\nQ 2353 2234 1838 2234 \r\nL 1294 2234 \r\nL 1294 2753 \r\nL 1863 2753 \r\nQ 2328 2753 2575 2939 \r\nQ 2822 3125 2822 3475 \r\nQ 2822 3834 2567 4026 \r\nQ 2313 4219 1838 4219 \r\nQ 1578 4219 1281 4162 \r\nQ 984 4106 628 3988 \r\nL 628 4550 \r\nQ 988 4650 1302 4700 \r\nQ 1616 4750 1894 4750 \r\nQ 2613 4750 3031 4423 \r\nQ 3450 4097 3450 3541 \r\nQ 3450 3153 3228 2886 \r\nQ 3006 2619 2597 2516 \r\nz\r\n\" id=\"DejaVuSans-33\" transform=\"scale(0.015625)\"/>\r\n       </defs>\r\n       <use xlink:href=\"#DejaVuSans-33\"/>\r\n       <use x=\"63.623047\" xlink:href=\"#DejaVuSans-30\"/>\r\n      </g>\r\n     </g>\r\n    </g>\r\n    <g id=\"xtick_5\">\r\n     <g id=\"line2d_5\">\r\n      <g>\r\n       <use style=\"stroke:#000000;stroke-width:0.8;\" x=\"185.796316\" xlink:href=\"#m9831c93629\" y=\"183.070588\"/>\r\n      </g>\r\n     </g>\r\n     <g id=\"text_5\">\r\n      <!-- 40 -->\r\n      <g transform=\"translate(179.433816 197.669026)scale(0.1 -0.1)\">\r\n       <defs>\r\n        <path d=\"M 2419 4116 \r\nL 825 1625 \r\nL 2419 1625 \r\nL 2419 4116 \r\nz\r\nM 2253 4666 \r\nL 3047 4666 \r\nL 3047 1625 \r\nL 3713 1625 \r\nL 3713 1100 \r\nL 3047 1100 \r\nL 3047 0 \r\nL 2419 0 \r\nL 2419 1100 \r\nL 313 1100 \r\nL 313 1709 \r\nL 2253 4666 \r\nz\r\n\" id=\"DejaVuSans-34\" transform=\"scale(0.015625)\"/>\r\n       </defs>\r\n       <use xlink:href=\"#DejaVuSans-34\"/>\r\n       <use x=\"63.623047\" xlink:href=\"#DejaVuSans-30\"/>\r\n      </g>\r\n     </g>\r\n    </g>\r\n    <g id=\"xtick_6\">\r\n     <g id=\"line2d_6\">\r\n      <g>\r\n       <use style=\"stroke:#000000;stroke-width:0.8;\" x=\"217.668188\" xlink:href=\"#m9831c93629\" y=\"183.070588\"/>\r\n      </g>\r\n     </g>\r\n     <g id=\"text_6\">\r\n      <!-- 50 -->\r\n      <g transform=\"translate(211.305688 197.669026)scale(0.1 -0.1)\">\r\n       <defs>\r\n        <path d=\"M 691 4666 \r\nL 3169 4666 \r\nL 3169 4134 \r\nL 1269 4134 \r\nL 1269 2991 \r\nQ 1406 3038 1543 3061 \r\nQ 1681 3084 1819 3084 \r\nQ 2600 3084 3056 2656 \r\nQ 3513 2228 3513 1497 \r\nQ 3513 744 3044 326 \r\nQ 2575 -91 1722 -91 \r\nQ 1428 -91 1123 -41 \r\nQ 819 9 494 109 \r\nL 494 744 \r\nQ 775 591 1075 516 \r\nQ 1375 441 1709 441 \r\nQ 2250 441 2565 725 \r\nQ 2881 1009 2881 1497 \r\nQ 2881 1984 2565 2268 \r\nQ 2250 2553 1709 2553 \r\nQ 1456 2553 1204 2497 \r\nQ 953 2441 691 2322 \r\nL 691 4666 \r\nz\r\n\" id=\"DejaVuSans-35\" transform=\"scale(0.015625)\"/>\r\n       </defs>\r\n       <use xlink:href=\"#DejaVuSans-35\"/>\r\n       <use x=\"63.623047\" xlink:href=\"#DejaVuSans-30\"/>\r\n      </g>\r\n     </g>\r\n    </g>\r\n    <g id=\"xtick_7\">\r\n     <g id=\"line2d_7\">\r\n      <g>\r\n       <use style=\"stroke:#000000;stroke-width:0.8;\" x=\"249.540061\" xlink:href=\"#m9831c93629\" y=\"183.070588\"/>\r\n      </g>\r\n     </g>\r\n     <g id=\"text_7\">\r\n      <!-- 60 -->\r\n      <g transform=\"translate(243.177561 197.669026)scale(0.1 -0.1)\">\r\n       <defs>\r\n        <path d=\"M 2113 2584 \r\nQ 1688 2584 1439 2293 \r\nQ 1191 2003 1191 1497 \r\nQ 1191 994 1439 701 \r\nQ 1688 409 2113 409 \r\nQ 2538 409 2786 701 \r\nQ 3034 994 3034 1497 \r\nQ 3034 2003 2786 2293 \r\nQ 2538 2584 2113 2584 \r\nz\r\nM 3366 4563 \r\nL 3366 3988 \r\nQ 3128 4100 2886 4159 \r\nQ 2644 4219 2406 4219 \r\nQ 1781 4219 1451 3797 \r\nQ 1122 3375 1075 2522 \r\nQ 1259 2794 1537 2939 \r\nQ 1816 3084 2150 3084 \r\nQ 2853 3084 3261 2657 \r\nQ 3669 2231 3669 1497 \r\nQ 3669 778 3244 343 \r\nQ 2819 -91 2113 -91 \r\nQ 1303 -91 875 529 \r\nQ 447 1150 447 2328 \r\nQ 447 3434 972 4092 \r\nQ 1497 4750 2381 4750 \r\nQ 2619 4750 2861 4703 \r\nQ 3103 4656 3366 4563 \r\nz\r\n\" id=\"DejaVuSans-36\" transform=\"scale(0.015625)\"/>\r\n       </defs>\r\n       <use xlink:href=\"#DejaVuSans-36\"/>\r\n       <use x=\"63.623047\" xlink:href=\"#DejaVuSans-30\"/>\r\n      </g>\r\n     </g>\r\n    </g>\r\n    <g id=\"xtick_8\">\r\n     <g id=\"line2d_8\">\r\n      <g>\r\n       <use style=\"stroke:#000000;stroke-width:0.8;\" x=\"281.411934\" xlink:href=\"#m9831c93629\" y=\"183.070588\"/>\r\n      </g>\r\n     </g>\r\n     <g id=\"text_8\">\r\n      <!-- 70 -->\r\n      <g transform=\"translate(275.049434 197.669026)scale(0.1 -0.1)\">\r\n       <defs>\r\n        <path d=\"M 525 4666 \r\nL 3525 4666 \r\nL 3525 4397 \r\nL 1831 0 \r\nL 1172 0 \r\nL 2766 4134 \r\nL 525 4134 \r\nL 525 4666 \r\nz\r\n\" id=\"DejaVuSans-37\" transform=\"scale(0.015625)\"/>\r\n       </defs>\r\n       <use xlink:href=\"#DejaVuSans-37\"/>\r\n       <use x=\"63.623047\" xlink:href=\"#DejaVuSans-30\"/>\r\n      </g>\r\n     </g>\r\n    </g>\r\n    <g id=\"xtick_9\">\r\n     <g id=\"line2d_9\">\r\n      <g>\r\n       <use style=\"stroke:#000000;stroke-width:0.8;\" x=\"313.283807\" xlink:href=\"#m9831c93629\" y=\"183.070588\"/>\r\n      </g>\r\n     </g>\r\n     <g id=\"text_9\">\r\n      <!-- 80 -->\r\n      <g transform=\"translate(306.921307 197.669026)scale(0.1 -0.1)\">\r\n       <defs>\r\n        <path d=\"M 2034 2216 \r\nQ 1584 2216 1326 1975 \r\nQ 1069 1734 1069 1313 \r\nQ 1069 891 1326 650 \r\nQ 1584 409 2034 409 \r\nQ 2484 409 2743 651 \r\nQ 3003 894 3003 1313 \r\nQ 3003 1734 2745 1975 \r\nQ 2488 2216 2034 2216 \r\nz\r\nM 1403 2484 \r\nQ 997 2584 770 2862 \r\nQ 544 3141 544 3541 \r\nQ 544 4100 942 4425 \r\nQ 1341 4750 2034 4750 \r\nQ 2731 4750 3128 4425 \r\nQ 3525 4100 3525 3541 \r\nQ 3525 3141 3298 2862 \r\nQ 3072 2584 2669 2484 \r\nQ 3125 2378 3379 2068 \r\nQ 3634 1759 3634 1313 \r\nQ 3634 634 3220 271 \r\nQ 2806 -91 2034 -91 \r\nQ 1263 -91 848 271 \r\nQ 434 634 434 1313 \r\nQ 434 1759 690 2068 \r\nQ 947 2378 1403 2484 \r\nz\r\nM 1172 3481 \r\nQ 1172 3119 1398 2916 \r\nQ 1625 2713 2034 2713 \r\nQ 2441 2713 2670 2916 \r\nQ 2900 3119 2900 3481 \r\nQ 2900 3844 2670 4047 \r\nQ 2441 4250 2034 4250 \r\nQ 1625 4250 1398 4047 \r\nQ 1172 3844 1172 3481 \r\nz\r\n\" id=\"DejaVuSans-38\" transform=\"scale(0.015625)\"/>\r\n       </defs>\r\n       <use xlink:href=\"#DejaVuSans-38\"/>\r\n       <use x=\"63.623047\" xlink:href=\"#DejaVuSans-30\"/>\r\n      </g>\r\n     </g>\r\n    </g>\r\n    <g id=\"text_10\">\r\n     <!-- Age -->\r\n     <g transform=\"translate(176.794531 211.347151)scale(0.1 -0.1)\">\r\n      <defs>\r\n       <path d=\"M 2188 4044 \r\nL 1331 1722 \r\nL 3047 1722 \r\nL 2188 4044 \r\nz\r\nM 1831 4666 \r\nL 2547 4666 \r\nL 4325 0 \r\nL 3669 0 \r\nL 3244 1197 \r\nL 1141 1197 \r\nL 716 0 \r\nL 50 0 \r\nL 1831 4666 \r\nz\r\n\" id=\"DejaVuSans-41\" transform=\"scale(0.015625)\"/>\r\n       <path d=\"M 2906 1791 \r\nQ 2906 2416 2648 2759 \r\nQ 2391 3103 1925 3103 \r\nQ 1463 3103 1205 2759 \r\nQ 947 2416 947 1791 \r\nQ 947 1169 1205 825 \r\nQ 1463 481 1925 481 \r\nQ 2391 481 2648 825 \r\nQ 2906 1169 2906 1791 \r\nz\r\nM 3481 434 \r\nQ 3481 -459 3084 -895 \r\nQ 2688 -1331 1869 -1331 \r\nQ 1566 -1331 1297 -1286 \r\nQ 1028 -1241 775 -1147 \r\nL 775 -588 \r\nQ 1028 -725 1275 -790 \r\nQ 1522 -856 1778 -856 \r\nQ 2344 -856 2625 -561 \r\nQ 2906 -266 2906 331 \r\nL 2906 616 \r\nQ 2728 306 2450 153 \r\nQ 2172 0 1784 0 \r\nQ 1141 0 747 490 \r\nQ 353 981 353 1791 \r\nQ 353 2603 747 3093 \r\nQ 1141 3584 1784 3584 \r\nQ 2172 3584 2450 3431 \r\nQ 2728 3278 2906 2969 \r\nL 2906 3500 \r\nL 3481 3500 \r\nL 3481 434 \r\nz\r\n\" id=\"DejaVuSans-67\" transform=\"scale(0.015625)\"/>\r\n       <path d=\"M 3597 1894 \r\nL 3597 1613 \r\nL 953 1613 \r\nQ 991 1019 1311 708 \r\nQ 1631 397 2203 397 \r\nQ 2534 397 2845 478 \r\nQ 3156 559 3463 722 \r\nL 3463 178 \r\nQ 3153 47 2828 -22 \r\nQ 2503 -91 2169 -91 \r\nQ 1331 -91 842 396 \r\nQ 353 884 353 1716 \r\nQ 353 2575 817 3079 \r\nQ 1281 3584 2069 3584 \r\nQ 2775 3584 3186 3129 \r\nQ 3597 2675 3597 1894 \r\nz\r\nM 3022 2063 \r\nQ 3016 2534 2758 2815 \r\nQ 2500 3097 2075 3097 \r\nQ 1594 3097 1305 2825 \r\nQ 1016 2553 972 2059 \r\nL 3022 2063 \r\nz\r\n\" id=\"DejaVuSans-65\" transform=\"scale(0.015625)\"/>\r\n      </defs>\r\n      <use xlink:href=\"#DejaVuSans-41\"/>\r\n      <use x=\"68.408203\" xlink:href=\"#DejaVuSans-67\"/>\r\n      <use x=\"131.884766\" xlink:href=\"#DejaVuSans-65\"/>\r\n     </g>\r\n    </g>\r\n   </g>\r\n   <g id=\"matplotlib.axis_2\">\r\n    <g id=\"ytick_1\">\r\n     <g id=\"line2d_10\">\r\n      <defs>\r\n       <path d=\"M 0 0 \r\nL -3.5 0 \r\n\" id=\"m63a24b6dd9\" style=\"stroke:#000000;stroke-width:0.8;\"/>\r\n      </defs>\r\n      <g>\r\n       <use style=\"stroke:#000000;stroke-width:0.8;\" x=\"46.965625\" xlink:href=\"#m63a24b6dd9\" y=\"175.076471\"/>\r\n      </g>\r\n     </g>\r\n     <g id=\"text_11\">\r\n      <!-- 0 -->\r\n      <g transform=\"translate(33.603125 178.875689)scale(0.1 -0.1)\">\r\n       <use xlink:href=\"#DejaVuSans-30\"/>\r\n      </g>\r\n     </g>\r\n    </g>\r\n    <g id=\"ytick_2\">\r\n     <g id=\"line2d_11\">\r\n      <g>\r\n       <use style=\"stroke:#000000;stroke-width:0.8;\" x=\"46.965625\" xlink:href=\"#m63a24b6dd9\" y=\"143.869514\"/>\r\n      </g>\r\n     </g>\r\n     <g id=\"text_12\">\r\n      <!-- 100 -->\r\n      <g transform=\"translate(20.878125 147.668732)scale(0.1 -0.1)\">\r\n       <use xlink:href=\"#DejaVuSans-31\"/>\r\n       <use x=\"63.623047\" xlink:href=\"#DejaVuSans-30\"/>\r\n       <use x=\"127.246094\" xlink:href=\"#DejaVuSans-30\"/>\r\n      </g>\r\n     </g>\r\n    </g>\r\n    <g id=\"ytick_3\">\r\n     <g id=\"line2d_12\">\r\n      <g>\r\n       <use style=\"stroke:#000000;stroke-width:0.8;\" x=\"46.965625\" xlink:href=\"#m63a24b6dd9\" y=\"112.662557\"/>\r\n      </g>\r\n     </g>\r\n     <g id=\"text_13\">\r\n      <!-- 200 -->\r\n      <g transform=\"translate(20.878125 116.461775)scale(0.1 -0.1)\">\r\n       <use xlink:href=\"#DejaVuSans-32\"/>\r\n       <use x=\"63.623047\" xlink:href=\"#DejaVuSans-30\"/>\r\n       <use x=\"127.246094\" xlink:href=\"#DejaVuSans-30\"/>\r\n      </g>\r\n     </g>\r\n    </g>\r\n    <g id=\"ytick_4\">\r\n     <g id=\"line2d_13\">\r\n      <g>\r\n       <use style=\"stroke:#000000;stroke-width:0.8;\" x=\"46.965625\" xlink:href=\"#m63a24b6dd9\" y=\"81.4556\"/>\r\n      </g>\r\n     </g>\r\n     <g id=\"text_14\">\r\n      <!-- 300 -->\r\n      <g transform=\"translate(20.878125 85.254818)scale(0.1 -0.1)\">\r\n       <use xlink:href=\"#DejaVuSans-33\"/>\r\n       <use x=\"63.623047\" xlink:href=\"#DejaVuSans-30\"/>\r\n       <use x=\"127.246094\" xlink:href=\"#DejaVuSans-30\"/>\r\n      </g>\r\n     </g>\r\n    </g>\r\n    <g id=\"ytick_5\">\r\n     <g id=\"line2d_14\">\r\n      <g>\r\n       <use style=\"stroke:#000000;stroke-width:0.8;\" x=\"46.965625\" xlink:href=\"#m63a24b6dd9\" y=\"50.248643\"/>\r\n      </g>\r\n     </g>\r\n     <g id=\"text_15\">\r\n      <!-- 400 -->\r\n      <g transform=\"translate(20.878125 54.047861)scale(0.1 -0.1)\">\r\n       <use xlink:href=\"#DejaVuSans-34\"/>\r\n       <use x=\"63.623047\" xlink:href=\"#DejaVuSans-30\"/>\r\n       <use x=\"127.246094\" xlink:href=\"#DejaVuSans-30\"/>\r\n      </g>\r\n     </g>\r\n    </g>\r\n    <g id=\"ytick_6\">\r\n     <g id=\"line2d_15\">\r\n      <g>\r\n       <use style=\"stroke:#000000;stroke-width:0.8;\" x=\"46.965625\" xlink:href=\"#m63a24b6dd9\" y=\"19.041686\"/>\r\n      </g>\r\n     </g>\r\n     <g id=\"text_16\">\r\n      <!-- 500 -->\r\n      <g transform=\"translate(20.878125 22.840905)scale(0.1 -0.1)\">\r\n       <use xlink:href=\"#DejaVuSans-35\"/>\r\n       <use x=\"63.623047\" xlink:href=\"#DejaVuSans-30\"/>\r\n       <use x=\"127.246094\" xlink:href=\"#DejaVuSans-30\"/>\r\n      </g>\r\n     </g>\r\n    </g>\r\n    <g id=\"text_17\">\r\n     <!-- Fare -->\r\n     <g transform=\"translate(14.798438 105.638419)rotate(-90)scale(0.1 -0.1)\">\r\n      <defs>\r\n       <path d=\"M 628 4666 \r\nL 3309 4666 \r\nL 3309 4134 \r\nL 1259 4134 \r\nL 1259 2759 \r\nL 3109 2759 \r\nL 3109 2228 \r\nL 1259 2228 \r\nL 1259 0 \r\nL 628 0 \r\nL 628 4666 \r\nz\r\n\" id=\"DejaVuSans-46\" transform=\"scale(0.015625)\"/>\r\n       <path d=\"M 2194 1759 \r\nQ 1497 1759 1228 1600 \r\nQ 959 1441 959 1056 \r\nQ 959 750 1161 570 \r\nQ 1363 391 1709 391 \r\nQ 2188 391 2477 730 \r\nQ 2766 1069 2766 1631 \r\nL 2766 1759 \r\nL 2194 1759 \r\nz\r\nM 3341 1997 \r\nL 3341 0 \r\nL 2766 0 \r\nL 2766 531 \r\nQ 2569 213 2275 61 \r\nQ 1981 -91 1556 -91 \r\nQ 1019 -91 701 211 \r\nQ 384 513 384 1019 \r\nQ 384 1609 779 1909 \r\nQ 1175 2209 1959 2209 \r\nL 2766 2209 \r\nL 2766 2266 \r\nQ 2766 2663 2505 2880 \r\nQ 2244 3097 1772 3097 \r\nQ 1472 3097 1187 3025 \r\nQ 903 2953 641 2809 \r\nL 641 3341 \r\nQ 956 3463 1253 3523 \r\nQ 1550 3584 1831 3584 \r\nQ 2591 3584 2966 3190 \r\nQ 3341 2797 3341 1997 \r\nz\r\n\" id=\"DejaVuSans-61\" transform=\"scale(0.015625)\"/>\r\n       <path d=\"M 2631 2963 \r\nQ 2534 3019 2420 3045 \r\nQ 2306 3072 2169 3072 \r\nQ 1681 3072 1420 2755 \r\nQ 1159 2438 1159 1844 \r\nL 1159 0 \r\nL 581 0 \r\nL 581 3500 \r\nL 1159 3500 \r\nL 1159 2956 \r\nQ 1341 3275 1631 3429 \r\nQ 1922 3584 2338 3584 \r\nQ 2397 3584 2469 3576 \r\nQ 2541 3569 2628 3553 \r\nL 2631 2963 \r\nz\r\n\" id=\"DejaVuSans-72\" transform=\"scale(0.015625)\"/>\r\n      </defs>\r\n      <use xlink:href=\"#DejaVuSans-46\"/>\r\n      <use x=\"48.394531\" xlink:href=\"#DejaVuSans-61\"/>\r\n      <use x=\"109.673828\" xlink:href=\"#DejaVuSans-72\"/>\r\n      <use x=\"148.537109\" xlink:href=\"#DejaVuSans-65\"/>\r\n     </g>\r\n    </g>\r\n   </g>\r\n   <g id=\"patch_3\">\r\n    <path d=\"M 46.965625 183.070588 \r\nL 46.965625 7.2 \r\n\" style=\"fill:none;stroke:#000000;stroke-linecap:square;stroke-linejoin:miter;stroke-width:0.8;\"/>\r\n   </g>\r\n   <g id=\"patch_4\">\r\n    <path d=\"M 325.965625 183.070588 \r\nL 325.965625 7.2 \r\n\" style=\"fill:none;stroke:#000000;stroke-linecap:square;stroke-linejoin:miter;stroke-width:0.8;\"/>\r\n   </g>\r\n   <g id=\"patch_5\">\r\n    <path d=\"M 46.965625 183.070588 \r\nL 325.965625 183.070588 \r\n\" style=\"fill:none;stroke:#000000;stroke-linecap:square;stroke-linejoin:miter;stroke-width:0.8;\"/>\r\n   </g>\r\n   <g id=\"patch_6\">\r\n    <path d=\"M 46.965625 7.2 \r\nL 325.965625 7.2 \r\n\" style=\"fill:none;stroke:#000000;stroke-linecap:square;stroke-linejoin:miter;stroke-width:0.8;\"/>\r\n   </g>\r\n  </g>\r\n  <g id=\"axes_2\">\r\n   <g id=\"patch_7\">\r\n    <path d=\"M 46.965625 394.115294 \r\nL 325.965625 394.115294 \r\nL 325.965625 218.244706 \r\nL 46.965625 218.244706 \r\nz\r\n\" style=\"fill:#ffffff;\"/>\r\n   </g>\r\n   <g id=\"patch_8\">\r\n    <path clip-path=\"url(#p00c94456fa)\" d=\"M 128.426945 235.831765 \r\nL 128.426945 376.528235 \r\nL 169.860379 376.528235 \r\nL 169.860379 235.831765 \r\nL 128.426945 235.831765 \r\nz\r\n\" style=\"fill:#3274a1;stroke:#3f3f3f;stroke-linejoin:miter;stroke-width:1.5;\"/>\r\n   </g>\r\n   <g id=\"matplotlib.axis_3\">\r\n    <g id=\"xtick_10\">\r\n     <g id=\"line2d_16\">\r\n      <g>\r\n       <use style=\"stroke:#000000;stroke-width:0.8;\" x=\"58.308825\" xlink:href=\"#m9831c93629\" y=\"394.115294\"/>\r\n      </g>\r\n     </g>\r\n     <g id=\"text_18\">\r\n      <!-- 0 -->\r\n      <g transform=\"translate(55.127575 408.713732)scale(0.1 -0.1)\">\r\n       <use xlink:href=\"#DejaVuSans-30\"/>\r\n      </g>\r\n     </g>\r\n    </g>\r\n    <g id=\"xtick_11\">\r\n     <g id=\"line2d_17\">\r\n      <g>\r\n       <use style=\"stroke:#000000;stroke-width:0.8;\" x=\"90.180697\" xlink:href=\"#m9831c93629\" y=\"394.115294\"/>\r\n      </g>\r\n     </g>\r\n     <g id=\"text_19\">\r\n      <!-- 10 -->\r\n      <g transform=\"translate(83.818197 408.713732)scale(0.1 -0.1)\">\r\n       <use xlink:href=\"#DejaVuSans-31\"/>\r\n       <use x=\"63.623047\" xlink:href=\"#DejaVuSans-30\"/>\r\n      </g>\r\n     </g>\r\n    </g>\r\n    <g id=\"xtick_12\">\r\n     <g id=\"line2d_18\">\r\n      <g>\r\n       <use style=\"stroke:#000000;stroke-width:0.8;\" x=\"122.05257\" xlink:href=\"#m9831c93629\" y=\"394.115294\"/>\r\n      </g>\r\n     </g>\r\n     <g id=\"text_20\">\r\n      <!-- 20 -->\r\n      <g transform=\"translate(115.69007 408.713732)scale(0.1 -0.1)\">\r\n       <use xlink:href=\"#DejaVuSans-32\"/>\r\n       <use x=\"63.623047\" xlink:href=\"#DejaVuSans-30\"/>\r\n      </g>\r\n     </g>\r\n    </g>\r\n    <g id=\"xtick_13\">\r\n     <g id=\"line2d_19\">\r\n      <g>\r\n       <use style=\"stroke:#000000;stroke-width:0.8;\" x=\"153.924443\" xlink:href=\"#m9831c93629\" y=\"394.115294\"/>\r\n      </g>\r\n     </g>\r\n     <g id=\"text_21\">\r\n      <!-- 30 -->\r\n      <g transform=\"translate(147.561943 408.713732)scale(0.1 -0.1)\">\r\n       <use xlink:href=\"#DejaVuSans-33\"/>\r\n       <use x=\"63.623047\" xlink:href=\"#DejaVuSans-30\"/>\r\n      </g>\r\n     </g>\r\n    </g>\r\n    <g id=\"xtick_14\">\r\n     <g id=\"line2d_20\">\r\n      <g>\r\n       <use style=\"stroke:#000000;stroke-width:0.8;\" x=\"185.796316\" xlink:href=\"#m9831c93629\" y=\"394.115294\"/>\r\n      </g>\r\n     </g>\r\n     <g id=\"text_22\">\r\n      <!-- 40 -->\r\n      <g transform=\"translate(179.433816 408.713732)scale(0.1 -0.1)\">\r\n       <use xlink:href=\"#DejaVuSans-34\"/>\r\n       <use x=\"63.623047\" xlink:href=\"#DejaVuSans-30\"/>\r\n      </g>\r\n     </g>\r\n    </g>\r\n    <g id=\"xtick_15\">\r\n     <g id=\"line2d_21\">\r\n      <g>\r\n       <use style=\"stroke:#000000;stroke-width:0.8;\" x=\"217.668188\" xlink:href=\"#m9831c93629\" y=\"394.115294\"/>\r\n      </g>\r\n     </g>\r\n     <g id=\"text_23\">\r\n      <!-- 50 -->\r\n      <g transform=\"translate(211.305688 408.713732)scale(0.1 -0.1)\">\r\n       <use xlink:href=\"#DejaVuSans-35\"/>\r\n       <use x=\"63.623047\" xlink:href=\"#DejaVuSans-30\"/>\r\n      </g>\r\n     </g>\r\n    </g>\r\n    <g id=\"xtick_16\">\r\n     <g id=\"line2d_22\">\r\n      <g>\r\n       <use style=\"stroke:#000000;stroke-width:0.8;\" x=\"249.540061\" xlink:href=\"#m9831c93629\" y=\"394.115294\"/>\r\n      </g>\r\n     </g>\r\n     <g id=\"text_24\">\r\n      <!-- 60 -->\r\n      <g transform=\"translate(243.177561 408.713732)scale(0.1 -0.1)\">\r\n       <use xlink:href=\"#DejaVuSans-36\"/>\r\n       <use x=\"63.623047\" xlink:href=\"#DejaVuSans-30\"/>\r\n      </g>\r\n     </g>\r\n    </g>\r\n    <g id=\"xtick_17\">\r\n     <g id=\"line2d_23\">\r\n      <g>\r\n       <use style=\"stroke:#000000;stroke-width:0.8;\" x=\"281.411934\" xlink:href=\"#m9831c93629\" y=\"394.115294\"/>\r\n      </g>\r\n     </g>\r\n     <g id=\"text_25\">\r\n      <!-- 70 -->\r\n      <g transform=\"translate(275.049434 408.713732)scale(0.1 -0.1)\">\r\n       <use xlink:href=\"#DejaVuSans-37\"/>\r\n       <use x=\"63.623047\" xlink:href=\"#DejaVuSans-30\"/>\r\n      </g>\r\n     </g>\r\n    </g>\r\n    <g id=\"xtick_18\">\r\n     <g id=\"line2d_24\">\r\n      <g>\r\n       <use style=\"stroke:#000000;stroke-width:0.8;\" x=\"313.283807\" xlink:href=\"#m9831c93629\" y=\"394.115294\"/>\r\n      </g>\r\n     </g>\r\n     <g id=\"text_26\">\r\n      <!-- 80 -->\r\n      <g transform=\"translate(306.921307 408.713732)scale(0.1 -0.1)\">\r\n       <use xlink:href=\"#DejaVuSans-38\"/>\r\n       <use x=\"63.623047\" xlink:href=\"#DejaVuSans-30\"/>\r\n      </g>\r\n     </g>\r\n    </g>\r\n    <g id=\"text_27\">\r\n     <!-- Age -->\r\n     <g transform=\"translate(176.794531 422.391857)scale(0.1 -0.1)\">\r\n      <use xlink:href=\"#DejaVuSans-41\"/>\r\n      <use x=\"68.408203\" xlink:href=\"#DejaVuSans-67\"/>\r\n      <use x=\"131.884766\" xlink:href=\"#DejaVuSans-65\"/>\r\n     </g>\r\n    </g>\r\n   </g>\r\n   <g id=\"matplotlib.axis_4\">\r\n    <g id=\"ytick_7\">\r\n     <g id=\"line2d_25\">\r\n      <g>\r\n       <use style=\"stroke:#000000;stroke-width:0.8;\" x=\"46.965625\" xlink:href=\"#m63a24b6dd9\" y=\"306.18\"/>\r\n      </g>\r\n     </g>\r\n    </g>\r\n   </g>\r\n   <g id=\"line2d_26\">\r\n    <path clip-path=\"url(#p00c94456fa)\" d=\"M 128.426945 306.18 \r\nL 67.870386 306.18 \r\n\" style=\"fill:none;stroke:#3f3f3f;stroke-linecap:square;stroke-width:1.5;\"/>\r\n   </g>\r\n   <g id=\"line2d_27\">\r\n    <path clip-path=\"url(#p00c94456fa)\" d=\"M 169.860379 306.18 \r\nL 230.416938 306.18 \r\n\" style=\"fill:none;stroke:#3f3f3f;stroke-linecap:square;stroke-width:1.5;\"/>\r\n   </g>\r\n   <g id=\"line2d_28\">\r\n    <path clip-path=\"url(#p00c94456fa)\" d=\"M 67.870386 271.005882 \r\nL 67.870386 341.354118 \r\n\" style=\"fill:none;stroke:#3f3f3f;stroke-linecap:square;stroke-width:1.5;\"/>\r\n   </g>\r\n   <g id=\"line2d_29\">\r\n    <path clip-path=\"url(#p00c94456fa)\" d=\"M 230.416938 271.005882 \r\nL 230.416938 341.354118 \r\n\" style=\"fill:none;stroke:#3f3f3f;stroke-linecap:square;stroke-width:1.5;\"/>\r\n   </g>\r\n   <g id=\"line2d_30\">\r\n    <defs>\r\n     <path d=\"M 0 3.535534 \r\nL 2.12132 0 \r\nL 0 -3.535534 \r\nL -2.12132 0 \r\nz\r\n\" id=\"ma0f976bd60\" style=\"stroke:#3f3f3f;stroke-linejoin:miter;\"/>\r\n    </defs>\r\n    <g clip-path=\"url(#p00c94456fa)\">\r\n     <use style=\"fill:#3f3f3f;stroke:#3f3f3f;stroke-linejoin:miter;\" x=\"64.683199\" xlink:href=\"#ma0f976bd60\" y=\"306.18\"/>\r\n     <use style=\"fill:#3f3f3f;stroke:#3f3f3f;stroke-linejoin:miter;\" x=\"64.683199\" xlink:href=\"#ma0f976bd60\" y=\"306.18\"/>\r\n     <use style=\"fill:#3f3f3f;stroke:#3f3f3f;stroke-linejoin:miter;\" x=\"60.95419\" xlink:href=\"#ma0f976bd60\" y=\"306.18\"/>\r\n     <use style=\"fill:#3f3f3f;stroke:#3f3f3f;stroke-linejoin:miter;\" x=\"64.683199\" xlink:href=\"#ma0f976bd60\" y=\"306.18\"/>\r\n     <use style=\"fill:#3f3f3f;stroke:#3f3f3f;stroke-linejoin:miter;\" x=\"61.496012\" xlink:href=\"#ma0f976bd60\" y=\"306.18\"/>\r\n     <use style=\"fill:#3f3f3f;stroke:#3f3f3f;stroke-linejoin:miter;\" x=\"61.496012\" xlink:href=\"#ma0f976bd60\" y=\"306.18\"/>\r\n     <use style=\"fill:#3f3f3f;stroke:#3f3f3f;stroke-linejoin:miter;\" x=\"61.496012\" xlink:href=\"#ma0f976bd60\" y=\"306.18\"/>\r\n     <use style=\"fill:#3f3f3f;stroke:#3f3f3f;stroke-linejoin:miter;\" x=\"64.683199\" xlink:href=\"#ma0f976bd60\" y=\"306.18\"/>\r\n     <use style=\"fill:#3f3f3f;stroke:#3f3f3f;stroke-linejoin:miter;\" x=\"64.683199\" xlink:href=\"#ma0f976bd60\" y=\"306.18\"/>\r\n     <use style=\"fill:#3f3f3f;stroke:#3f3f3f;stroke-linejoin:miter;\" x=\"61.241037\" xlink:href=\"#ma0f976bd60\" y=\"306.18\"/>\r\n     <use style=\"fill:#3f3f3f;stroke:#3f3f3f;stroke-linejoin:miter;\" x=\"64.683199\" xlink:href=\"#ma0f976bd60\" y=\"306.18\"/>\r\n     <use style=\"fill:#3f3f3f;stroke:#3f3f3f;stroke-linejoin:miter;\" x=\"61.496012\" xlink:href=\"#ma0f976bd60\" y=\"306.18\"/>\r\n     <use style=\"fill:#3f3f3f;stroke:#3f3f3f;stroke-linejoin:miter;\" x=\"61.496012\" xlink:href=\"#ma0f976bd60\" y=\"306.18\"/>\r\n     <use style=\"fill:#3f3f3f;stroke:#3f3f3f;stroke-linejoin:miter;\" x=\"60.699215\" xlink:href=\"#ma0f976bd60\" y=\"306.18\"/>\r\n     <use style=\"fill:#3f3f3f;stroke:#3f3f3f;stroke-linejoin:miter;\" x=\"64.683199\" xlink:href=\"#ma0f976bd60\" y=\"306.18\"/>\r\n     <use style=\"fill:#3f3f3f;stroke:#3f3f3f;stroke-linejoin:miter;\" x=\"64.683199\" xlink:href=\"#ma0f976bd60\" y=\"306.18\"/>\r\n     <use style=\"fill:#3f3f3f;stroke:#3f3f3f;stroke-linejoin:miter;\" x=\"64.683199\" xlink:href=\"#ma0f976bd60\" y=\"306.18\"/>\r\n     <use style=\"fill:#3f3f3f;stroke:#3f3f3f;stroke-linejoin:miter;\" x=\"60.699215\" xlink:href=\"#ma0f976bd60\" y=\"306.18\"/>\r\n     <use style=\"fill:#3f3f3f;stroke:#3f3f3f;stroke-linejoin:miter;\" x=\"60.44424\" xlink:href=\"#ma0f976bd60\" y=\"306.18\"/>\r\n     <use style=\"fill:#3f3f3f;stroke:#3f3f3f;stroke-linejoin:miter;\" x=\"61.496012\" xlink:href=\"#ma0f976bd60\" y=\"306.18\"/>\r\n     <use style=\"fill:#3f3f3f;stroke:#3f3f3f;stroke-linejoin:miter;\" x=\"59.647443\" xlink:href=\"#ma0f976bd60\" y=\"306.18\"/>\r\n     <use style=\"fill:#3f3f3f;stroke:#3f3f3f;stroke-linejoin:miter;\" x=\"64.683199\" xlink:href=\"#ma0f976bd60\" y=\"306.18\"/>\r\n     <use style=\"fill:#3f3f3f;stroke:#3f3f3f;stroke-linejoin:miter;\" x=\"61.496012\" xlink:href=\"#ma0f976bd60\" y=\"306.18\"/>\r\n     <use style=\"fill:#3f3f3f;stroke:#3f3f3f;stroke-linejoin:miter;\" x=\"60.95419\" xlink:href=\"#ma0f976bd60\" y=\"306.18\"/>\r\n     <use style=\"fill:#3f3f3f;stroke:#3f3f3f;stroke-linejoin:miter;\" x=\"243.165687\" xlink:href=\"#ma0f976bd60\" y=\"306.18\"/>\r\n     <use style=\"fill:#3f3f3f;stroke:#3f3f3f;stroke-linejoin:miter;\" x=\"233.604125\" xlink:href=\"#ma0f976bd60\" y=\"306.18\"/>\r\n     <use style=\"fill:#3f3f3f;stroke:#3f3f3f;stroke-linejoin:miter;\" x=\"268.663185\" xlink:href=\"#ma0f976bd60\" y=\"306.18\"/>\r\n     <use style=\"fill:#3f3f3f;stroke:#3f3f3f;stroke-linejoin:miter;\" x=\"265.475998\" xlink:href=\"#ma0f976bd60\" y=\"306.18\"/>\r\n     <use style=\"fill:#3f3f3f;stroke:#3f3f3f;stroke-linejoin:miter;\" x=\"246.352874\" xlink:href=\"#ma0f976bd60\" y=\"306.18\"/>\r\n     <use style=\"fill:#3f3f3f;stroke:#3f3f3f;stroke-linejoin:miter;\" x=\"284.599121\" xlink:href=\"#ma0f976bd60\" y=\"306.18\"/>\r\n     <use style=\"fill:#3f3f3f;stroke:#3f3f3f;stroke-linejoin:miter;\" x=\"283.005528\" xlink:href=\"#ma0f976bd60\" y=\"306.18\"/>\r\n     <use style=\"fill:#3f3f3f;stroke:#3f3f3f;stroke-linejoin:miter;\" x=\"235.197718\" xlink:href=\"#ma0f976bd60\" y=\"306.18\"/>\r\n     <use style=\"fill:#3f3f3f;stroke:#3f3f3f;stroke-linejoin:miter;\" x=\"252.727249\" xlink:href=\"#ma0f976bd60\" y=\"306.18\"/>\r\n     <use style=\"fill:#3f3f3f;stroke:#3f3f3f;stroke-linejoin:miter;\" x=\"236.791312\" xlink:href=\"#ma0f976bd60\" y=\"306.18\"/>\r\n     <use style=\"fill:#3f3f3f;stroke:#3f3f3f;stroke-linejoin:miter;\" x=\"243.165687\" xlink:href=\"#ma0f976bd60\" y=\"306.18\"/>\r\n     <use style=\"fill:#3f3f3f;stroke:#3f3f3f;stroke-linejoin:miter;\" x=\"246.352874\" xlink:href=\"#ma0f976bd60\" y=\"306.18\"/>\r\n     <use style=\"fill:#3f3f3f;stroke:#3f3f3f;stroke-linejoin:miter;\" x=\"255.914436\" xlink:href=\"#ma0f976bd60\" y=\"306.18\"/>\r\n     <use style=\"fill:#3f3f3f;stroke:#3f3f3f;stroke-linejoin:miter;\" x=\"243.165687\" xlink:href=\"#ma0f976bd60\" y=\"306.18\"/>\r\n     <use style=\"fill:#3f3f3f;stroke:#3f3f3f;stroke-linejoin:miter;\" x=\"259.101623\" xlink:href=\"#ma0f976bd60\" y=\"306.18\"/>\r\n     <use style=\"fill:#3f3f3f;stroke:#3f3f3f;stroke-linejoin:miter;\" x=\"265.475998\" xlink:href=\"#ma0f976bd60\" y=\"306.18\"/>\r\n     <use style=\"fill:#3f3f3f;stroke:#3f3f3f;stroke-linejoin:miter;\" x=\"252.727249\" xlink:href=\"#ma0f976bd60\" y=\"306.18\"/>\r\n     <use style=\"fill:#3f3f3f;stroke:#3f3f3f;stroke-linejoin:miter;\" x=\"249.540061\" xlink:href=\"#ma0f976bd60\" y=\"306.18\"/>\r\n     <use style=\"fill:#3f3f3f;stroke:#3f3f3f;stroke-linejoin:miter;\" x=\"262.28881\" xlink:href=\"#ma0f976bd60\" y=\"306.18\"/>\r\n     <use style=\"fill:#3f3f3f;stroke:#3f3f3f;stroke-linejoin:miter;\" x=\"265.475998\" xlink:href=\"#ma0f976bd60\" y=\"306.18\"/>\r\n     <use style=\"fill:#3f3f3f;stroke:#3f3f3f;stroke-linejoin:miter;\" x=\"236.791312\" xlink:href=\"#ma0f976bd60\" y=\"306.18\"/>\r\n     <use style=\"fill:#3f3f3f;stroke:#3f3f3f;stroke-linejoin:miter;\" x=\"259.101623\" xlink:href=\"#ma0f976bd60\" y=\"306.18\"/>\r\n     <use style=\"fill:#3f3f3f;stroke:#3f3f3f;stroke-linejoin:miter;\" x=\"243.165687\" xlink:href=\"#ma0f976bd60\" y=\"306.18\"/>\r\n     <use style=\"fill:#3f3f3f;stroke:#3f3f3f;stroke-linejoin:miter;\" x=\"233.604125\" xlink:href=\"#ma0f976bd60\" y=\"306.18\"/>\r\n     <use style=\"fill:#3f3f3f;stroke:#3f3f3f;stroke-linejoin:miter;\" x=\"284.599121\" xlink:href=\"#ma0f976bd60\" y=\"306.18\"/>\r\n     <use style=\"fill:#3f3f3f;stroke:#3f3f3f;stroke-linejoin:miter;\" x=\"262.28881\" xlink:href=\"#ma0f976bd60\" y=\"306.18\"/>\r\n     <use style=\"fill:#3f3f3f;stroke:#3f3f3f;stroke-linejoin:miter;\" x=\"255.914436\" xlink:href=\"#ma0f976bd60\" y=\"306.18\"/>\r\n     <use style=\"fill:#3f3f3f;stroke:#3f3f3f;stroke-linejoin:miter;\" x=\"255.914436\" xlink:href=\"#ma0f976bd60\" y=\"306.18\"/>\r\n     <use style=\"fill:#3f3f3f;stroke:#3f3f3f;stroke-linejoin:miter;\" x=\"249.540061\" xlink:href=\"#ma0f976bd60\" y=\"306.18\"/>\r\n     <use style=\"fill:#3f3f3f;stroke:#3f3f3f;stroke-linejoin:miter;\" x=\"252.727249\" xlink:href=\"#ma0f976bd60\" y=\"306.18\"/>\r\n     <use style=\"fill:#3f3f3f;stroke:#3f3f3f;stroke-linejoin:miter;\" x=\"239.978499\" xlink:href=\"#ma0f976bd60\" y=\"306.18\"/>\r\n     <use style=\"fill:#3f3f3f;stroke:#3f3f3f;stroke-linejoin:miter;\" x=\"313.283807\" xlink:href=\"#ma0f976bd60\" y=\"306.18\"/>\r\n     <use style=\"fill:#3f3f3f;stroke:#3f3f3f;stroke-linejoin:miter;\" x=\"236.791312\" xlink:href=\"#ma0f976bd60\" y=\"306.18\"/>\r\n     <use style=\"fill:#3f3f3f;stroke:#3f3f3f;stroke-linejoin:miter;\" x=\"243.165687\" xlink:href=\"#ma0f976bd60\" y=\"306.18\"/>\r\n     <use style=\"fill:#3f3f3f;stroke:#3f3f3f;stroke-linejoin:miter;\" x=\"281.411934\" xlink:href=\"#ma0f976bd60\" y=\"306.18\"/>\r\n     <use style=\"fill:#3f3f3f;stroke:#3f3f3f;stroke-linejoin:miter;\" x=\"249.540061\" xlink:href=\"#ma0f976bd60\" y=\"306.18\"/>\r\n     <use style=\"fill:#3f3f3f;stroke:#3f3f3f;stroke-linejoin:miter;\" x=\"249.540061\" xlink:href=\"#ma0f976bd60\" y=\"306.18\"/>\r\n     <use style=\"fill:#3f3f3f;stroke:#3f3f3f;stroke-linejoin:miter;\" x=\"281.411934\" xlink:href=\"#ma0f976bd60\" y=\"306.18\"/>\r\n     <use style=\"fill:#3f3f3f;stroke:#3f3f3f;stroke-linejoin:miter;\" x=\"239.978499\" xlink:href=\"#ma0f976bd60\" y=\"306.18\"/>\r\n     <use style=\"fill:#3f3f3f;stroke:#3f3f3f;stroke-linejoin:miter;\" x=\"255.914436\" xlink:href=\"#ma0f976bd60\" y=\"306.18\"/>\r\n     <use style=\"fill:#3f3f3f;stroke:#3f3f3f;stroke-linejoin:miter;\" x=\"294.160683\" xlink:href=\"#ma0f976bd60\" y=\"306.18\"/>\r\n     <use style=\"fill:#3f3f3f;stroke:#3f3f3f;stroke-linejoin:miter;\" x=\"236.791312\" xlink:href=\"#ma0f976bd60\" y=\"306.18\"/>\r\n    </g>\r\n   </g>\r\n   <g id=\"line2d_31\">\r\n    <path clip-path=\"url(#p00c94456fa)\" d=\"M 152.965474 235.831765 \r\nL 152.965474 376.528235 \r\n\" style=\"fill:none;stroke:#3f3f3f;stroke-linecap:square;stroke-width:1.5;\"/>\r\n   </g>\r\n   <g id=\"patch_9\">\r\n    <path d=\"M 46.965625 394.115294 \r\nL 46.965625 218.244706 \r\n\" style=\"fill:none;stroke:#000000;stroke-linecap:square;stroke-linejoin:miter;stroke-width:0.8;\"/>\r\n   </g>\r\n   <g id=\"patch_10\">\r\n    <path d=\"M 325.965625 394.115294 \r\nL 325.965625 218.244706 \r\n\" style=\"fill:none;stroke:#000000;stroke-linecap:square;stroke-linejoin:miter;stroke-width:0.8;\"/>\r\n   </g>\r\n   <g id=\"patch_11\">\r\n    <path d=\"M 46.965625 394.115294 \r\nL 325.965625 394.115294 \r\n\" style=\"fill:none;stroke:#000000;stroke-linecap:square;stroke-linejoin:miter;stroke-width:0.8;\"/>\r\n   </g>\r\n   <g id=\"patch_12\">\r\n    <path d=\"M 46.965625 218.244706 \r\nL 325.965625 218.244706 \r\n\" style=\"fill:none;stroke:#000000;stroke-linecap:square;stroke-linejoin:miter;stroke-width:0.8;\"/>\r\n   </g>\r\n  </g>\r\n  <g id=\"axes_3\">\r\n   <g id=\"patch_13\">\r\n    <path d=\"M 46.965625 605.16 \r\nL 325.965625 605.16 \r\nL 325.965625 429.289412 \r\nL 46.965625 429.289412 \r\nz\r\n\" style=\"fill:#ffffff;\"/>\r\n   </g>\r\n   <g id=\"patch_14\">\r\n    <path clip-path=\"url(#p6d0ab8d312)\" d=\"M 63.563607 446.876471 \r\nL 63.563607 587.572941 \r\nL 74.994465 587.572941 \r\nL 74.994465 446.876471 \r\nL 63.563607 446.876471 \r\nz\r\n\" style=\"fill:#3274a1;stroke:#3f3f3f;stroke-linejoin:miter;stroke-width:1.5;\"/>\r\n   </g>\r\n   <g id=\"matplotlib.axis_5\">\r\n    <g id=\"xtick_19\">\r\n     <g id=\"line2d_32\">\r\n      <g>\r\n       <use style=\"stroke:#000000;stroke-width:0.8;\" x=\"59.647443\" xlink:href=\"#m9831c93629\" y=\"605.16\"/>\r\n      </g>\r\n     </g>\r\n     <g id=\"text_28\">\r\n      <!-- 0 -->\r\n      <g transform=\"translate(56.466193 619.758437)scale(0.1 -0.1)\">\r\n       <use xlink:href=\"#DejaVuSans-30\"/>\r\n      </g>\r\n     </g>\r\n    </g>\r\n    <g id=\"xtick_20\">\r\n     <g id=\"line2d_33\">\r\n      <g>\r\n       <use style=\"stroke:#000000;stroke-width:0.8;\" x=\"109.153964\" xlink:href=\"#m9831c93629\" y=\"605.16\"/>\r\n      </g>\r\n     </g>\r\n     <g id=\"text_29\">\r\n      <!-- 100 -->\r\n      <g transform=\"translate(99.610214 619.758437)scale(0.1 -0.1)\">\r\n       <use xlink:href=\"#DejaVuSans-31\"/>\r\n       <use x=\"63.623047\" xlink:href=\"#DejaVuSans-30\"/>\r\n       <use x=\"127.246094\" xlink:href=\"#DejaVuSans-30\"/>\r\n      </g>\r\n     </g>\r\n    </g>\r\n    <g id=\"xtick_21\">\r\n     <g id=\"line2d_34\">\r\n      <g>\r\n       <use style=\"stroke:#000000;stroke-width:0.8;\" x=\"158.660485\" xlink:href=\"#m9831c93629\" y=\"605.16\"/>\r\n      </g>\r\n     </g>\r\n     <g id=\"text_30\">\r\n      <!-- 200 -->\r\n      <g transform=\"translate(149.116735 619.758437)scale(0.1 -0.1)\">\r\n       <use xlink:href=\"#DejaVuSans-32\"/>\r\n       <use x=\"63.623047\" xlink:href=\"#DejaVuSans-30\"/>\r\n       <use x=\"127.246094\" xlink:href=\"#DejaVuSans-30\"/>\r\n      </g>\r\n     </g>\r\n    </g>\r\n    <g id=\"xtick_22\">\r\n     <g id=\"line2d_35\">\r\n      <g>\r\n       <use style=\"stroke:#000000;stroke-width:0.8;\" x=\"208.167007\" xlink:href=\"#m9831c93629\" y=\"605.16\"/>\r\n      </g>\r\n     </g>\r\n     <g id=\"text_31\">\r\n      <!-- 300 -->\r\n      <g transform=\"translate(198.623257 619.758437)scale(0.1 -0.1)\">\r\n       <use xlink:href=\"#DejaVuSans-33\"/>\r\n       <use x=\"63.623047\" xlink:href=\"#DejaVuSans-30\"/>\r\n       <use x=\"127.246094\" xlink:href=\"#DejaVuSans-30\"/>\r\n      </g>\r\n     </g>\r\n    </g>\r\n    <g id=\"xtick_23\">\r\n     <g id=\"line2d_36\">\r\n      <g>\r\n       <use style=\"stroke:#000000;stroke-width:0.8;\" x=\"257.673528\" xlink:href=\"#m9831c93629\" y=\"605.16\"/>\r\n      </g>\r\n     </g>\r\n     <g id=\"text_32\">\r\n      <!-- 400 -->\r\n      <g transform=\"translate(248.129778 619.758437)scale(0.1 -0.1)\">\r\n       <use xlink:href=\"#DejaVuSans-34\"/>\r\n       <use x=\"63.623047\" xlink:href=\"#DejaVuSans-30\"/>\r\n       <use x=\"127.246094\" xlink:href=\"#DejaVuSans-30\"/>\r\n      </g>\r\n     </g>\r\n    </g>\r\n    <g id=\"xtick_24\">\r\n     <g id=\"line2d_37\">\r\n      <g>\r\n       <use style=\"stroke:#000000;stroke-width:0.8;\" x=\"307.180049\" xlink:href=\"#m9831c93629\" y=\"605.16\"/>\r\n      </g>\r\n     </g>\r\n     <g id=\"text_33\">\r\n      <!-- 500 -->\r\n      <g transform=\"translate(297.636299 619.758437)scale(0.1 -0.1)\">\r\n       <use xlink:href=\"#DejaVuSans-35\"/>\r\n       <use x=\"63.623047\" xlink:href=\"#DejaVuSans-30\"/>\r\n       <use x=\"127.246094\" xlink:href=\"#DejaVuSans-30\"/>\r\n      </g>\r\n     </g>\r\n    </g>\r\n    <g id=\"text_34\">\r\n     <!-- Fare -->\r\n     <g transform=\"translate(175.9625 633.436562)scale(0.1 -0.1)\">\r\n      <use xlink:href=\"#DejaVuSans-46\"/>\r\n      <use x=\"48.394531\" xlink:href=\"#DejaVuSans-61\"/>\r\n      <use x=\"109.673828\" xlink:href=\"#DejaVuSans-72\"/>\r\n      <use x=\"148.537109\" xlink:href=\"#DejaVuSans-65\"/>\r\n     </g>\r\n    </g>\r\n   </g>\r\n   <g id=\"matplotlib.axis_6\">\r\n    <g id=\"ytick_8\">\r\n     <g id=\"line2d_38\">\r\n      <g>\r\n       <use style=\"stroke:#000000;stroke-width:0.8;\" x=\"46.965625\" xlink:href=\"#m63a24b6dd9\" y=\"517.224706\"/>\r\n      </g>\r\n     </g>\r\n    </g>\r\n   </g>\r\n   <g id=\"line2d_39\">\r\n    <path clip-path=\"url(#p6d0ab8d312)\" d=\"M 63.563607 517.224706 \r\nL 59.647443 517.224706 \r\n\" style=\"fill:none;stroke:#3f3f3f;stroke-linecap:square;stroke-width:1.5;\"/>\r\n   </g>\r\n   <g id=\"line2d_40\">\r\n    <path clip-path=\"url(#p6d0ab8d312)\" d=\"M 74.994465 517.224706 \r\nL 91.826682 517.224706 \r\n\" style=\"fill:none;stroke:#3f3f3f;stroke-linecap:square;stroke-width:1.5;\"/>\r\n   </g>\r\n   <g id=\"line2d_41\">\r\n    <path clip-path=\"url(#p6d0ab8d312)\" d=\"M 59.647443 482.050588 \r\nL 59.647443 552.398824 \r\n\" style=\"fill:none;stroke:#3f3f3f;stroke-linecap:square;stroke-width:1.5;\"/>\r\n   </g>\r\n   <g id=\"line2d_42\">\r\n    <path clip-path=\"url(#p6d0ab8d312)\" d=\"M 91.826682 482.050588 \r\nL 91.826682 552.398824 \r\n\" style=\"fill:none;stroke:#3f3f3f;stroke-linecap:square;stroke-width:1.5;\"/>\r\n   </g>\r\n   <g id=\"line2d_43\">\r\n    <g clip-path=\"url(#p6d0ab8d312)\">\r\n     <use style=\"fill:#3f3f3f;stroke:#3f3f3f;stroke-linejoin:miter;\" x=\"94.937325\" xlink:href=\"#ma0f976bd60\" y=\"517.224706\"/>\r\n     <use style=\"fill:#3f3f3f;stroke:#3f3f3f;stroke-linejoin:miter;\" x=\"189.849594\" xlink:href=\"#ma0f976bd60\" y=\"517.224706\"/>\r\n     <use style=\"fill:#3f3f3f;stroke:#3f3f3f;stroke-linejoin:miter;\" x=\"132.184794\" xlink:href=\"#ma0f976bd60\" y=\"517.224706\"/>\r\n     <use style=\"fill:#3f3f3f;stroke:#3f3f3f;stroke-linejoin:miter;\" x=\"100.327348\" xlink:href=\"#ma0f976bd60\" y=\"517.224706\"/>\r\n     <use style=\"fill:#3f3f3f;stroke:#3f3f3f;stroke-linejoin:miter;\" x=\"97.633401\" xlink:href=\"#ma0f976bd60\" y=\"517.224706\"/>\r\n     <use style=\"fill:#3f3f3f;stroke:#3f3f3f;stroke-linejoin:miter;\" x=\"99.25266\" xlink:href=\"#ma0f976bd60\" y=\"517.224706\"/>\r\n     <use style=\"fill:#3f3f3f;stroke:#3f3f3f;stroke-linejoin:miter;\" x=\"100.973012\" xlink:href=\"#ma0f976bd60\" y=\"517.224706\"/>\r\n     <use style=\"fill:#3f3f3f;stroke:#3f3f3f;stroke-linejoin:miter;\" x=\"96.034736\" xlink:href=\"#ma0f976bd60\" y=\"517.224706\"/>\r\n     <use style=\"fill:#3f3f3f;stroke:#3f3f3f;stroke-linejoin:miter;\" x=\"189.849594\" xlink:href=\"#ma0f976bd60\" y=\"517.224706\"/>\r\n     <use style=\"fill:#3f3f3f;stroke:#3f3f3f;stroke-linejoin:miter;\" x=\"97.909796\" xlink:href=\"#ma0f976bd60\" y=\"517.224706\"/>\r\n     <use style=\"fill:#3f3f3f;stroke:#3f3f3f;stroke-linejoin:miter;\" x=\"182.18638\" xlink:href=\"#ma0f976bd60\" y=\"517.224706\"/>\r\n     <use style=\"fill:#3f3f3f;stroke:#3f3f3f;stroke-linejoin:miter;\" x=\"96.034736\" xlink:href=\"#ma0f976bd60\" y=\"517.224706\"/>\r\n     <use style=\"fill:#3f3f3f;stroke:#3f3f3f;stroke-linejoin:miter;\" x=\"97.909796\" xlink:href=\"#ma0f976bd60\" y=\"517.224706\"/>\r\n     <use style=\"fill:#3f3f3f;stroke:#3f3f3f;stroke-linejoin:miter;\" x=\"98.856608\" xlink:href=\"#ma0f976bd60\" y=\"517.224706\"/>\r\n     <use style=\"fill:#3f3f3f;stroke:#3f3f3f;stroke-linejoin:miter;\" x=\"92.618786\" xlink:href=\"#ma0f976bd60\" y=\"517.224706\"/>\r\n     <use style=\"fill:#3f3f3f;stroke:#3f3f3f;stroke-linejoin:miter;\" x=\"94.079229\" xlink:href=\"#ma0f976bd60\" y=\"517.224706\"/>\r\n     <use style=\"fill:#3f3f3f;stroke:#3f3f3f;stroke-linejoin:miter;\" x=\"94.079229\" xlink:href=\"#ma0f976bd60\" y=\"517.224706\"/>\r\n     <use style=\"fill:#3f3f3f;stroke:#3f3f3f;stroke-linejoin:miter;\" x=\"132.184794\" xlink:href=\"#ma0f976bd60\" y=\"517.224706\"/>\r\n     <use style=\"fill:#3f3f3f;stroke:#3f3f3f;stroke-linejoin:miter;\" x=\"94.079229\" xlink:href=\"#ma0f976bd60\" y=\"517.224706\"/>\r\n     <use style=\"fill:#3f3f3f;stroke:#3f3f3f;stroke-linejoin:miter;\" x=\"115.725955\" xlink:href=\"#ma0f976bd60\" y=\"517.224706\"/>\r\n     <use style=\"fill:#3f3f3f;stroke:#3f3f3f;stroke-linejoin:miter;\" x=\"97.41681\" xlink:href=\"#ma0f976bd60\" y=\"517.224706\"/>\r\n     <use style=\"fill:#3f3f3f;stroke:#3f3f3f;stroke-linejoin:miter;\" x=\"104.203312\" xlink:href=\"#ma0f976bd60\" y=\"517.224706\"/>\r\n     <use style=\"fill:#3f3f3f;stroke:#3f3f3f;stroke-linejoin:miter;\" x=\"100.973012\" xlink:href=\"#ma0f976bd60\" y=\"517.224706\"/>\r\n     <use style=\"fill:#3f3f3f;stroke:#3f3f3f;stroke-linejoin:miter;\" x=\"104.203312\" xlink:href=\"#ma0f976bd60\" y=\"517.224706\"/>\r\n     <use style=\"fill:#3f3f3f;stroke:#3f3f3f;stroke-linejoin:miter;\" x=\"98.856608\" xlink:href=\"#ma0f976bd60\" y=\"517.224706\"/>\r\n     <use style=\"fill:#3f3f3f;stroke:#3f3f3f;stroke-linejoin:miter;\" x=\"102.470584\" xlink:href=\"#ma0f976bd60\" y=\"517.224706\"/>\r\n     <use style=\"fill:#3f3f3f;stroke:#3f3f3f;stroke-linejoin:miter;\" x=\"313.283807\" xlink:href=\"#ma0f976bd60\" y=\"517.224706\"/>\r\n     <use style=\"fill:#3f3f3f;stroke:#3f3f3f;stroke-linejoin:miter;\" x=\"99.079387\" xlink:href=\"#ma0f976bd60\" y=\"517.224706\"/>\r\n     <use style=\"fill:#3f3f3f;stroke:#3f3f3f;stroke-linejoin:miter;\" x=\"135.621388\" xlink:href=\"#ma0f976bd60\" y=\"517.224706\"/>\r\n     <use style=\"fill:#3f3f3f;stroke:#3f3f3f;stroke-linejoin:miter;\" x=\"126.794772\" xlink:href=\"#ma0f976bd60\" y=\"517.224706\"/>\r\n     <use style=\"fill:#3f3f3f;stroke:#3f3f3f;stroke-linejoin:miter;\" x=\"98.241885\" xlink:href=\"#ma0f976bd60\" y=\"517.224706\"/>\r\n     <use style=\"fill:#3f3f3f;stroke:#3f3f3f;stroke-linejoin:miter;\" x=\"98.683335\" xlink:href=\"#ma0f976bd60\" y=\"517.224706\"/>\r\n     <use style=\"fill:#3f3f3f;stroke:#3f3f3f;stroke-linejoin:miter;\" x=\"104.737587\" xlink:href=\"#ma0f976bd60\" y=\"517.224706\"/>\r\n     <use style=\"fill:#3f3f3f;stroke:#3f3f3f;stroke-linejoin:miter;\" x=\"134.674576\" xlink:href=\"#ma0f976bd60\" y=\"517.224706\"/>\r\n     <use style=\"fill:#3f3f3f;stroke:#3f3f3f;stroke-linejoin:miter;\" x=\"182.18638\" xlink:href=\"#ma0f976bd60\" y=\"517.224706\"/>\r\n     <use style=\"fill:#3f3f3f;stroke:#3f3f3f;stroke-linejoin:miter;\" x=\"134.674576\" xlink:href=\"#ma0f976bd60\" y=\"517.224706\"/>\r\n     <use style=\"fill:#3f3f3f;stroke:#3f3f3f;stroke-linejoin:miter;\" x=\"114.541908\" xlink:href=\"#ma0f976bd60\" y=\"517.224706\"/>\r\n     <use style=\"fill:#3f3f3f;stroke:#3f3f3f;stroke-linejoin:miter;\" x=\"113.560045\" xlink:href=\"#ma0f976bd60\" y=\"517.224706\"/>\r\n     <use style=\"fill:#3f3f3f;stroke:#3f3f3f;stroke-linejoin:miter;\" x=\"100.816225\" xlink:href=\"#ma0f976bd60\" y=\"517.224706\"/>\r\n     <use style=\"fill:#3f3f3f;stroke:#3f3f3f;stroke-linejoin:miter;\" x=\"189.540178\" xlink:href=\"#ma0f976bd60\" y=\"517.224706\"/>\r\n     <use style=\"fill:#3f3f3f;stroke:#3f3f3f;stroke-linejoin:miter;\" x=\"141.267211\" xlink:href=\"#ma0f976bd60\" y=\"517.224706\"/>\r\n     <use style=\"fill:#3f3f3f;stroke:#3f3f3f;stroke-linejoin:miter;\" x=\"126.233714\" xlink:href=\"#ma0f976bd60\" y=\"517.224706\"/>\r\n     <use style=\"fill:#3f3f3f;stroke:#3f3f3f;stroke-linejoin:miter;\" x=\"94.079229\" xlink:href=\"#ma0f976bd60\" y=\"517.224706\"/>\r\n     <use style=\"fill:#3f3f3f;stroke:#3f3f3f;stroke-linejoin:miter;\" x=\"126.794772\" xlink:href=\"#ma0f976bd60\" y=\"517.224706\"/>\r\n     <use style=\"fill:#3f3f3f;stroke:#3f3f3f;stroke-linejoin:miter;\" x=\"135.621388\" xlink:href=\"#ma0f976bd60\" y=\"517.224706\"/>\r\n     <use style=\"fill:#3f3f3f;stroke:#3f3f3f;stroke-linejoin:miter;\" x=\"125.812909\" xlink:href=\"#ma0f976bd60\" y=\"517.224706\"/>\r\n     <use style=\"fill:#3f3f3f;stroke:#3f3f3f;stroke-linejoin:miter;\" x=\"92.618786\" xlink:href=\"#ma0f976bd60\" y=\"517.224706\"/>\r\n     <use style=\"fill:#3f3f3f;stroke:#3f3f3f;stroke-linejoin:miter;\" x=\"126.233714\" xlink:href=\"#ma0f976bd60\" y=\"517.224706\"/>\r\n     <use style=\"fill:#3f3f3f;stroke:#3f3f3f;stroke-linejoin:miter;\" x=\"189.849594\" xlink:href=\"#ma0f976bd60\" y=\"517.224706\"/>\r\n     <use style=\"fill:#3f3f3f;stroke:#3f3f3f;stroke-linejoin:miter;\" x=\"96.9011\" xlink:href=\"#ma0f976bd60\" y=\"517.224706\"/>\r\n     <use style=\"fill:#3f3f3f;stroke:#3f3f3f;stroke-linejoin:miter;\" x=\"93.955462\" xlink:href=\"#ma0f976bd60\" y=\"517.224706\"/>\r\n     <use style=\"fill:#3f3f3f;stroke:#3f3f3f;stroke-linejoin:miter;\" x=\"126.794772\" xlink:href=\"#ma0f976bd60\" y=\"517.224706\"/>\r\n     <use style=\"fill:#3f3f3f;stroke:#3f3f3f;stroke-linejoin:miter;\" x=\"100.327348\" xlink:href=\"#ma0f976bd60\" y=\"517.224706\"/>\r\n     <use style=\"fill:#3f3f3f;stroke:#3f3f3f;stroke-linejoin:miter;\" x=\"164.353735\" xlink:href=\"#ma0f976bd60\" y=\"517.224706\"/>\r\n     <use style=\"fill:#3f3f3f;stroke:#3f3f3f;stroke-linejoin:miter;\" x=\"172.287155\" xlink:href=\"#ma0f976bd60\" y=\"517.224706\"/>\r\n     <use style=\"fill:#3f3f3f;stroke:#3f3f3f;stroke-linejoin:miter;\" x=\"96.034736\" xlink:href=\"#ma0f976bd60\" y=\"517.224706\"/>\r\n     <use style=\"fill:#3f3f3f;stroke:#3f3f3f;stroke-linejoin:miter;\" x=\"119.055269\" xlink:href=\"#ma0f976bd60\" y=\"517.224706\"/>\r\n     <use style=\"fill:#3f3f3f;stroke:#3f3f3f;stroke-linejoin:miter;\" x=\"115.725955\" xlink:href=\"#ma0f976bd60\" y=\"517.224706\"/>\r\n     <use style=\"fill:#3f3f3f;stroke:#3f3f3f;stroke-linejoin:miter;\" x=\"104.203312\" xlink:href=\"#ma0f976bd60\" y=\"517.224706\"/>\r\n     <use style=\"fill:#3f3f3f;stroke:#3f3f3f;stroke-linejoin:miter;\" x=\"119.055269\" xlink:href=\"#ma0f976bd60\" y=\"517.224706\"/>\r\n     <use style=\"fill:#3f3f3f;stroke:#3f3f3f;stroke-linejoin:miter;\" x=\"189.849594\" xlink:href=\"#ma0f976bd60\" y=\"517.224706\"/>\r\n     <use style=\"fill:#3f3f3f;stroke:#3f3f3f;stroke-linejoin:miter;\" x=\"100.17264\" xlink:href=\"#ma0f976bd60\" y=\"517.224706\"/>\r\n     <use style=\"fill:#3f3f3f;stroke:#3f3f3f;stroke-linejoin:miter;\" x=\"103.759833\" xlink:href=\"#ma0f976bd60\" y=\"517.224706\"/>\r\n     <use style=\"fill:#3f3f3f;stroke:#3f3f3f;stroke-linejoin:miter;\" x=\"104.737587\" xlink:href=\"#ma0f976bd60\" y=\"517.224706\"/>\r\n     <use style=\"fill:#3f3f3f;stroke:#3f3f3f;stroke-linejoin:miter;\" x=\"104.203312\" xlink:href=\"#ma0f976bd60\" y=\"517.224706\"/>\r\n     <use style=\"fill:#3f3f3f;stroke:#3f3f3f;stroke-linejoin:miter;\" x=\"98.394564\" xlink:href=\"#ma0f976bd60\" y=\"517.224706\"/>\r\n     <use style=\"fill:#3f3f3f;stroke:#3f3f3f;stroke-linejoin:miter;\" x=\"134.674576\" xlink:href=\"#ma0f976bd60\" y=\"517.224706\"/>\r\n     <use style=\"fill:#3f3f3f;stroke:#3f3f3f;stroke-linejoin:miter;\" x=\"102.470584\" xlink:href=\"#ma0f976bd60\" y=\"517.224706\"/>\r\n     <use style=\"fill:#3f3f3f;stroke:#3f3f3f;stroke-linejoin:miter;\" x=\"113.560045\" xlink:href=\"#ma0f976bd60\" y=\"517.224706\"/>\r\n     <use style=\"fill:#3f3f3f;stroke:#3f3f3f;stroke-linejoin:miter;\" x=\"105.93604\" xlink:href=\"#ma0f976bd60\" y=\"517.224706\"/>\r\n     <use style=\"fill:#3f3f3f;stroke:#3f3f3f;stroke-linejoin:miter;\" x=\"169.44261\" xlink:href=\"#ma0f976bd60\" y=\"517.224706\"/>\r\n     <use style=\"fill:#3f3f3f;stroke:#3f3f3f;stroke-linejoin:miter;\" x=\"112.334758\" xlink:href=\"#ma0f976bd60\" y=\"517.224706\"/>\r\n     <use style=\"fill:#3f3f3f;stroke:#3f3f3f;stroke-linejoin:miter;\" x=\"94.797073\" xlink:href=\"#ma0f976bd60\" y=\"517.224706\"/>\r\n     <use style=\"fill:#3f3f3f;stroke:#3f3f3f;stroke-linejoin:miter;\" x=\"112.334758\" xlink:href=\"#ma0f976bd60\" y=\"517.224706\"/>\r\n     <use style=\"fill:#3f3f3f;stroke:#3f3f3f;stroke-linejoin:miter;\" x=\"114.541908\" xlink:href=\"#ma0f976bd60\" y=\"517.224706\"/>\r\n     <use style=\"fill:#3f3f3f;stroke:#3f3f3f;stroke-linejoin:miter;\" x=\"172.287155\" xlink:href=\"#ma0f976bd60\" y=\"517.224706\"/>\r\n     <use style=\"fill:#3f3f3f;stroke:#3f3f3f;stroke-linejoin:miter;\" x=\"99.079387\" xlink:href=\"#ma0f976bd60\" y=\"517.224706\"/>\r\n     <use style=\"fill:#3f3f3f;stroke:#3f3f3f;stroke-linejoin:miter;\" x=\"114.541908\" xlink:href=\"#ma0f976bd60\" y=\"517.224706\"/>\r\n     <use style=\"fill:#3f3f3f;stroke:#3f3f3f;stroke-linejoin:miter;\" x=\"99.079387\" xlink:href=\"#ma0f976bd60\" y=\"517.224706\"/>\r\n     <use style=\"fill:#3f3f3f;stroke:#3f3f3f;stroke-linejoin:miter;\" x=\"98.856608\" xlink:href=\"#ma0f976bd60\" y=\"517.224706\"/>\r\n     <use style=\"fill:#3f3f3f;stroke:#3f3f3f;stroke-linejoin:miter;\" x=\"98.394564\" xlink:href=\"#ma0f976bd60\" y=\"517.224706\"/>\r\n     <use style=\"fill:#3f3f3f;stroke:#3f3f3f;stroke-linejoin:miter;\" x=\"135.621388\" xlink:href=\"#ma0f976bd60\" y=\"517.224706\"/>\r\n     <use style=\"fill:#3f3f3f;stroke:#3f3f3f;stroke-linejoin:miter;\" x=\"98.241885\" xlink:href=\"#ma0f976bd60\" y=\"517.224706\"/>\r\n     <use style=\"fill:#3f3f3f;stroke:#3f3f3f;stroke-linejoin:miter;\" x=\"93.955462\" xlink:href=\"#ma0f976bd60\" y=\"517.224706\"/>\r\n     <use style=\"fill:#3f3f3f;stroke:#3f3f3f;stroke-linejoin:miter;\" x=\"97.633401\" xlink:href=\"#ma0f976bd60\" y=\"517.224706\"/>\r\n     <use style=\"fill:#3f3f3f;stroke:#3f3f3f;stroke-linejoin:miter;\" x=\"96.034736\" xlink:href=\"#ma0f976bd60\" y=\"517.224706\"/>\r\n     <use style=\"fill:#3f3f3f;stroke:#3f3f3f;stroke-linejoin:miter;\" x=\"115.725955\" xlink:href=\"#ma0f976bd60\" y=\"517.224706\"/>\r\n     <use style=\"fill:#3f3f3f;stroke:#3f3f3f;stroke-linejoin:miter;\" x=\"125.812909\" xlink:href=\"#ma0f976bd60\" y=\"517.224706\"/>\r\n     <use style=\"fill:#3f3f3f;stroke:#3f3f3f;stroke-linejoin:miter;\" x=\"96.034736\" xlink:href=\"#ma0f976bd60\" y=\"517.224706\"/>\r\n     <use style=\"fill:#3f3f3f;stroke:#3f3f3f;stroke-linejoin:miter;\" x=\"313.283807\" xlink:href=\"#ma0f976bd60\" y=\"517.224706\"/>\r\n     <use style=\"fill:#3f3f3f;stroke:#3f3f3f;stroke-linejoin:miter;\" x=\"97.633401\" xlink:href=\"#ma0f976bd60\" y=\"517.224706\"/>\r\n     <use style=\"fill:#3f3f3f;stroke:#3f3f3f;stroke-linejoin:miter;\" x=\"164.273287\" xlink:href=\"#ma0f976bd60\" y=\"517.224706\"/>\r\n     <use style=\"fill:#3f3f3f;stroke:#3f3f3f;stroke-linejoin:miter;\" x=\"114.541908\" xlink:href=\"#ma0f976bd60\" y=\"517.224706\"/>\r\n     <use style=\"fill:#3f3f3f;stroke:#3f3f3f;stroke-linejoin:miter;\" x=\"172.287155\" xlink:href=\"#ma0f976bd60\" y=\"517.224706\"/>\r\n     <use style=\"fill:#3f3f3f;stroke:#3f3f3f;stroke-linejoin:miter;\" x=\"134.674576\" xlink:href=\"#ma0f976bd60\" y=\"517.224706\"/>\r\n     <use style=\"fill:#3f3f3f;stroke:#3f3f3f;stroke-linejoin:miter;\" x=\"172.287155\" xlink:href=\"#ma0f976bd60\" y=\"517.224706\"/>\r\n     <use style=\"fill:#3f3f3f;stroke:#3f3f3f;stroke-linejoin:miter;\" x=\"164.273287\" xlink:href=\"#ma0f976bd60\" y=\"517.224706\"/>\r\n     <use style=\"fill:#3f3f3f;stroke:#3f3f3f;stroke-linejoin:miter;\" x=\"313.283807\" xlink:href=\"#ma0f976bd60\" y=\"517.224706\"/>\r\n     <use style=\"fill:#3f3f3f;stroke:#3f3f3f;stroke-linejoin:miter;\" x=\"98.683335\" xlink:href=\"#ma0f976bd60\" y=\"517.224706\"/>\r\n     <use style=\"fill:#3f3f3f;stroke:#3f3f3f;stroke-linejoin:miter;\" x=\"189.540178\" xlink:href=\"#ma0f976bd60\" y=\"517.224706\"/>\r\n     <use style=\"fill:#3f3f3f;stroke:#3f3f3f;stroke-linejoin:miter;\" x=\"94.797073\" xlink:href=\"#ma0f976bd60\" y=\"517.224706\"/>\r\n     <use style=\"fill:#3f3f3f;stroke:#3f3f3f;stroke-linejoin:miter;\" x=\"102.470584\" xlink:href=\"#ma0f976bd60\" y=\"517.224706\"/>\r\n     <use style=\"fill:#3f3f3f;stroke:#3f3f3f;stroke-linejoin:miter;\" x=\"119.055269\" xlink:href=\"#ma0f976bd60\" y=\"517.224706\"/>\r\n     <use style=\"fill:#3f3f3f;stroke:#3f3f3f;stroke-linejoin:miter;\" x=\"98.241885\" xlink:href=\"#ma0f976bd60\" y=\"517.224706\"/>\r\n     <use style=\"fill:#3f3f3f;stroke:#3f3f3f;stroke-linejoin:miter;\" x=\"164.273287\" xlink:href=\"#ma0f976bd60\" y=\"517.224706\"/>\r\n     <use style=\"fill:#3f3f3f;stroke:#3f3f3f;stroke-linejoin:miter;\" x=\"98.856608\" xlink:href=\"#ma0f976bd60\" y=\"517.224706\"/>\r\n     <use style=\"fill:#3f3f3f;stroke:#3f3f3f;stroke-linejoin:miter;\" x=\"94.079229\" xlink:href=\"#ma0f976bd60\" y=\"517.224706\"/>\r\n     <use style=\"fill:#3f3f3f;stroke:#3f3f3f;stroke-linejoin:miter;\" x=\"119.055269\" xlink:href=\"#ma0f976bd60\" y=\"517.224706\"/>\r\n     <use style=\"fill:#3f3f3f;stroke:#3f3f3f;stroke-linejoin:miter;\" x=\"105.93604\" xlink:href=\"#ma0f976bd60\" y=\"517.224706\"/>\r\n     <use style=\"fill:#3f3f3f;stroke:#3f3f3f;stroke-linejoin:miter;\" x=\"99.25266\" xlink:href=\"#ma0f976bd60\" y=\"517.224706\"/>\r\n     <use style=\"fill:#3f3f3f;stroke:#3f3f3f;stroke-linejoin:miter;\" x=\"100.816225\" xlink:href=\"#ma0f976bd60\" y=\"517.224706\"/>\r\n     <use style=\"fill:#3f3f3f;stroke:#3f3f3f;stroke-linejoin:miter;\" x=\"94.079229\" xlink:href=\"#ma0f976bd60\" y=\"517.224706\"/>\r\n     <use style=\"fill:#3f3f3f;stroke:#3f3f3f;stroke-linejoin:miter;\" x=\"103.759833\" xlink:href=\"#ma0f976bd60\" y=\"517.224706\"/>\r\n     <use style=\"fill:#3f3f3f;stroke:#3f3f3f;stroke-linejoin:miter;\" x=\"141.267211\" xlink:href=\"#ma0f976bd60\" y=\"517.224706\"/>\r\n     <use style=\"fill:#3f3f3f;stroke:#3f3f3f;stroke-linejoin:miter;\" x=\"94.079229\" xlink:href=\"#ma0f976bd60\" y=\"517.224706\"/>\r\n     <use style=\"fill:#3f3f3f;stroke:#3f3f3f;stroke-linejoin:miter;\" x=\"100.816225\" xlink:href=\"#ma0f976bd60\" y=\"517.224706\"/>\r\n    </g>\r\n   </g>\r\n   <g id=\"line2d_44\">\r\n    <path clip-path=\"url(#p6d0ab8d312)\" d=\"M 66.803215 446.876471 \r\nL 66.803215 587.572941 \r\n\" style=\"fill:none;stroke:#3f3f3f;stroke-linecap:square;stroke-width:1.5;\"/>\r\n   </g>\r\n   <g id=\"patch_15\">\r\n    <path d=\"M 46.965625 605.16 \r\nL 46.965625 429.289412 \r\n\" style=\"fill:none;stroke:#000000;stroke-linecap:square;stroke-linejoin:miter;stroke-width:0.8;\"/>\r\n   </g>\r\n   <g id=\"patch_16\">\r\n    <path d=\"M 325.965625 605.16 \r\nL 325.965625 429.289412 \r\n\" style=\"fill:none;stroke:#000000;stroke-linecap:square;stroke-linejoin:miter;stroke-width:0.8;\"/>\r\n   </g>\r\n   <g id=\"patch_17\">\r\n    <path d=\"M 46.965625 605.16 \r\nL 325.965625 605.16 \r\n\" style=\"fill:none;stroke:#000000;stroke-linecap:square;stroke-linejoin:miter;stroke-width:0.8;\"/>\r\n   </g>\r\n   <g id=\"patch_18\">\r\n    <path d=\"M 46.965625 429.289412 \r\nL 325.965625 429.289412 \r\n\" style=\"fill:none;stroke:#000000;stroke-linecap:square;stroke-linejoin:miter;stroke-width:0.8;\"/>\r\n   </g>\r\n  </g>\r\n </g>\r\n <defs>\r\n  <clipPath id=\"p821683cb85\">\r\n   <rect height=\"175.870588\" width=\"279\" x=\"46.965625\" y=\"7.2\"/>\r\n  </clipPath>\r\n  <clipPath id=\"p00c94456fa\">\r\n   <rect height=\"175.870588\" width=\"279\" x=\"46.965625\" y=\"218.244706\"/>\r\n  </clipPath>\r\n  <clipPath id=\"p6d0ab8d312\">\r\n   <rect height=\"175.870588\" width=\"279\" x=\"46.965625\" y=\"429.289412\"/>\r\n  </clipPath>\r\n </defs>\r\n</svg>\r\n",
      "text/plain": [
       "<Figure size 360x792 with 3 Axes>"
      ]
     },
     "metadata": {
      "needs_background": "light"
     },
     "output_type": "display_data"
    }
   ],
   "source": [
    "ages = data_raw[\"Age\"]\n",
    "fares = data_raw[\"Fare\"]\n",
    "\n",
    "figure, axes = plt.subplots(3, 1, figsize=(5, 11))\n",
    "axes[0].scatter(ages, fares)\n",
    "axes[0].set_xlabel(\"Age\")\n",
    "axes[0].set_ylabel(\"Fare\")\n",
    "sb.boxplot(ax=axes[1], x=ages)\n",
    "sb.boxplot(ax=axes[2], x=fares)"
   ]
  },
  {
   "cell_type": "code",
   "execution_count": 442,
   "metadata": {},
   "outputs": [
    {
     "data": {
      "text/plain": [
       "20"
      ]
     },
     "execution_count": 442,
     "metadata": {},
     "output_type": "execute_result"
    }
   ],
   "source": [
    "zscores = np.abs(stats.zscore(fares))\n",
    "thresholded = np.argwhere(zscores > 3) # Indices of Z-Scores where the score is above a certain threshold\n",
    "len(thresholded)"
   ]
  },
  {
   "cell_type": "markdown",
   "metadata": {},
   "source": [
    "### As you can see from the plots and calculate Z-Scores above, it seems there are some significant outliers in the Fare column."
   ]
  },
  {
   "cell_type": "code",
   "execution_count": 443,
   "metadata": {},
   "outputs": [],
   "source": [
    "fares_mean = np.mean(fares)\n",
    "fares = [fares_mean if i in thresholded else j for i, j in enumerate(fares)] # Replace the detected outlier fares with mean fares"
   ]
  },
  {
   "cell_type": "code",
   "execution_count": 444,
   "metadata": {},
   "outputs": [
    {
     "data": {
      "text/plain": [
       "<AxesSubplot:>"
      ]
     },
     "execution_count": 444,
     "metadata": {},
     "output_type": "execute_result"
    },
    {
     "data": {
      "image/png": "[encoded data removed]",
      "image/svg+xml": "<?xml version=\"1.0\" encoding=\"utf-8\" standalone=\"no\"?>\r\n<!DOCTYPE svg PUBLIC \"-//W3C//DTD SVG 1.1//EN\"\r\n  \"http://www.w3.org/Graphics/SVG/1.1/DTD/svg11.dtd\">\r\n<svg height=\"302.878125pt\" version=\"1.1\" viewBox=\"0 0 296.9 302.878125\" width=\"296.9pt\" xmlns=\"http://www.w3.org/2000/svg\" xmlns:xlink=\"http://www.w3.org/1999/xlink\">\r\n <metadata>\r\n  <rdf:RDF xmlns:cc=\"http://creativecommons.org/ns#\" xmlns:dc=\"http://purl.org/dc/elements/1.1/\" xmlns:rdf=\"http://www.w3.org/1999/02/22-rdf-syntax-ns#\">\r\n   <cc:Work>\r\n    <dc:type rdf:resource=\"http://purl.org/dc/dcmitype/StillImage\"/>\r\n    <dc:date>2021-05-27T23:16:25.649532</dc:date>\r\n    <dc:format>image/svg+xml</dc:format>\r\n    <dc:creator>\r\n     <cc:Agent>\r\n      <dc:title>Matplotlib v3.4.1, https://matplotlib.org/</dc:title>\r\n     </cc:Agent>\r\n    </dc:creator>\r\n   </cc:Work>\r\n  </rdf:RDF>\r\n </metadata>\r\n <defs>\r\n  <style type=\"text/css\">*{stroke-linecap:butt;stroke-linejoin:round;}</style>\r\n </defs>\r\n <g id=\"figure_1\">\r\n  <g id=\"patch_1\">\r\n   <path d=\"M 0 302.878125 \r\nL 296.9 302.878125 \r\nL 296.9 0 \r\nL 0 0 \r\nz\r\n\" style=\"fill:none;\"/>\r\n  </g>\r\n  <g id=\"axes_1\">\r\n   <g id=\"patch_2\">\r\n    <path d=\"M 10.7 279 \r\nL 289.7 279 \r\nL 289.7 7.2 \r\nL 10.7 7.2 \r\nz\r\n\" style=\"fill:#ffffff;\"/>\r\n   </g>\r\n   <g id=\"patch_3\">\r\n    <path clip-path=\"url(#p07e50e2194)\" d=\"M 35.551438 34.38 \r\nL 35.551438 251.82 \r\nL 71.07324 251.82 \r\nL 71.07324 34.38 \r\nL 35.551438 34.38 \r\nz\r\n\" style=\"fill:#3274a1;stroke:#3f3f3f;stroke-linejoin:miter;stroke-width:1.5;\"/>\r\n   </g>\r\n   <g id=\"matplotlib.axis_1\">\r\n    <g id=\"xtick_1\">\r\n     <g id=\"line2d_1\">\r\n      <defs>\r\n       <path d=\"M 0 0 \r\nL 0 3.5 \r\n\" id=\"m99e9dd9248\" style=\"stroke:#000000;stroke-width:0.8;\"/>\r\n      </defs>\r\n      <g>\r\n       <use style=\"stroke:#000000;stroke-width:0.8;\" x=\"23.381818\" xlink:href=\"#m99e9dd9248\" y=\"279\"/>\r\n      </g>\r\n     </g>\r\n     <g id=\"text_1\">\r\n      <!-- 0 -->\r\n      <g transform=\"translate(20.200568 293.598437)scale(0.1 -0.1)\">\r\n       <defs>\r\n        <path d=\"M 2034 4250 \r\nQ 1547 4250 1301 3770 \r\nQ 1056 3291 1056 2328 \r\nQ 1056 1369 1301 889 \r\nQ 1547 409 2034 409 \r\nQ 2525 409 2770 889 \r\nQ 3016 1369 3016 2328 \r\nQ 3016 3291 2770 3770 \r\nQ 2525 4250 2034 4250 \r\nz\r\nM 2034 4750 \r\nQ 2819 4750 3233 4129 \r\nQ 3647 3509 3647 2328 \r\nQ 3647 1150 3233 529 \r\nQ 2819 -91 2034 -91 \r\nQ 1250 -91 836 529 \r\nQ 422 1150 422 2328 \r\nQ 422 3509 836 4129 \r\nQ 1250 4750 2034 4750 \r\nz\r\n\" id=\"DejaVuSans-30\" transform=\"scale(0.015625)\"/>\r\n       </defs>\r\n       <use xlink:href=\"#DejaVuSans-30\"/>\r\n      </g>\r\n     </g>\r\n    </g>\r\n    <g id=\"xtick_2\">\r\n     <g id=\"line2d_2\">\r\n      <g>\r\n       <use style=\"stroke:#000000;stroke-width:0.8;\" x=\"61.842642\" xlink:href=\"#m99e9dd9248\" y=\"279\"/>\r\n      </g>\r\n     </g>\r\n     <g id=\"text_2\">\r\n      <!-- 25 -->\r\n      <g transform=\"translate(55.480142 293.598437)scale(0.1 -0.1)\">\r\n       <defs>\r\n        <path d=\"M 1228 531 \r\nL 3431 531 \r\nL 3431 0 \r\nL 469 0 \r\nL 469 531 \r\nQ 828 903 1448 1529 \r\nQ 2069 2156 2228 2338 \r\nQ 2531 2678 2651 2914 \r\nQ 2772 3150 2772 3378 \r\nQ 2772 3750 2511 3984 \r\nQ 2250 4219 1831 4219 \r\nQ 1534 4219 1204 4116 \r\nQ 875 4013 500 3803 \r\nL 500 4441 \r\nQ 881 4594 1212 4672 \r\nQ 1544 4750 1819 4750 \r\nQ 2544 4750 2975 4387 \r\nQ 3406 4025 3406 3419 \r\nQ 3406 3131 3298 2873 \r\nQ 3191 2616 2906 2266 \r\nQ 2828 2175 2409 1742 \r\nQ 1991 1309 1228 531 \r\nz\r\n\" id=\"DejaVuSans-32\" transform=\"scale(0.015625)\"/>\r\n        <path d=\"M 691 4666 \r\nL 3169 4666 \r\nL 3169 4134 \r\nL 1269 4134 \r\nL 1269 2991 \r\nQ 1406 3038 1543 3061 \r\nQ 1681 3084 1819 3084 \r\nQ 2600 3084 3056 2656 \r\nQ 3513 2228 3513 1497 \r\nQ 3513 744 3044 326 \r\nQ 2575 -91 1722 -91 \r\nQ 1428 -91 1123 -41 \r\nQ 819 9 494 109 \r\nL 494 744 \r\nQ 775 591 1075 516 \r\nQ 1375 441 1709 441 \r\nQ 2250 441 2565 725 \r\nQ 2881 1009 2881 1497 \r\nQ 2881 1984 2565 2268 \r\nQ 2250 2553 1709 2553 \r\nQ 1456 2553 1204 2497 \r\nQ 953 2441 691 2322 \r\nL 691 4666 \r\nz\r\n\" id=\"DejaVuSans-35\" transform=\"scale(0.015625)\"/>\r\n       </defs>\r\n       <use xlink:href=\"#DejaVuSans-32\"/>\r\n       <use x=\"63.623047\" xlink:href=\"#DejaVuSans-35\"/>\r\n      </g>\r\n     </g>\r\n    </g>\r\n    <g id=\"xtick_3\">\r\n     <g id=\"line2d_3\">\r\n      <g>\r\n       <use style=\"stroke:#000000;stroke-width:0.8;\" x=\"100.303466\" xlink:href=\"#m99e9dd9248\" y=\"279\"/>\r\n      </g>\r\n     </g>\r\n     <g id=\"text_3\">\r\n      <!-- 50 -->\r\n      <g transform=\"translate(93.940966 293.598437)scale(0.1 -0.1)\">\r\n       <use xlink:href=\"#DejaVuSans-35\"/>\r\n       <use x=\"63.623047\" xlink:href=\"#DejaVuSans-30\"/>\r\n      </g>\r\n     </g>\r\n    </g>\r\n    <g id=\"xtick_4\">\r\n     <g id=\"line2d_4\">\r\n      <g>\r\n       <use style=\"stroke:#000000;stroke-width:0.8;\" x=\"138.764289\" xlink:href=\"#m99e9dd9248\" y=\"279\"/>\r\n      </g>\r\n     </g>\r\n     <g id=\"text_4\">\r\n      <!-- 75 -->\r\n      <g transform=\"translate(132.401789 293.598437)scale(0.1 -0.1)\">\r\n       <defs>\r\n        <path d=\"M 525 4666 \r\nL 3525 4666 \r\nL 3525 4397 \r\nL 1831 0 \r\nL 1172 0 \r\nL 2766 4134 \r\nL 525 4134 \r\nL 525 4666 \r\nz\r\n\" id=\"DejaVuSans-37\" transform=\"scale(0.015625)\"/>\r\n       </defs>\r\n       <use xlink:href=\"#DejaVuSans-37\"/>\r\n       <use x=\"63.623047\" xlink:href=\"#DejaVuSans-35\"/>\r\n      </g>\r\n     </g>\r\n    </g>\r\n    <g id=\"xtick_5\">\r\n     <g id=\"line2d_5\">\r\n      <g>\r\n       <use style=\"stroke:#000000;stroke-width:0.8;\" x=\"177.225113\" xlink:href=\"#m99e9dd9248\" y=\"279\"/>\r\n      </g>\r\n     </g>\r\n     <g id=\"text_5\">\r\n      <!-- 100 -->\r\n      <g transform=\"translate(167.681363 293.598437)scale(0.1 -0.1)\">\r\n       <defs>\r\n        <path d=\"M 794 531 \r\nL 1825 531 \r\nL 1825 4091 \r\nL 703 3866 \r\nL 703 4441 \r\nL 1819 4666 \r\nL 2450 4666 \r\nL 2450 531 \r\nL 3481 531 \r\nL 3481 0 \r\nL 794 0 \r\nL 794 531 \r\nz\r\n\" id=\"DejaVuSans-31\" transform=\"scale(0.015625)\"/>\r\n       </defs>\r\n       <use xlink:href=\"#DejaVuSans-31\"/>\r\n       <use x=\"63.623047\" xlink:href=\"#DejaVuSans-30\"/>\r\n       <use x=\"127.246094\" xlink:href=\"#DejaVuSans-30\"/>\r\n      </g>\r\n     </g>\r\n    </g>\r\n    <g id=\"xtick_6\">\r\n     <g id=\"line2d_6\">\r\n      <g>\r\n       <use style=\"stroke:#000000;stroke-width:0.8;\" x=\"215.685937\" xlink:href=\"#m99e9dd9248\" y=\"279\"/>\r\n      </g>\r\n     </g>\r\n     <g id=\"text_6\">\r\n      <!-- 125 -->\r\n      <g transform=\"translate(206.142187 293.598437)scale(0.1 -0.1)\">\r\n       <use xlink:href=\"#DejaVuSans-31\"/>\r\n       <use x=\"63.623047\" xlink:href=\"#DejaVuSans-32\"/>\r\n       <use x=\"127.246094\" xlink:href=\"#DejaVuSans-35\"/>\r\n      </g>\r\n     </g>\r\n    </g>\r\n    <g id=\"xtick_7\">\r\n     <g id=\"line2d_7\">\r\n      <g>\r\n       <use style=\"stroke:#000000;stroke-width:0.8;\" x=\"254.146761\" xlink:href=\"#m99e9dd9248\" y=\"279\"/>\r\n      </g>\r\n     </g>\r\n     <g id=\"text_7\">\r\n      <!-- 150 -->\r\n      <g transform=\"translate(244.603011 293.598437)scale(0.1 -0.1)\">\r\n       <use xlink:href=\"#DejaVuSans-31\"/>\r\n       <use x=\"63.623047\" xlink:href=\"#DejaVuSans-35\"/>\r\n       <use x=\"127.246094\" xlink:href=\"#DejaVuSans-30\"/>\r\n      </g>\r\n     </g>\r\n    </g>\r\n   </g>\r\n   <g id=\"matplotlib.axis_2\">\r\n    <g id=\"ytick_1\">\r\n     <g id=\"line2d_8\">\r\n      <defs>\r\n       <path d=\"M 0 0 \r\nL -3.5 0 \r\n\" id=\"m63033599f3\" style=\"stroke:#000000;stroke-width:0.8;\"/>\r\n      </defs>\r\n      <g>\r\n       <use style=\"stroke:#000000;stroke-width:0.8;\" x=\"10.7\" xlink:href=\"#m63033599f3\" y=\"143.1\"/>\r\n      </g>\r\n     </g>\r\n    </g>\r\n   </g>\r\n   <g id=\"line2d_9\">\r\n    <path clip-path=\"url(#p07e50e2194)\" d=\"M 35.551438 143.1 \r\nL 23.381818 143.1 \r\n\" style=\"fill:none;stroke:#3f3f3f;stroke-linecap:square;stroke-width:1.5;\"/>\r\n   </g>\r\n   <g id=\"line2d_10\">\r\n    <path clip-path=\"url(#p07e50e2194)\" d=\"M 71.07324 143.1 \r\nL 123.37996 143.1 \r\n\" style=\"fill:none;stroke:#3f3f3f;stroke-linecap:square;stroke-width:1.5;\"/>\r\n   </g>\r\n   <g id=\"line2d_11\">\r\n    <path clip-path=\"url(#p07e50e2194)\" d=\"M 23.381818 88.74 \r\nL 23.381818 197.46 \r\n\" style=\"fill:none;stroke:#3f3f3f;stroke-linecap:square;stroke-width:1.5;\"/>\r\n   </g>\r\n   <g id=\"line2d_12\">\r\n    <path clip-path=\"url(#p07e50e2194)\" d=\"M 123.37996 88.74 \r\nL 123.37996 197.46 \r\n\" style=\"fill:none;stroke:#3f3f3f;stroke-linecap:square;stroke-width:1.5;\"/>\r\n   </g>\r\n   <g id=\"line2d_13\">\r\n    <defs>\r\n     <path d=\"M 0 3.535534 \r\nL 2.12132 0 \r\nL 0 -3.535534 \r\nL -2.12132 0 \r\nz\r\n\" id=\"m9489d0e2bf\" style=\"stroke:#3f3f3f;stroke-linejoin:miter;\"/>\r\n    </defs>\r\n    <g clip-path=\"url(#p07e50e2194)\">\r\n     <use style=\"fill:#3f3f3f;stroke:#3f3f3f;stroke-linejoin:miter;\" x=\"133.046396\" xlink:href=\"#m9489d0e2bf\" y=\"143.1\"/>\r\n     <use style=\"fill:#3f3f3f;stroke:#3f3f3f;stroke-linejoin:miter;\" x=\"248.794245\" xlink:href=\"#m9489d0e2bf\" y=\"143.1\"/>\r\n     <use style=\"fill:#3f3f3f;stroke:#3f3f3f;stroke-linejoin:miter;\" x=\"149.796084\" xlink:href=\"#m9489d0e2bf\" y=\"143.1\"/>\r\n     <use style=\"fill:#3f3f3f;stroke:#3f3f3f;stroke-linejoin:miter;\" x=\"141.424548\" xlink:href=\"#m9489d0e2bf\" y=\"143.1\"/>\r\n     <use style=\"fill:#3f3f3f;stroke:#3f3f3f;stroke-linejoin:miter;\" x=\"146.456454\" xlink:href=\"#m9489d0e2bf\" y=\"143.1\"/>\r\n     <use style=\"fill:#3f3f3f;stroke:#3f3f3f;stroke-linejoin:miter;\" x=\"151.802509\" xlink:href=\"#m9489d0e2bf\" y=\"143.1\"/>\r\n     <use style=\"fill:#3f3f3f;stroke:#3f3f3f;stroke-linejoin:miter;\" x=\"136.45664\" xlink:href=\"#m9489d0e2bf\" y=\"143.1\"/>\r\n     <use style=\"fill:#3f3f3f;stroke:#3f3f3f;stroke-linejoin:miter;\" x=\"142.283455\" xlink:href=\"#m9489d0e2bf\" y=\"143.1\"/>\r\n     <use style=\"fill:#3f3f3f;stroke:#3f3f3f;stroke-linejoin:miter;\" x=\"136.45664\" xlink:href=\"#m9489d0e2bf\" y=\"143.1\"/>\r\n     <use style=\"fill:#3f3f3f;stroke:#3f3f3f;stroke-linejoin:miter;\" x=\"142.283455\" xlink:href=\"#m9489d0e2bf\" y=\"143.1\"/>\r\n     <use style=\"fill:#3f3f3f;stroke:#3f3f3f;stroke-linejoin:miter;\" x=\"145.225708\" xlink:href=\"#m9489d0e2bf\" y=\"143.1\"/>\r\n     <use style=\"fill:#3f3f3f;stroke:#3f3f3f;stroke-linejoin:miter;\" x=\"125.841453\" xlink:href=\"#m9489d0e2bf\" y=\"143.1\"/>\r\n     <use style=\"fill:#3f3f3f;stroke:#3f3f3f;stroke-linejoin:miter;\" x=\"130.37983\" xlink:href=\"#m9489d0e2bf\" y=\"143.1\"/>\r\n     <use style=\"fill:#3f3f3f;stroke:#3f3f3f;stroke-linejoin:miter;\" x=\"130.37983\" xlink:href=\"#m9489d0e2bf\" y=\"143.1\"/>\r\n     <use style=\"fill:#3f3f3f;stroke:#3f3f3f;stroke-linejoin:miter;\" x=\"248.794245\" xlink:href=\"#m9489d0e2bf\" y=\"143.1\"/>\r\n     <use style=\"fill:#3f3f3f;stroke:#3f3f3f;stroke-linejoin:miter;\" x=\"130.37983\" xlink:href=\"#m9489d0e2bf\" y=\"143.1\"/>\r\n     <use style=\"fill:#3f3f3f;stroke:#3f3f3f;stroke-linejoin:miter;\" x=\"197.647811\" xlink:href=\"#m9489d0e2bf\" y=\"143.1\"/>\r\n     <use style=\"fill:#3f3f3f;stroke:#3f3f3f;stroke-linejoin:miter;\" x=\"140.751483\" xlink:href=\"#m9489d0e2bf\" y=\"143.1\"/>\r\n     <use style=\"fill:#3f3f3f;stroke:#3f3f3f;stroke-linejoin:miter;\" x=\"161.840784\" xlink:href=\"#m9489d0e2bf\" y=\"143.1\"/>\r\n     <use style=\"fill:#3f3f3f;stroke:#3f3f3f;stroke-linejoin:miter;\" x=\"151.802509\" xlink:href=\"#m9489d0e2bf\" y=\"143.1\"/>\r\n     <use style=\"fill:#3f3f3f;stroke:#3f3f3f;stroke-linejoin:miter;\" x=\"161.840784\" xlink:href=\"#m9489d0e2bf\" y=\"143.1\"/>\r\n     <use style=\"fill:#3f3f3f;stroke:#3f3f3f;stroke-linejoin:miter;\" x=\"145.225708\" xlink:href=\"#m9489d0e2bf\" y=\"143.1\"/>\r\n     <use style=\"fill:#3f3f3f;stroke:#3f3f3f;stroke-linejoin:miter;\" x=\"156.456268\" xlink:href=\"#m9489d0e2bf\" y=\"143.1\"/>\r\n     <use style=\"fill:#3f3f3f;stroke:#3f3f3f;stroke-linejoin:miter;\" x=\"145.918003\" xlink:href=\"#m9489d0e2bf\" y=\"143.1\"/>\r\n     <use style=\"fill:#3f3f3f;stroke:#3f3f3f;stroke-linejoin:miter;\" x=\"259.473585\" xlink:href=\"#m9489d0e2bf\" y=\"143.1\"/>\r\n     <use style=\"fill:#3f3f3f;stroke:#3f3f3f;stroke-linejoin:miter;\" x=\"232.044556\" xlink:href=\"#m9489d0e2bf\" y=\"143.1\"/>\r\n     <use style=\"fill:#3f3f3f;stroke:#3f3f3f;stroke-linejoin:miter;\" x=\"143.315436\" xlink:href=\"#m9489d0e2bf\" y=\"143.1\"/>\r\n     <use style=\"fill:#3f3f3f;stroke:#3f3f3f;stroke-linejoin:miter;\" x=\"144.687256\" xlink:href=\"#m9489d0e2bf\" y=\"143.1\"/>\r\n     <use style=\"fill:#3f3f3f;stroke:#3f3f3f;stroke-linejoin:miter;\" x=\"163.501061\" xlink:href=\"#m9489d0e2bf\" y=\"143.1\"/>\r\n     <use style=\"fill:#3f3f3f;stroke:#3f3f3f;stroke-linejoin:miter;\" x=\"256.531332\" xlink:href=\"#m9489d0e2bf\" y=\"143.1\"/>\r\n     <use style=\"fill:#3f3f3f;stroke:#3f3f3f;stroke-linejoin:miter;\" x=\"256.531332\" xlink:href=\"#m9489d0e2bf\" y=\"143.1\"/>\r\n     <use style=\"fill:#3f3f3f;stroke:#3f3f3f;stroke-linejoin:miter;\" x=\"193.968341\" xlink:href=\"#m9489d0e2bf\" y=\"143.1\"/>\r\n     <use style=\"fill:#3f3f3f;stroke:#3f3f3f;stroke-linejoin:miter;\" x=\"190.917166\" xlink:href=\"#m9489d0e2bf\" y=\"143.1\"/>\r\n     <use style=\"fill:#3f3f3f;stroke:#3f3f3f;stroke-linejoin:miter;\" x=\"151.315287\" xlink:href=\"#m9489d0e2bf\" y=\"143.1\"/>\r\n     <use style=\"fill:#3f3f3f;stroke:#3f3f3f;stroke-linejoin:miter;\" x=\"277.018182\" xlink:href=\"#m9489d0e2bf\" y=\"143.1\"/>\r\n     <use style=\"fill:#3f3f3f;stroke:#3f3f3f;stroke-linejoin:miter;\" x=\"230.30105\" xlink:href=\"#m9489d0e2bf\" y=\"143.1\"/>\r\n     <use style=\"fill:#3f3f3f;stroke:#3f3f3f;stroke-linejoin:miter;\" x=\"130.37983\" xlink:href=\"#m9489d0e2bf\" y=\"143.1\"/>\r\n     <use style=\"fill:#3f3f3f;stroke:#3f3f3f;stroke-linejoin:miter;\" x=\"232.044556\" xlink:href=\"#m9489d0e2bf\" y=\"143.1\"/>\r\n     <use style=\"fill:#3f3f3f;stroke:#3f3f3f;stroke-linejoin:miter;\" x=\"259.473585\" xlink:href=\"#m9489d0e2bf\" y=\"143.1\"/>\r\n     <use style=\"fill:#3f3f3f;stroke:#3f3f3f;stroke-linejoin:miter;\" x=\"228.993382\" xlink:href=\"#m9489d0e2bf\" y=\"143.1\"/>\r\n     <use style=\"fill:#3f3f3f;stroke:#3f3f3f;stroke-linejoin:miter;\" x=\"125.841453\" xlink:href=\"#m9489d0e2bf\" y=\"143.1\"/>\r\n     <use style=\"fill:#3f3f3f;stroke:#3f3f3f;stroke-linejoin:miter;\" x=\"230.30105\" xlink:href=\"#m9489d0e2bf\" y=\"143.1\"/>\r\n     <use style=\"fill:#3f3f3f;stroke:#3f3f3f;stroke-linejoin:miter;\" x=\"139.148898\" xlink:href=\"#m9489d0e2bf\" y=\"143.1\"/>\r\n     <use style=\"fill:#3f3f3f;stroke:#3f3f3f;stroke-linejoin:miter;\" x=\"129.995222\" xlink:href=\"#m9489d0e2bf\" y=\"143.1\"/>\r\n     <use style=\"fill:#3f3f3f;stroke:#3f3f3f;stroke-linejoin:miter;\" x=\"232.044556\" xlink:href=\"#m9489d0e2bf\" y=\"143.1\"/>\r\n     <use style=\"fill:#3f3f3f;stroke:#3f3f3f;stroke-linejoin:miter;\" x=\"149.796084\" xlink:href=\"#m9489d0e2bf\" y=\"143.1\"/>\r\n     <use style=\"fill:#3f3f3f;stroke:#3f3f3f;stroke-linejoin:miter;\" x=\"136.45664\" xlink:href=\"#m9489d0e2bf\" y=\"143.1\"/>\r\n     <use style=\"fill:#3f3f3f;stroke:#3f3f3f;stroke-linejoin:miter;\" x=\"207.993772\" xlink:href=\"#m9489d0e2bf\" y=\"143.1\"/>\r\n     <use style=\"fill:#3f3f3f;stroke:#3f3f3f;stroke-linejoin:miter;\" x=\"197.647811\" xlink:href=\"#m9489d0e2bf\" y=\"143.1\"/>\r\n     <use style=\"fill:#3f3f3f;stroke:#3f3f3f;stroke-linejoin:miter;\" x=\"161.840784\" xlink:href=\"#m9489d0e2bf\" y=\"143.1\"/>\r\n     <use style=\"fill:#3f3f3f;stroke:#3f3f3f;stroke-linejoin:miter;\" x=\"207.993772\" xlink:href=\"#m9489d0e2bf\" y=\"143.1\"/>\r\n     <use style=\"fill:#3f3f3f;stroke:#3f3f3f;stroke-linejoin:miter;\" x=\"149.315324\" xlink:href=\"#m9489d0e2bf\" y=\"143.1\"/>\r\n     <use style=\"fill:#3f3f3f;stroke:#3f3f3f;stroke-linejoin:miter;\" x=\"160.462655\" xlink:href=\"#m9489d0e2bf\" y=\"143.1\"/>\r\n     <use style=\"fill:#3f3f3f;stroke:#3f3f3f;stroke-linejoin:miter;\" x=\"163.501061\" xlink:href=\"#m9489d0e2bf\" y=\"143.1\"/>\r\n     <use style=\"fill:#3f3f3f;stroke:#3f3f3f;stroke-linejoin:miter;\" x=\"161.840784\" xlink:href=\"#m9489d0e2bf\" y=\"143.1\"/>\r\n     <use style=\"fill:#3f3f3f;stroke:#3f3f3f;stroke-linejoin:miter;\" x=\"143.789888\" xlink:href=\"#m9489d0e2bf\" y=\"143.1\"/>\r\n     <use style=\"fill:#3f3f3f;stroke:#3f3f3f;stroke-linejoin:miter;\" x=\"256.531332\" xlink:href=\"#m9489d0e2bf\" y=\"143.1\"/>\r\n     <use style=\"fill:#3f3f3f;stroke:#3f3f3f;stroke-linejoin:miter;\" x=\"156.456268\" xlink:href=\"#m9489d0e2bf\" y=\"143.1\"/>\r\n     <use style=\"fill:#3f3f3f;stroke:#3f3f3f;stroke-linejoin:miter;\" x=\"190.917166\" xlink:href=\"#m9489d0e2bf\" y=\"143.1\"/>\r\n     <use style=\"fill:#3f3f3f;stroke:#3f3f3f;stroke-linejoin:miter;\" x=\"167.225299\" xlink:href=\"#m9489d0e2bf\" y=\"143.1\"/>\r\n     <use style=\"fill:#3f3f3f;stroke:#3f3f3f;stroke-linejoin:miter;\" x=\"187.109545\" xlink:href=\"#m9489d0e2bf\" y=\"143.1\"/>\r\n     <use style=\"fill:#3f3f3f;stroke:#3f3f3f;stroke-linejoin:miter;\" x=\"132.610558\" xlink:href=\"#m9489d0e2bf\" y=\"143.1\"/>\r\n     <use style=\"fill:#3f3f3f;stroke:#3f3f3f;stroke-linejoin:miter;\" x=\"187.109545\" xlink:href=\"#m9489d0e2bf\" y=\"143.1\"/>\r\n     <use style=\"fill:#3f3f3f;stroke:#3f3f3f;stroke-linejoin:miter;\" x=\"193.968341\" xlink:href=\"#m9489d0e2bf\" y=\"143.1\"/>\r\n     <use style=\"fill:#3f3f3f;stroke:#3f3f3f;stroke-linejoin:miter;\" x=\"145.918003\" xlink:href=\"#m9489d0e2bf\" y=\"143.1\"/>\r\n     <use style=\"fill:#3f3f3f;stroke:#3f3f3f;stroke-linejoin:miter;\" x=\"193.968341\" xlink:href=\"#m9489d0e2bf\" y=\"143.1\"/>\r\n     <use style=\"fill:#3f3f3f;stroke:#3f3f3f;stroke-linejoin:miter;\" x=\"145.918003\" xlink:href=\"#m9489d0e2bf\" y=\"143.1\"/>\r\n     <use style=\"fill:#3f3f3f;stroke:#3f3f3f;stroke-linejoin:miter;\" x=\"145.225708\" xlink:href=\"#m9489d0e2bf\" y=\"143.1\"/>\r\n     <use style=\"fill:#3f3f3f;stroke:#3f3f3f;stroke-linejoin:miter;\" x=\"143.789888\" xlink:href=\"#m9489d0e2bf\" y=\"143.1\"/>\r\n     <use style=\"fill:#3f3f3f;stroke:#3f3f3f;stroke-linejoin:miter;\" x=\"259.473585\" xlink:href=\"#m9489d0e2bf\" y=\"143.1\"/>\r\n     <use style=\"fill:#3f3f3f;stroke:#3f3f3f;stroke-linejoin:miter;\" x=\"143.315436\" xlink:href=\"#m9489d0e2bf\" y=\"143.1\"/>\r\n     <use style=\"fill:#3f3f3f;stroke:#3f3f3f;stroke-linejoin:miter;\" x=\"129.995222\" xlink:href=\"#m9489d0e2bf\" y=\"143.1\"/>\r\n     <use style=\"fill:#3f3f3f;stroke:#3f3f3f;stroke-linejoin:miter;\" x=\"141.424548\" xlink:href=\"#m9489d0e2bf\" y=\"143.1\"/>\r\n     <use style=\"fill:#3f3f3f;stroke:#3f3f3f;stroke-linejoin:miter;\" x=\"136.45664\" xlink:href=\"#m9489d0e2bf\" y=\"143.1\"/>\r\n     <use style=\"fill:#3f3f3f;stroke:#3f3f3f;stroke-linejoin:miter;\" x=\"197.647811\" xlink:href=\"#m9489d0e2bf\" y=\"143.1\"/>\r\n     <use style=\"fill:#3f3f3f;stroke:#3f3f3f;stroke-linejoin:miter;\" x=\"228.993382\" xlink:href=\"#m9489d0e2bf\" y=\"143.1\"/>\r\n     <use style=\"fill:#3f3f3f;stroke:#3f3f3f;stroke-linejoin:miter;\" x=\"136.45664\" xlink:href=\"#m9489d0e2bf\" y=\"143.1\"/>\r\n     <use style=\"fill:#3f3f3f;stroke:#3f3f3f;stroke-linejoin:miter;\" x=\"141.424548\" xlink:href=\"#m9489d0e2bf\" y=\"143.1\"/>\r\n     <use style=\"fill:#3f3f3f;stroke:#3f3f3f;stroke-linejoin:miter;\" x=\"193.968341\" xlink:href=\"#m9489d0e2bf\" y=\"143.1\"/>\r\n     <use style=\"fill:#3f3f3f;stroke:#3f3f3f;stroke-linejoin:miter;\" x=\"256.531332\" xlink:href=\"#m9489d0e2bf\" y=\"143.1\"/>\r\n     <use style=\"fill:#3f3f3f;stroke:#3f3f3f;stroke-linejoin:miter;\" x=\"144.687256\" xlink:href=\"#m9489d0e2bf\" y=\"143.1\"/>\r\n     <use style=\"fill:#3f3f3f;stroke:#3f3f3f;stroke-linejoin:miter;\" x=\"132.610558\" xlink:href=\"#m9489d0e2bf\" y=\"143.1\"/>\r\n     <use style=\"fill:#3f3f3f;stroke:#3f3f3f;stroke-linejoin:miter;\" x=\"156.456268\" xlink:href=\"#m9489d0e2bf\" y=\"143.1\"/>\r\n     <use style=\"fill:#3f3f3f;stroke:#3f3f3f;stroke-linejoin:miter;\" x=\"207.993772\" xlink:href=\"#m9489d0e2bf\" y=\"143.1\"/>\r\n     <use style=\"fill:#3f3f3f;stroke:#3f3f3f;stroke-linejoin:miter;\" x=\"143.315436\" xlink:href=\"#m9489d0e2bf\" y=\"143.1\"/>\r\n     <use style=\"fill:#3f3f3f;stroke:#3f3f3f;stroke-linejoin:miter;\" x=\"145.225708\" xlink:href=\"#m9489d0e2bf\" y=\"143.1\"/>\r\n     <use style=\"fill:#3f3f3f;stroke:#3f3f3f;stroke-linejoin:miter;\" x=\"130.37983\" xlink:href=\"#m9489d0e2bf\" y=\"143.1\"/>\r\n     <use style=\"fill:#3f3f3f;stroke:#3f3f3f;stroke-linejoin:miter;\" x=\"207.993772\" xlink:href=\"#m9489d0e2bf\" y=\"143.1\"/>\r\n     <use style=\"fill:#3f3f3f;stroke:#3f3f3f;stroke-linejoin:miter;\" x=\"167.225299\" xlink:href=\"#m9489d0e2bf\" y=\"143.1\"/>\r\n     <use style=\"fill:#3f3f3f;stroke:#3f3f3f;stroke-linejoin:miter;\" x=\"146.456454\" xlink:href=\"#m9489d0e2bf\" y=\"143.1\"/>\r\n     <use style=\"fill:#3f3f3f;stroke:#3f3f3f;stroke-linejoin:miter;\" x=\"151.315287\" xlink:href=\"#m9489d0e2bf\" y=\"143.1\"/>\r\n     <use style=\"fill:#3f3f3f;stroke:#3f3f3f;stroke-linejoin:miter;\" x=\"130.37983\" xlink:href=\"#m9489d0e2bf\" y=\"143.1\"/>\r\n     <use style=\"fill:#3f3f3f;stroke:#3f3f3f;stroke-linejoin:miter;\" x=\"160.462655\" xlink:href=\"#m9489d0e2bf\" y=\"143.1\"/>\r\n     <use style=\"fill:#3f3f3f;stroke:#3f3f3f;stroke-linejoin:miter;\" x=\"277.018182\" xlink:href=\"#m9489d0e2bf\" y=\"143.1\"/>\r\n     <use style=\"fill:#3f3f3f;stroke:#3f3f3f;stroke-linejoin:miter;\" x=\"130.37983\" xlink:href=\"#m9489d0e2bf\" y=\"143.1\"/>\r\n     <use style=\"fill:#3f3f3f;stroke:#3f3f3f;stroke-linejoin:miter;\" x=\"151.315287\" xlink:href=\"#m9489d0e2bf\" y=\"143.1\"/>\r\n    </g>\r\n   </g>\r\n   <g id=\"line2d_14\">\r\n    <path clip-path=\"url(#p07e50e2194)\" d=\"M 45.618636 34.38 \r\nL 45.618636 251.82 \r\n\" style=\"fill:none;stroke:#3f3f3f;stroke-linecap:square;stroke-width:1.5;\"/>\r\n   </g>\r\n   <g id=\"patch_4\">\r\n    <path d=\"M 10.7 279 \r\nL 10.7 7.2 \r\n\" style=\"fill:none;stroke:#000000;stroke-linecap:square;stroke-linejoin:miter;stroke-width:0.8;\"/>\r\n   </g>\r\n   <g id=\"patch_5\">\r\n    <path d=\"M 289.7 279 \r\nL 289.7 7.2 \r\n\" style=\"fill:none;stroke:#000000;stroke-linecap:square;stroke-linejoin:miter;stroke-width:0.8;\"/>\r\n   </g>\r\n   <g id=\"patch_6\">\r\n    <path d=\"M 10.7 279 \r\nL 289.7 279 \r\n\" style=\"fill:none;stroke:#000000;stroke-linecap:square;stroke-linejoin:miter;stroke-width:0.8;\"/>\r\n   </g>\r\n   <g id=\"patch_7\">\r\n    <path d=\"M 10.7 7.2 \r\nL 289.7 7.2 \r\n\" style=\"fill:none;stroke:#000000;stroke-linecap:square;stroke-linejoin:miter;stroke-width:0.8;\"/>\r\n   </g>\r\n  </g>\r\n </g>\r\n <defs>\r\n  <clipPath id=\"p07e50e2194\">\r\n   <rect height=\"271.8\" width=\"279\" x=\"10.7\" y=\"7.2\"/>\r\n  </clipPath>\r\n </defs>\r\n</svg>\r\n",
      "text/plain": [
       "<Figure size 360x360 with 1 Axes>"
      ]
     },
     "metadata": {
      "needs_background": "light"
     },
     "output_type": "display_data"
    }
   ],
   "source": [
    "figure, axes = plt.subplots(1, 1, figsize=(5, 5)) \r\n",
    "sb.boxplot(ax=axes, x=fares) # Plot of the most significant outliers removed"
   ]
  },
  {
   "cell_type": "code",
   "execution_count": 445,
   "metadata": {},
   "outputs": [],
   "source": [
    "data_raw[\"Fare\"] = fares"
   ]
  },
  {
   "cell_type": "code",
   "execution_count": 446,
   "metadata": {},
   "outputs": [
    {
     "data": {
      "text/html": [
       "<div>\n",
       "<style scoped>\n",
       "    .dataframe tbody tr th:only-of-type {\n",
       "        vertical-align: middle;\n",
       "    }\n",
       "\n",
       "    .dataframe tbody tr th {\n",
       "        vertical-align: top;\n",
       "    }\n",
       "\n",
       "    .dataframe thead th {\n",
       "        text-align: right;\n",
       "    }\n",
       "</style>\n",
       "<table border=\"1\" class=\"dataframe\">\n",
       "  <thead>\n",
       "    <tr style=\"text-align: right;\">\n",
       "      <th></th>\n",
       "      <th>Pclass</th>\n",
       "      <th>Sex</th>\n",
       "      <th>Age</th>\n",
       "      <th>SibSp</th>\n",
       "      <th>Parch</th>\n",
       "      <th>Fare</th>\n",
       "      <th>Embarked</th>\n",
       "      <th>Family_Size</th>\n",
       "      <th>Title</th>\n",
       "    </tr>\n",
       "  </thead>\n",
       "  <tbody>\n",
       "    <tr>\n",
       "      <th>count</th>\n",
       "      <td>891.000000</td>\n",
       "      <td>891.000000</td>\n",
       "      <td>891.000000</td>\n",
       "      <td>891.000000</td>\n",
       "      <td>891.000000</td>\n",
       "      <td>891.000000</td>\n",
       "      <td>891.000000</td>\n",
       "      <td>891.000000</td>\n",
       "      <td>891.000000</td>\n",
       "    </tr>\n",
       "    <tr>\n",
       "      <th>mean</th>\n",
       "      <td>2.308642</td>\n",
       "      <td>0.352413</td>\n",
       "      <td>29.699118</td>\n",
       "      <td>0.523008</td>\n",
       "      <td>0.381594</td>\n",
       "      <td>26.657534</td>\n",
       "      <td>1.535433</td>\n",
       "      <td>0.904602</td>\n",
       "      <td>1.728395</td>\n",
       "    </tr>\n",
       "    <tr>\n",
       "      <th>std</th>\n",
       "      <td>0.836071</td>\n",
       "      <td>0.477990</td>\n",
       "      <td>13.002015</td>\n",
       "      <td>1.102743</td>\n",
       "      <td>0.806057</td>\n",
       "      <td>29.031704</td>\n",
       "      <td>0.791197</td>\n",
       "      <td>1.613459</td>\n",
       "      <td>1.030039</td>\n",
       "    </tr>\n",
       "    <tr>\n",
       "      <th>min</th>\n",
       "      <td>1.000000</td>\n",
       "      <td>0.000000</td>\n",
       "      <td>0.420000</td>\n",
       "      <td>0.000000</td>\n",
       "      <td>0.000000</td>\n",
       "      <td>0.000000</td>\n",
       "      <td>0.000000</td>\n",
       "      <td>0.000000</td>\n",
       "      <td>1.000000</td>\n",
       "    </tr>\n",
       "    <tr>\n",
       "      <th>25%</th>\n",
       "      <td>2.000000</td>\n",
       "      <td>0.000000</td>\n",
       "      <td>22.000000</td>\n",
       "      <td>0.000000</td>\n",
       "      <td>0.000000</td>\n",
       "      <td>7.910400</td>\n",
       "      <td>1.000000</td>\n",
       "      <td>0.000000</td>\n",
       "      <td>1.000000</td>\n",
       "    </tr>\n",
       "    <tr>\n",
       "      <th>50%</th>\n",
       "      <td>3.000000</td>\n",
       "      <td>0.000000</td>\n",
       "      <td>29.699118</td>\n",
       "      <td>0.000000</td>\n",
       "      <td>0.000000</td>\n",
       "      <td>14.454200</td>\n",
       "      <td>2.000000</td>\n",
       "      <td>0.000000</td>\n",
       "      <td>1.000000</td>\n",
       "    </tr>\n",
       "    <tr>\n",
       "      <th>75%</th>\n",
       "      <td>3.000000</td>\n",
       "      <td>1.000000</td>\n",
       "      <td>35.000000</td>\n",
       "      <td>1.000000</td>\n",
       "      <td>0.000000</td>\n",
       "      <td>31.000000</td>\n",
       "      <td>2.000000</td>\n",
       "      <td>1.000000</td>\n",
       "      <td>2.000000</td>\n",
       "    </tr>\n",
       "    <tr>\n",
       "      <th>max</th>\n",
       "      <td>3.000000</td>\n",
       "      <td>1.000000</td>\n",
       "      <td>80.000000</td>\n",
       "      <td>8.000000</td>\n",
       "      <td>6.000000</td>\n",
       "      <td>164.866700</td>\n",
       "      <td>2.000000</td>\n",
       "      <td>10.000000</td>\n",
       "      <td>5.000000</td>\n",
       "    </tr>\n",
       "  </tbody>\n",
       "</table>\n",
       "</div>"
      ],
      "text/plain": [
       "           Pclass         Sex         Age       SibSp       Parch        Fare  \\\n",
       "count  891.000000  891.000000  891.000000  891.000000  891.000000  891.000000   \n",
       "mean     2.308642    0.352413   29.699118    0.523008    0.381594   26.657534   \n",
       "std      0.836071    0.477990   13.002015    1.102743    0.806057   29.031704   \n",
       "min      1.000000    0.000000    0.420000    0.000000    0.000000    0.000000   \n",
       "25%      2.000000    0.000000   22.000000    0.000000    0.000000    7.910400   \n",
       "50%      3.000000    0.000000   29.699118    0.000000    0.000000   14.454200   \n",
       "75%      3.000000    1.000000   35.000000    1.000000    0.000000   31.000000   \n",
       "max      3.000000    1.000000   80.000000    8.000000    6.000000  164.866700   \n",
       "\n",
       "         Embarked  Family_Size       Title  \n",
       "count  891.000000   891.000000  891.000000  \n",
       "mean     1.535433     0.904602    1.728395  \n",
       "std      0.791197     1.613459    1.030039  \n",
       "min      0.000000     0.000000    1.000000  \n",
       "25%      1.000000     0.000000    1.000000  \n",
       "50%      2.000000     0.000000    1.000000  \n",
       "75%      2.000000     1.000000    2.000000  \n",
       "max      2.000000    10.000000    5.000000  "
      ]
     },
     "execution_count": 446,
     "metadata": {},
     "output_type": "execute_result"
    }
   ],
   "source": [
    "data_raw.describe()"
   ]
  },
  {
   "cell_type": "code",
   "execution_count": 447,
   "metadata": {},
   "outputs": [],
   "source": [
    "X_train, X_test, y_train, y_test = train_test_split(data_raw, target, test_size=0.15, stratify=target)"
   ]
  },
  {
   "cell_type": "code",
   "execution_count": 448,
   "metadata": {},
   "outputs": [
    {
     "name": "stdout",
     "output_type": "stream",
     "text": [
      "(0.8955223880597015, 67, RandomForestClassifier(n_estimators=67))\n"
     ]
    }
   ],
   "source": [
    "# Create many RF classifiers with different amount of estimators\n",
    "rfcs = []\n",
    "for i in range(1, 101):\n",
    "    rfc = RandomForestClassifier(n_estimators=i)\n",
    "    rfc.fit(X_train, y_train)\n",
    "    rfcs.append(rfc)\n",
    "    \n",
    "# Calculate scores for each RFC to try to find the \"best\" (by accuracy)\n",
    "rfcs_accs = []\n",
    "for rfc in rfcs:\n",
    "    accuracy = rfc.score(X_test, y_test)\n",
    "    rfcs_accs.append((accuracy, rfc.n_estimators, rfc))\n",
    "rfcs_accs = sorted(rfcs_accs, key=lambda x: x[0])\n",
    "best_rfc_tuple = rfcs_accs[len(rfcs_accs) - 1]\n",
    "print(best_rfc_tuple) # Best rated RFC"
   ]
  },
  {
   "cell_type": "code",
   "execution_count": 449,
   "metadata": {},
   "outputs": [
    {
     "name": "stdout",
     "output_type": "stream",
     "text": [
      "(0.8208955223880597, 9, KNeighborsClassifier(n_neighbors=9))\n"
     ]
    }
   ],
   "source": [
    "# Create many KNN classifiers with different amount of estimators\n",
    "knncs = []\n",
    "for i in range(1, 51):\n",
    "    knnc = KNeighborsClassifier(n_neighbors=i)\n",
    "    knnc.fit(X_train, y_train)\n",
    "    knncs.append(knnc)\n",
    "    \n",
    "# Calculate scores for each KNNC to try to find the \"best\" (by accuracy)\n",
    "knnc_accs = []\n",
    "for knnc in knncs:\n",
    "    accuracy = knnc.score(X_test, y_test)\n",
    "    knnc_accs.append((accuracy, knnc.n_neighbors, knnc))\n",
    "knnc_accs = sorted(knnc_accs, key=lambda x: x[0])\n",
    "best_knnc_tuple = knnc_accs[len(knnc_accs) - 1]\n",
    "print(best_knnc_tuple) # Best rated KNNC"
   ]
  },
  {
   "cell_type": "code",
   "execution_count": 450,
   "metadata": {},
   "outputs": [
    {
     "name": "stdout",
     "output_type": "stream",
     "text": [
      "(0.8955223880597015, 100, AdaBoostClassifier(n_estimators=100))\n"
     ]
    }
   ],
   "source": [
    "# Create many AdaBoost classifiers with different amount of estimators\n",
    "adaboostcs = []\n",
    "for i in range(1, 101):\n",
    "    adaboostc = AdaBoostClassifier(n_estimators=i)\n",
    "    adaboostc.fit(X_train, y_train)\n",
    "    adaboostcs.append(adaboostc)\n",
    "    \n",
    "# Calculate scores for each AdaBoost classifieer to try to find the \"best\" (by accuracy)\n",
    "adaboostc_accs = []\n",
    "for adaboostc in adaboostcs:\n",
    "    accuracy = adaboostc.score(X_test, y_test)\n",
    "    adaboostc_accs.append((accuracy, adaboostc.n_estimators, adaboostc))\n",
    "adaboostc_accs = sorted(adaboostc_accs, key=lambda x: x[0])\n",
    "best_adaboostc_tuple = adaboostc_accs[len(adaboostc_accs) - 1]\n",
    "print(best_adaboostc_tuple) # Best rated AdaBoost classifier"
   ]
  },
  {
   "cell_type": "code",
   "execution_count": 451,
   "metadata": {},
   "outputs": [
    {
     "name": "stdout",
     "output_type": "stream",
     "text": [
      "Final classifier type: <class 'sklearn.ensemble._weight_boosting.AdaBoostClassifier'>\n"
     ]
    }
   ],
   "source": [
    "clfs = [best_rfc_tuple, best_knnc_tuple, best_adaboostc_tuple]\n",
    "clfs = sorted(clfs, key=lambda x: x[0])\n",
    "final_clf = clfs[len(clfs) - 1][2]\n",
    "print(f\"Final classifier type: {type(final_clf)}\")\n",
    "prediction = final_clf.predict(test)"
   ]
  },
  {
   "cell_type": "code",
   "execution_count": 452,
   "metadata": {},
   "outputs": [
    {
     "data": {
      "text/html": [
       "<div>\n",
       "<style scoped>\n",
       "    .dataframe tbody tr th:only-of-type {\n",
       "        vertical-align: middle;\n",
       "    }\n",
       "\n",
       "    .dataframe tbody tr th {\n",
       "        vertical-align: top;\n",
       "    }\n",
       "\n",
       "    .dataframe thead th {\n",
       "        text-align: right;\n",
       "    }\n",
       "</style>\n",
       "<table border=\"1\" class=\"dataframe\">\n",
       "  <thead>\n",
       "    <tr style=\"text-align: right;\">\n",
       "      <th></th>\n",
       "      <th>PassengerId</th>\n",
       "      <th>Survived</th>\n",
       "    </tr>\n",
       "  </thead>\n",
       "  <tbody>\n",
       "    <tr>\n",
       "      <th>count</th>\n",
       "      <td>418.000000</td>\n",
       "      <td>418.000000</td>\n",
       "    </tr>\n",
       "    <tr>\n",
       "      <th>mean</th>\n",
       "      <td>1100.500000</td>\n",
       "      <td>0.401914</td>\n",
       "    </tr>\n",
       "    <tr>\n",
       "      <th>std</th>\n",
       "      <td>120.810458</td>\n",
       "      <td>0.490872</td>\n",
       "    </tr>\n",
       "    <tr>\n",
       "      <th>min</th>\n",
       "      <td>892.000000</td>\n",
       "      <td>0.000000</td>\n",
       "    </tr>\n",
       "    <tr>\n",
       "      <th>25%</th>\n",
       "      <td>996.250000</td>\n",
       "      <td>0.000000</td>\n",
       "    </tr>\n",
       "    <tr>\n",
       "      <th>50%</th>\n",
       "      <td>1100.500000</td>\n",
       "      <td>0.000000</td>\n",
       "    </tr>\n",
       "    <tr>\n",
       "      <th>75%</th>\n",
       "      <td>1204.750000</td>\n",
       "      <td>1.000000</td>\n",
       "    </tr>\n",
       "    <tr>\n",
       "      <th>max</th>\n",
       "      <td>1309.000000</td>\n",
       "      <td>1.000000</td>\n",
       "    </tr>\n",
       "  </tbody>\n",
       "</table>\n",
       "</div>"
      ],
      "text/plain": [
       "       PassengerId    Survived\n",
       "count   418.000000  418.000000\n",
       "mean   1100.500000    0.401914\n",
       "std     120.810458    0.490872\n",
       "min     892.000000    0.000000\n",
       "25%     996.250000    0.000000\n",
       "50%    1100.500000    0.000000\n",
       "75%    1204.750000    1.000000\n",
       "max    1309.000000    1.000000"
      ]
     },
     "execution_count": 452,
     "metadata": {},
     "output_type": "execute_result"
    }
   ],
   "source": [
    "data = { \"PassengerId\" : pass_ids_test, \"Survived\": prediction }\n",
    "result = pd.DataFrame(data)\n",
    "result.describe()"
   ]
  },
  {
   "cell_type": "code",
   "execution_count": 453,
   "metadata": {},
   "outputs": [
    {
     "data": {
      "text/html": [
       "<div>\n",
       "<style scoped>\n",
       "    .dataframe tbody tr th:only-of-type {\n",
       "        vertical-align: middle;\n",
       "    }\n",
       "\n",
       "    .dataframe tbody tr th {\n",
       "        vertical-align: top;\n",
       "    }\n",
       "\n",
       "    .dataframe thead th {\n",
       "        text-align: right;\n",
       "    }\n",
       "</style>\n",
       "<table border=\"1\" class=\"dataframe\">\n",
       "  <thead>\n",
       "    <tr style=\"text-align: right;\">\n",
       "      <th></th>\n",
       "      <th>PassengerId</th>\n",
       "      <th>Survived</th>\n",
       "    </tr>\n",
       "  </thead>\n",
       "  <tbody>\n",
       "    <tr>\n",
       "      <th>0</th>\n",
       "      <td>892</td>\n",
       "      <td>0</td>\n",
       "    </tr>\n",
       "    <tr>\n",
       "      <th>1</th>\n",
       "      <td>893</td>\n",
       "      <td>0</td>\n",
       "    </tr>\n",
       "    <tr>\n",
       "      <th>2</th>\n",
       "      <td>894</td>\n",
       "      <td>1</td>\n",
       "    </tr>\n",
       "    <tr>\n",
       "      <th>3</th>\n",
       "      <td>895</td>\n",
       "      <td>0</td>\n",
       "    </tr>\n",
       "    <tr>\n",
       "      <th>4</th>\n",
       "      <td>896</td>\n",
       "      <td>1</td>\n",
       "    </tr>\n",
       "  </tbody>\n",
       "</table>\n",
       "</div>"
      ],
      "text/plain": [
       "   PassengerId  Survived\n",
       "0          892         0\n",
       "1          893         0\n",
       "2          894         1\n",
       "3          895         0\n",
       "4          896         1"
      ]
     },
     "execution_count": 453,
     "metadata": {},
     "output_type": "execute_result"
    }
   ],
   "source": [
    "result.head()"
   ]
  },
  {
   "cell_type": "code",
   "execution_count": 454,
   "metadata": {},
   "outputs": [],
   "source": [
    "result.to_csv(\"result.csv\", index=False)"
   ]
  }
 ],
 "metadata": {
  "interpreter": {
   "hash": "1218f8633f43367309b170999cb90479aaeb899dcd8661bd99535d7fc903351d"
  },
  "kernelspec": {
   "display_name": "Python 3.9.5 64-bit",
   "name": "python3"
  },
  "language_info": {
   "name": "python",
   "version": ""
  },
  "metadata": {
   "interpreter": {
    "hash": "1218f8633f43367309b170999cb90479aaeb899dcd8661bd99535d7fc903351d"
   }
  },
  "orig_nbformat": 2
 },
 "nbformat": 4,
 "nbformat_minor": 2
}