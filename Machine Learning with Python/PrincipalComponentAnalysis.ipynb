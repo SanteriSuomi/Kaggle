{
 "cells": [
  {
   "cell_type": "code",
   "execution_count": 40,
   "metadata": {},
   "outputs": [],
   "source": [
    "import pandas as pd\r\n",
    "import numpy as np\r\n",
    "import matplotlib.pyplot as plt\r\n",
    "from sklearn.preprocessing import StandardScaler\r\n",
    "from sklearn.decomposition import PCA\r\n",
    "from sklearn.ensemble import RandomForestClassifier\r\n",
    "from sklearn.model_selection import train_test_split, RandomizedSearchCV"
   ]
  },
  {
   "cell_type": "code",
   "execution_count": 41,
   "metadata": {},
   "outputs": [
    {
     "data": {
      "text/html": [
       "<div>\n",
       "<style scoped>\n",
       "    .dataframe tbody tr th:only-of-type {\n",
       "        vertical-align: middle;\n",
       "    }\n",
       "\n",
       "    .dataframe tbody tr th {\n",
       "        vertical-align: top;\n",
       "    }\n",
       "\n",
       "    .dataframe thead th {\n",
       "        text-align: right;\n",
       "    }\n",
       "</style>\n",
       "<table border=\"1\" class=\"dataframe\">\n",
       "  <thead>\n",
       "    <tr style=\"text-align: right;\">\n",
       "      <th></th>\n",
       "      <th>ID</th>\n",
       "      <th>diagnosis</th>\n",
       "      <th>Attr1</th>\n",
       "      <th>Attr2</th>\n",
       "      <th>Attr3</th>\n",
       "      <th>Attr4</th>\n",
       "      <th>Attr5</th>\n",
       "      <th>Attr6</th>\n",
       "      <th>Attr7</th>\n",
       "      <th>Attr8</th>\n",
       "      <th>...</th>\n",
       "      <th>Attr21</th>\n",
       "      <th>Attr22</th>\n",
       "      <th>Attr23</th>\n",
       "      <th>Attr24</th>\n",
       "      <th>Attr25</th>\n",
       "      <th>Attr26</th>\n",
       "      <th>Attr27</th>\n",
       "      <th>Attr28</th>\n",
       "      <th>Attr29</th>\n",
       "      <th>Attr30</th>\n",
       "    </tr>\n",
       "  </thead>\n",
       "  <tbody>\n",
       "    <tr>\n",
       "      <th>0</th>\n",
       "      <td>842302</td>\n",
       "      <td>M</td>\n",
       "      <td>17.99</td>\n",
       "      <td>10.38</td>\n",
       "      <td>122.80</td>\n",
       "      <td>1001.0</td>\n",
       "      <td>0.11840</td>\n",
       "      <td>0.27760</td>\n",
       "      <td>0.3001</td>\n",
       "      <td>0.14710</td>\n",
       "      <td>...</td>\n",
       "      <td>25.38</td>\n",
       "      <td>17.33</td>\n",
       "      <td>184.60</td>\n",
       "      <td>2019.0</td>\n",
       "      <td>0.1622</td>\n",
       "      <td>0.6656</td>\n",
       "      <td>0.7119</td>\n",
       "      <td>0.2654</td>\n",
       "      <td>0.4601</td>\n",
       "      <td>0.11890</td>\n",
       "    </tr>\n",
       "    <tr>\n",
       "      <th>1</th>\n",
       "      <td>842517</td>\n",
       "      <td>M</td>\n",
       "      <td>20.57</td>\n",
       "      <td>17.77</td>\n",
       "      <td>132.90</td>\n",
       "      <td>1326.0</td>\n",
       "      <td>0.08474</td>\n",
       "      <td>0.07864</td>\n",
       "      <td>0.0869</td>\n",
       "      <td>0.07017</td>\n",
       "      <td>...</td>\n",
       "      <td>24.99</td>\n",
       "      <td>23.41</td>\n",
       "      <td>158.80</td>\n",
       "      <td>1956.0</td>\n",
       "      <td>0.1238</td>\n",
       "      <td>0.1866</td>\n",
       "      <td>0.2416</td>\n",
       "      <td>0.1860</td>\n",
       "      <td>0.2750</td>\n",
       "      <td>0.08902</td>\n",
       "    </tr>\n",
       "    <tr>\n",
       "      <th>2</th>\n",
       "      <td>84300903</td>\n",
       "      <td>M</td>\n",
       "      <td>19.69</td>\n",
       "      <td>21.25</td>\n",
       "      <td>130.00</td>\n",
       "      <td>1203.0</td>\n",
       "      <td>0.10960</td>\n",
       "      <td>0.15990</td>\n",
       "      <td>0.1974</td>\n",
       "      <td>0.12790</td>\n",
       "      <td>...</td>\n",
       "      <td>23.57</td>\n",
       "      <td>25.53</td>\n",
       "      <td>152.50</td>\n",
       "      <td>1709.0</td>\n",
       "      <td>0.1444</td>\n",
       "      <td>0.4245</td>\n",
       "      <td>0.4504</td>\n",
       "      <td>0.2430</td>\n",
       "      <td>0.3613</td>\n",
       "      <td>0.08758</td>\n",
       "    </tr>\n",
       "    <tr>\n",
       "      <th>3</th>\n",
       "      <td>84348301</td>\n",
       "      <td>M</td>\n",
       "      <td>11.42</td>\n",
       "      <td>20.38</td>\n",
       "      <td>77.58</td>\n",
       "      <td>386.1</td>\n",
       "      <td>0.14250</td>\n",
       "      <td>0.28390</td>\n",
       "      <td>0.2414</td>\n",
       "      <td>0.10520</td>\n",
       "      <td>...</td>\n",
       "      <td>14.91</td>\n",
       "      <td>26.50</td>\n",
       "      <td>98.87</td>\n",
       "      <td>567.7</td>\n",
       "      <td>0.2098</td>\n",
       "      <td>0.8663</td>\n",
       "      <td>0.6869</td>\n",
       "      <td>0.2575</td>\n",
       "      <td>0.6638</td>\n",
       "      <td>0.17300</td>\n",
       "    </tr>\n",
       "    <tr>\n",
       "      <th>4</th>\n",
       "      <td>84358402</td>\n",
       "      <td>M</td>\n",
       "      <td>20.29</td>\n",
       "      <td>14.34</td>\n",
       "      <td>135.10</td>\n",
       "      <td>1297.0</td>\n",
       "      <td>0.10030</td>\n",
       "      <td>0.13280</td>\n",
       "      <td>0.1980</td>\n",
       "      <td>0.10430</td>\n",
       "      <td>...</td>\n",
       "      <td>22.54</td>\n",
       "      <td>16.67</td>\n",
       "      <td>152.20</td>\n",
       "      <td>1575.0</td>\n",
       "      <td>0.1374</td>\n",
       "      <td>0.2050</td>\n",
       "      <td>0.4000</td>\n",
       "      <td>0.1625</td>\n",
       "      <td>0.2364</td>\n",
       "      <td>0.07678</td>\n",
       "    </tr>\n",
       "  </tbody>\n",
       "</table>\n",
       "<p>5 rows × 32 columns</p>\n",
       "</div>"
      ],
      "text/plain": [
       "         ID diagnosis  Attr1  Attr2   Attr3   Attr4    Attr5    Attr6   Attr7  \\\n",
       "0    842302         M  17.99  10.38  122.80  1001.0  0.11840  0.27760  0.3001   \n",
       "1    842517         M  20.57  17.77  132.90  1326.0  0.08474  0.07864  0.0869   \n",
       "2  84300903         M  19.69  21.25  130.00  1203.0  0.10960  0.15990  0.1974   \n",
       "3  84348301         M  11.42  20.38   77.58   386.1  0.14250  0.28390  0.2414   \n",
       "4  84358402         M  20.29  14.34  135.10  1297.0  0.10030  0.13280  0.1980   \n",
       "\n",
       "     Attr8  ...  Attr21  Attr22  Attr23  Attr24  Attr25  Attr26  Attr27  \\\n",
       "0  0.14710  ...   25.38   17.33  184.60  2019.0  0.1622  0.6656  0.7119   \n",
       "1  0.07017  ...   24.99   23.41  158.80  1956.0  0.1238  0.1866  0.2416   \n",
       "2  0.12790  ...   23.57   25.53  152.50  1709.0  0.1444  0.4245  0.4504   \n",
       "3  0.10520  ...   14.91   26.50   98.87   567.7  0.2098  0.8663  0.6869   \n",
       "4  0.10430  ...   22.54   16.67  152.20  1575.0  0.1374  0.2050  0.4000   \n",
       "\n",
       "   Attr28  Attr29   Attr30  \n",
       "0  0.2654  0.4601  0.11890  \n",
       "1  0.1860  0.2750  0.08902  \n",
       "2  0.2430  0.3613  0.08758  \n",
       "3  0.2575  0.6638  0.17300  \n",
       "4  0.1625  0.2364  0.07678  \n",
       "\n",
       "[5 rows x 32 columns]"
      ]
     },
     "execution_count": 41,
     "metadata": {},
     "output_type": "execute_result"
    }
   ],
   "source": [
    "data = pd.read_csv(\"breast_cancer.csv\")\r\n",
    "data.head()"
   ]
  },
  {
   "cell_type": "code",
   "execution_count": 42,
   "metadata": {},
   "outputs": [],
   "source": [
    "data.drop(\"ID\", axis=1, inplace=True) # Drop ID as it is not relevant information\r\n",
    "y = data.pop(\"diagnosis\")\r\n",
    "y.replace([\"B\", \"M\"], [0, 1], inplace=True)"
   ]
  },
  {
   "cell_type": "code",
   "execution_count": 43,
   "metadata": {},
   "outputs": [],
   "source": [
    "scaler = StandardScaler()\r\n",
    "X_scaled = scaler.fit_transform(data)"
   ]
  },
  {
   "cell_type": "code",
   "execution_count": 44,
   "metadata": {},
   "outputs": [
    {
     "name": "stdout",
     "output_type": "stream",
     "text": [
      "PCA dimension variance ratio: [44.27202561 18.97118204  9.39316326]\n",
      "Total: 72.6363709087928\n",
      "Percentage of data not explained by dimensions:  27.3636290912072\n"
     ]
    }
   ],
   "source": [
    "pca = PCA(n_components=3) # Reduce the dimensions of the data down to 3\r\n",
    "X_pca = pca.fit_transform(X_scaled)\r\n",
    "\r\n",
    "total = sum(pca.explained_variance_ratio_) * 100\r\n",
    "print(f\"\"\"PCA dimension variance ratio: {pca.explained_variance_ratio_ * 100}\r\n",
    "Total: {total}\r\n",
    "Percentage of data not explained by dimensions:  {100 - total}\"\"\")"
   ]
  },
  {
   "cell_type": "code",
   "execution_count": 45,
   "metadata": {},
   "outputs": [
    {
     "data": {
      "image/png": "[encoded data removed]",
      "text/plain": [
       "<Figure size 432x288 with 1 Axes>"
      ]
     },
     "metadata": {
      "needs_background": "light"
     },
     "output_type": "display_data"
    }
   ],
   "source": [
    "fig = plt.figure()\r\n",
    "ax = fig.add_subplot(projection=\"3d\")\r\n",
    "ax.scatter(X_pca[y==0, 0], X_pca[y==0, 1], X_pca[y==0, 2], label=\"Benign\")\r\n",
    "ax.scatter(X_pca[y==1, 0], X_pca[y==1, 1], X_pca[y==1, 2], label=\"Malignant\")\r\n",
    "ax.legend()\r\n",
    "plt.show()\r\n"
   ]
  },
  {
   "cell_type": "code",
   "execution_count": 46,
   "metadata": {},
   "outputs": [],
   "source": [
    "X_train, X_test, y_train, y_test \\\r\n",
    "= train_test_split(X_scaled, y, test_size=0.25, stratify=y) # Non-dimensionality reduced data\r\n",
    "\r\n",
    "X_train_pca, X_test_pca, y_train_pca, y_test_pca \\\r\n",
    "= train_test_split(X_pca, y, test_size=0.25, stratify=y) # Dimensionality reduced data (to 3)"
   ]
  },
  {
   "cell_type": "code",
   "execution_count": 47,
   "metadata": {},
   "outputs": [
    {
     "name": "stdout",
     "output_type": "stream",
     "text": [
      "Best params for X_train:\n",
      "{'n_estimators': 35, 'min_samples_split': 2, 'min_samples_leaf': 4, 'max_features': 'log2', 'max_depth': None, 'criterion': 'gini'}\n",
      "Best params for X_train_pca:\n",
      "{'n_estimators': 220, 'min_samples_split': 2, 'min_samples_leaf': 1, 'max_features': None, 'max_depth': 40, 'criterion': 'gini'}\n"
     ]
    }
   ],
   "source": [
    "n_estimators = np.arange(5, 500, step=5)\r\n",
    "criterion = [\"gini\", \"entropy\"]\r\n",
    "max_depth = list(np.arange(5, 50, step=5)) + [None]\r\n",
    "min_samples_split = np.arange(2, 10, step=2)\r\n",
    "min_samples_leaf = np.arange(1, 5, step=1)\r\n",
    "max_features = [\"auto\", \"sqrt\", \"log2\", None]\r\n",
    "\r\n",
    "param_grid = {\r\n",
    "    \"n_estimators\" : n_estimators,\r\n",
    "    \"criterion\" : criterion,\r\n",
    "    \"max_depth\" : max_depth,\r\n",
    "    \"min_samples_split\" : min_samples_split,\r\n",
    "    \"min_samples_leaf\" : min_samples_leaf,\r\n",
    "    \"max_features\" : max_features\r\n",
    "}\r\n",
    "\r\n",
    "random_cv_x = RandomizedSearchCV(RandomForestClassifier(), param_grid, n_iter=200, cv=3, scoring=\"accuracy\", \r\n",
    "n_jobs=-1)\r\n",
    "random_cv_x.fit(X_train, y_train)\r\n",
    "\r\n",
    "random_cv_x_pca = RandomizedSearchCV(RandomForestClassifier(), param_grid, n_iter=200, cv=3, scoring=\"accuracy\", \r\n",
    "n_jobs=-1)\r\n",
    "random_cv_x_pca.fit(X_train_pca, y_train_pca)\r\n",
    "\r\n",
    "print(f\"\"\"Best params for X_train:\r\n",
    "{random_cv_x.best_params_}\r\n",
    "Best params for X_train_pca:\r\n",
    "{random_cv_x_pca.best_params_}\"\"\")"
   ]
  },
  {
   "cell_type": "code",
   "execution_count": 67,
   "metadata": {},
   "outputs": [
    {
     "data": {
      "text/plain": [
       "RandomForestClassifier(max_features='log2', min_samples_leaf=4, n_estimators=35)"
      ]
     },
     "execution_count": 67,
     "metadata": {},
     "output_type": "execute_result"
    }
   ],
   "source": [
    "rfc = RandomForestClassifier(n_estimators=35, criterion=\"gini\", min_samples_split=2, min_samples_leaf=4, max_features=\"log2\", max_depth=None)\r\n",
    "rfc.fit(X_train, y_train)"
   ]
  },
  {
   "cell_type": "code",
   "execution_count": 68,
   "metadata": {},
   "outputs": [
    {
     "data": {
      "text/plain": [
       "RandomForestClassifier(max_depth=40, max_features=None, n_estimators=220)"
      ]
     },
     "execution_count": 68,
     "metadata": {},
     "output_type": "execute_result"
    }
   ],
   "source": [
    "rfc_pca = RandomForestClassifier(n_estimators=220, criterion=\"gini\", min_samples_split=2, min_samples_leaf=1, max_features=None, max_depth=40)\r\n",
    "rfc_pca.fit(X_train_pca, y_train_pca)"
   ]
  },
  {
   "cell_type": "code",
   "execution_count": 70,
   "metadata": {},
   "outputs": [
    {
     "name": "stdout",
     "output_type": "stream",
     "text": [
      "Testing accuracy on non-dimensionality reduced data: 0.9370629370629371\n",
      "Testing accuracy on dimensionality reduced data: 0.9440559440559441\n"
     ]
    }
   ],
   "source": [
    "print(f\"\"\"Testing accuracy on non-dimensionality reduced data: {rfc.score(X_test, y_test)}\r\n",
    "Testing accuracy on dimensionality reduced data: {rfc_pca.score(X_test_pca, y_test_pca)}\"\"\")"
   ]
  }
 ],
 "metadata": {
  "interpreter": {
   "hash": "1218f8633f43367309b170999cb90479aaeb899dcd8661bd99535d7fc903351d"
  },
  "kernelspec": {
   "display_name": "Python 3.9.5 64-bit",
   "name": "python3"
  },
  "language_info": {
   "codemirror_mode": {
    "name": "ipython",
    "version": 3
   },
   "file_extension": ".py",
   "mimetype": "text/x-python",
   "name": "python",
   "nbconvert_exporter": "python",
   "pygments_lexer": "ipython3",
   "version": "3.9.5"
  },
  "orig_nbformat": 2
 },
 "nbformat": 4,
 "nbformat_minor": 2
}