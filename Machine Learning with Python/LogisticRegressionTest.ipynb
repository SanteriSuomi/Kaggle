{
 "metadata": {
  "language_info": {
   "codemirror_mode": {
    "name": "ipython",
    "version": 3
   },
   "file_extension": ".py",
   "mimetype": "text/x-python",
   "name": "python",
   "nbconvert_exporter": "python",
   "pygments_lexer": "ipython3",
   "version": "3.9.5"
  },
  "orig_nbformat": 2,
  "kernelspec": {
   "name": "python395jvsc74a57bd01218f8633f43367309b170999cb90479aaeb899dcd8661bd99535d7fc903351d",
   "display_name": "Python 3.9.5 64-bit"
  },
  "metadata": {
   "interpreter": {
    "hash": "1218f8633f43367309b170999cb90479aaeb899dcd8661bd99535d7fc903351d"
   }
  }
 },
 "nbformat": 4,
 "nbformat_minor": 2,
 "cells": [
  {
   "cell_type": "code",
   "execution_count": 551,
   "metadata": {},
   "outputs": [],
   "source": [
    "import pandas as pd\n",
    "import math\n",
    "from sklearn.preprocessing import StandardScaler\n",
    "from sklearn.linear_model import LogisticRegression"
   ]
  },
  {
   "cell_type": "code",
   "execution_count": 552,
   "metadata": {},
   "outputs": [],
   "source": [
    "data = pd.read_csv(\"breast_cancer.csv\")\n",
    "classes = {\n",
    "    0 : \"benign\",\n",
    "    1 : \"malignant\"\n",
    "}"
   ]
  },
  {
   "cell_type": "code",
   "execution_count": 553,
   "metadata": {},
   "outputs": [],
   "source": [
    "target = data[\"diagnosis\"].replace([\"M\", \"B\"], [1, 0]) # Separate diagnosis (target labels) from the features, and replace them with their arithmetic equivalents (required for the algorithm itself).\n",
    "data.drop(\"diagnosis\", axis=1, inplace=True)\n",
    "data.drop(\"ID\", axis=1, inplace=True)"
   ]
  },
  {
   "cell_type": "code",
   "execution_count": 554,
   "metadata": {},
   "outputs": [
    {
     "output_type": "execute_result",
     "data": {
      "text/plain": [
       "   Attr1  Attr2   Attr3   Attr4    Attr5    Attr6   Attr7    Attr8   Attr9  \\\n",
       "0  17.99  10.38  122.80  1001.0  0.11840  0.27760  0.3001  0.14710  0.2419   \n",
       "1  20.57  17.77  132.90  1326.0  0.08474  0.07864  0.0869  0.07017  0.1812   \n",
       "2  19.69  21.25  130.00  1203.0  0.10960  0.15990  0.1974  0.12790  0.2069   \n",
       "3  11.42  20.38   77.58   386.1  0.14250  0.28390  0.2414  0.10520  0.2597   \n",
       "4  20.29  14.34  135.10  1297.0  0.10030  0.13280  0.1980  0.10430  0.1809   \n",
       "\n",
       "    Attr10  ...  Attr21  Attr22  Attr23  Attr24  Attr25  Attr26  Attr27  \\\n",
       "0  0.07871  ...   25.38   17.33  184.60  2019.0  0.1622  0.6656  0.7119   \n",
       "1  0.05667  ...   24.99   23.41  158.80  1956.0  0.1238  0.1866  0.2416   \n",
       "2  0.05999  ...   23.57   25.53  152.50  1709.0  0.1444  0.4245  0.4504   \n",
       "3  0.09744  ...   14.91   26.50   98.87   567.7  0.2098  0.8663  0.6869   \n",
       "4  0.05883  ...   22.54   16.67  152.20  1575.0  0.1374  0.2050  0.4000   \n",
       "\n",
       "   Attr28  Attr29   Attr30  \n",
       "0  0.2654  0.4601  0.11890  \n",
       "1  0.1860  0.2750  0.08902  \n",
       "2  0.2430  0.3613  0.08758  \n",
       "3  0.2575  0.6638  0.17300  \n",
       "4  0.1625  0.2364  0.07678  \n",
       "\n",
       "[5 rows x 30 columns]"
      ],
      "text/html": "<div>\n<style scoped>\n    .dataframe tbody tr th:only-of-type {\n        vertical-align: middle;\n    }\n\n    .dataframe tbody tr th {\n        vertical-align: top;\n    }\n\n    .dataframe thead th {\n        text-align: right;\n    }\n</style>\n<table border=\"1\" class=\"dataframe\">\n  <thead>\n    <tr style=\"text-align: right;\">\n      <th></th>\n      <th>Attr1</th>\n      <th>Attr2</th>\n      <th>Attr3</th>\n      <th>Attr4</th>\n      <th>Attr5</th>\n      <th>Attr6</th>\n      <th>Attr7</th>\n      <th>Attr8</th>\n      <th>Attr9</th>\n      <th>Attr10</th>\n      <th>...</th>\n      <th>Attr21</th>\n      <th>Attr22</th>\n      <th>Attr23</th>\n      <th>Attr24</th>\n      <th>Attr25</th>\n      <th>Attr26</th>\n      <th>Attr27</th>\n      <th>Attr28</th>\n      <th>Attr29</th>\n      <th>Attr30</th>\n    </tr>\n  </thead>\n  <tbody>\n    <tr>\n      <th>0</th>\n      <td>17.99</td>\n      <td>10.38</td>\n      <td>122.80</td>\n      <td>1001.0</td>\n      <td>0.11840</td>\n      <td>0.27760</td>\n      <td>0.3001</td>\n      <td>0.14710</td>\n      <td>0.2419</td>\n      <td>0.07871</td>\n      <td>...</td>\n      <td>25.38</td>\n      <td>17.33</td>\n      <td>184.60</td>\n      <td>2019.0</td>\n      <td>0.1622</td>\n      <td>0.6656</td>\n      <td>0.7119</td>\n      <td>0.2654</td>\n      <td>0.4601</td>\n      <td>0.11890</td>\n    </tr>\n    <tr>\n      <th>1</th>\n      <td>20.57</td>\n      <td>17.77</td>\n      <td>132.90</td>\n      <td>1326.0</td>\n      <td>0.08474</td>\n      <td>0.07864</td>\n      <td>0.0869</td>\n      <td>0.07017</td>\n      <td>0.1812</td>\n      <td>0.05667</td>\n      <td>...</td>\n      <td>24.99</td>\n      <td>23.41</td>\n      <td>158.80</td>\n      <td>1956.0</td>\n      <td>0.1238</td>\n      <td>0.1866</td>\n      <td>0.2416</td>\n      <td>0.1860</td>\n      <td>0.2750</td>\n      <td>0.08902</td>\n    </tr>\n    <tr>\n      <th>2</th>\n      <td>19.69</td>\n      <td>21.25</td>\n      <td>130.00</td>\n      <td>1203.0</td>\n      <td>0.10960</td>\n      <td>0.15990</td>\n      <td>0.1974</td>\n      <td>0.12790</td>\n      <td>0.2069</td>\n      <td>0.05999</td>\n      <td>...</td>\n      <td>23.57</td>\n      <td>25.53</td>\n      <td>152.50</td>\n      <td>1709.0</td>\n      <td>0.1444</td>\n      <td>0.4245</td>\n      <td>0.4504</td>\n      <td>0.2430</td>\n      <td>0.3613</td>\n      <td>0.08758</td>\n    </tr>\n    <tr>\n      <th>3</th>\n      <td>11.42</td>\n      <td>20.38</td>\n      <td>77.58</td>\n      <td>386.1</td>\n      <td>0.14250</td>\n      <td>0.28390</td>\n      <td>0.2414</td>\n      <td>0.10520</td>\n      <td>0.2597</td>\n      <td>0.09744</td>\n      <td>...</td>\n      <td>14.91</td>\n      <td>26.50</td>\n      <td>98.87</td>\n      <td>567.7</td>\n      <td>0.2098</td>\n      <td>0.8663</td>\n      <td>0.6869</td>\n      <td>0.2575</td>\n      <td>0.6638</td>\n      <td>0.17300</td>\n    </tr>\n    <tr>\n      <th>4</th>\n      <td>20.29</td>\n      <td>14.34</td>\n      <td>135.10</td>\n      <td>1297.0</td>\n      <td>0.10030</td>\n      <td>0.13280</td>\n      <td>0.1980</td>\n      <td>0.10430</td>\n      <td>0.1809</td>\n      <td>0.05883</td>\n      <td>...</td>\n      <td>22.54</td>\n      <td>16.67</td>\n      <td>152.20</td>\n      <td>1575.0</td>\n      <td>0.1374</td>\n      <td>0.2050</td>\n      <td>0.4000</td>\n      <td>0.1625</td>\n      <td>0.2364</td>\n      <td>0.07678</td>\n    </tr>\n  </tbody>\n</table>\n<p>5 rows × 30 columns</p>\n</div>"
     },
     "metadata": {},
     "execution_count": 554
    }
   ],
   "source": [
    "data.head()"
   ]
  },
  {
   "cell_type": "code",
   "execution_count": 555,
   "metadata": {},
   "outputs": [
    {
     "output_type": "execute_result",
     "data": {
      "text/plain": [
       "0    1\n",
       "1    1\n",
       "2    1\n",
       "3    1\n",
       "4    1\n",
       "Name: diagnosis, dtype: int64"
      ]
     },
     "metadata": {},
     "execution_count": 555
    }
   ],
   "source": [
    "target.head()"
   ]
  },
  {
   "cell_type": "code",
   "execution_count": 556,
   "metadata": {},
   "outputs": [
    {
     "output_type": "stream",
     "name": "stdout",
     "text": [
      "Before standandization:\n\n   Attr1  Attr2   Attr3   Attr4    Attr5\n0  17.99  10.38  122.80  1001.0  0.11840\n1  20.57  17.77  132.90  1326.0  0.08474\n2  19.69  21.25  130.00  1203.0  0.10960\n3  11.42  20.38   77.58   386.1  0.14250\n4  20.29  14.34  135.10  1297.0  0.10030\n"
     ]
    }
   ],
   "source": [
    "# \n",
    "print(f\"\"\"Before standandization:\n",
    "\n",
    "{data.iloc[0:5,0:5]}\"\"\")"
   ]
  },
  {
   "cell_type": "code",
   "execution_count": 557,
   "metadata": {},
   "outputs": [],
   "source": [
    "# Standardize the dataset. After the standardization, each column in the dataset will have a mean of 0 and a standard deviation of 1. This means that the data is distributed more equally in similar ranges. Some algorithms require this.\n",
    "scaler = StandardScaler()\n",
    "data = scaler.fit_transform(data) # Fit data (calculate mean and standard deviation of each column) with data and transform data at the same time"
   ]
  },
  {
   "cell_type": "code",
   "execution_count": 558,
   "metadata": {},
   "outputs": [
    {
     "output_type": "stream",
     "name": "stdout",
     "text": [
      "After standardization:\n\n[[ 1.09706398 -2.07333501  1.26993369  0.9843749   1.56846633]\n [ 1.82982061 -0.35363241  1.68595471  1.90870825 -0.82696245]\n [ 1.57988811  0.45618695  1.56650313  1.55888363  0.94221044]\n [-0.76890929  0.25373211 -0.59268717 -0.76446379  3.28355348]\n [ 1.75029663 -1.15181643  1.77657315  1.82622928  0.28037183]]\n"
     ]
    }
   ],
   "source": [
    "print(f\"\"\"After standardization:\n",
    "\n",
    "{data[0:5,0:5]}\"\"\")"
   ]
  },
  {
   "cell_type": "code",
   "execution_count": 559,
   "metadata": {},
   "outputs": [
    {
     "output_type": "execute_result",
     "data": {
      "text/plain": [
       "LogisticRegression(solver='liblinear')"
      ]
     },
     "metadata": {},
     "execution_count": 559
    }
   ],
   "source": [
    "log_reg = LogisticRegression(solver=\"liblinear\")\n",
    "log_reg.fit(data, target)"
   ]
  },
  {
   "cell_type": "code",
   "execution_count": 560,
   "metadata": {},
   "outputs": [
    {
     "output_type": "stream",
     "name": "stdout",
     "text": [
      "[ 0.35372245  0.3850941   0.34237238  0.44138446  0.15523716 -0.5681635\n  0.8685186   0.96811443 -0.07328189 -0.31122062  1.29527365 -0.26995006\n  0.6662383   1.02954508  0.2812678  -0.74241788 -0.11352258  0.32006685\n -0.28982672 -0.67152689  1.0304876   1.3131883   0.82563973  1.02915516\n  0.67185301 -0.04896119  0.87162239  0.91131563  0.8839543   0.48354624]\n-0.17993455017700494\n"
     ]
    }
   ],
   "source": [
    "weights = log_reg.coef_[0] # Model coefficients or weights learned from inputs\n",
    "bias = log_reg.intercept_[0] # Intercept, also called the bias-term or offset, represents the value of around which the data has a tendency of centering values around. This bias-term is included in the equation to remove any offset, so it data starts at 0.\n",
    "print(f\"\"\"{weights}\n",
    "{bias}\"\"\")"
   ]
  },
  {
   "cell_type": "code",
   "execution_count": 561,
   "metadata": {},
   "outputs": [
    {
     "output_type": "stream",
     "name": "stdout",
     "text": [
      "Actual label of sample: 0, benign\nPredicted label of sample: 0, benign\n\nActual label of sample: 1, malignant\nPredicted label of sample: 1, malignant\n\nActual label of sample: 1, malignant\nPredicted label of sample: 0, benign\n\n"
     ]
    }
   ],
   "source": [
    "data_test = data[49:50,:]\n",
    "prediction_test = log_reg.predict(data_test)\n",
    "print(f\"\"\"Actual label of sample: {target[49]}, {classes[target[49]]}\n",
    "Predicted label of sample: {prediction_test[0]}, {classes[prediction_test[0]]}\n",
    "\"\"\")\n",
    "\n",
    "data_test = data[99:100,:]\n",
    "prediction_test = log_reg.predict(data_test)\n",
    "print(f\"\"\"Actual label of sample: {target[99]}, {classes[target[99]]}\n",
    "Predicted label of sample: {prediction_test[0]}, {classes[prediction_test[0]]}\n",
    "\"\"\")\n",
    "\n",
    "data_test = data[73:74,:]\n",
    "prediction_test = log_reg.predict(data_test)\n",
    "print(f\"\"\"Actual label of sample: {target[73]}, {classes[target[73]]}\n",
    "Predicted label of sample: {prediction_test[0]}, {classes[prediction_test[0]]}\n",
    "\"\"\")\n",
    "\n",
    "#True negatives: correctly predicted negatives (actual y=0, predicted = 0)\n",
    "#True positives: correctly predicted positives (actual y=1, predicted = 1)\n",
    "#False negatives: incorrectly predicted negatives (actual y=1, predicted = 0)\n",
    "#False positives: incorrectly predicted positives (actual y=0, predicted = 1)"
   ]
  },
  {
   "cell_type": "code",
   "execution_count": 562,
   "metadata": {},
   "outputs": [
    {
     "output_type": "stream",
     "name": "stdout",
     "text": [
      "99%\n"
     ]
    }
   ],
   "source": [
    "score = log_reg.score(data, target) # Score, or accuracy of the classifier\n",
    "print(f\"{math.ceil(score * 100)}%\")"
   ]
  }
 ]
}